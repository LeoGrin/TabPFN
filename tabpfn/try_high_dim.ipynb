{
 "cells": [
  {
   "cell_type": "code",
   "execution_count": 1,
   "metadata": {},
   "outputs": [],
   "source": [
    "from tabpfn.scripts.transformer_prediction_interface import TabPFNClassifier\n",
    "from create_model import load_model_no_train\n"
   ]
  },
  {
   "cell_type": "code",
   "execution_count": null,
   "metadata": {},
   "outputs": [],
   "source": []
  },
  {
   "cell_type": "code",
   "execution_count": 5,
   "metadata": {},
   "outputs": [
    {
     "name": "stdout",
     "output_type": "stream",
     "text": [
      "Using style prior: True\n",
      "{'recompute_attn': True}\n",
      "Using cuda:3 device\n",
      "Batch size: 1\n",
      "DataLoader.__dict__ {'num_features': 100, 'num_steps': 8192, 'batch_size': 1, 'eval_pos_seq_len_sampler': <function create_model.<locals>.eval_pos_seq_len_sampler at 0x7f93ed329dc0>, 'seq_len_maximum': 10, 'device': 'cuda:3', 'get_batch_kwargs': {'hyperparameters': {'lr': 0.0001, 'dropout': 0.0, 'emsize': 512, 'batch_size': 1, 'nlayers': 12, 'num_features': 100, 'nhead': 4, 'nhid_factor': 2, 'bptt': 10, 'eval_positions': [972], 'seq_len_used': 50, 'sampling': 'mixed', 'epochs': 400, 'num_steps': 8192, 'verbose': False, 'mix_activations': True, 'nan_prob_unknown_reason_reason_prior': 1.0, 'categorical_feature_p': 0.2, 'nan_prob_no_reason': 0.0, 'nan_prob_unknown_reason': 0.0, 'nan_prob_a_reason': 0.0, 'max_num_classes': 10, 'num_classes': 2, 'noise_type': 'Gaussian', 'balanced': False, 'normalize_to_ranking': False, 'set_value_to_nan': 0.1, 'normalize_by_used_features': True, 'num_features_used': <function load_model_no_train.<locals>.<lambda> at 0x7f947c45d430>, 'num_categorical_features_sampler_a': -1.0, 'differentiable_hyperparameters': {'distribution': 'uniform', 'min': 1000000.0, 'max': 1000001.0}, 'prior_type': 'prior_bag', 'differentiable': True, 'flexible': True, 'aggregate_k_gradients': 8, 'recompute_attn': True, 'bptt_extra_samples': None, 'dynamic_batch_size': False, 'multiclass_loss_type': 'nono', 'output_multiclass_ordered_p': 0.0, 'normalize_with_sqrt': False, 'new_mlp_per_example': True, 'prior_mlp_scale_weights_sqrt': True, 'batch_size_per_gp_sample': None, 'normalize_ignore_label_too': True, 'differentiable_hps_as_style': False, 'max_eval_pos': 1000, 'random_feature_rotation': True, 'rotate_normalized_labels': True, 'canonical_y_encoder': False, 'total_available_time_in_s': None, 'train_mixed_precision': True, 'efficient_eval_masking': True, 'multiclass_type': 'rank', 'done_part_in_training': 0.8425, 'categorical_features_sampler': <function load_model_no_train.<locals>.<lambda> at 0x7f947c4a0d30>, 'num_features_used_in_training': '<function <lambda>.<locals>.<lambda> at 0x7fc575dfb5e0>', 'num_classes_in_training': '<function <lambda>.<locals>.<lambda> at 0x7fc575dfb550>', 'batch_size_in_training': 8, 'bptt_in_training': 1024, 'bptt_extra_samples_in_training': None, 'prior_bag_get_batch': (<function get_model_no_train.<locals>.make_get_batch.<locals>.new_get_batch at 0x7f93ed329820>, <function get_model_no_train.<locals>.make_get_batch.<locals>.new_get_batch at 0x7f93ed329b80>), 'prior_bag_exp_weights_1': 2.0, 'normalize_labels': True, 'check_is_compatible': True}, 'batch_size_per_gp_sample': None, 'get_batch': <function get_model_no_train.<locals>.make_get_batch.<locals>.new_get_batch at 0x7f93ed329c10>, 'differentiable_hyperparameters': {'prior_bag_exp_weights_1': {'distribution': 'uniform', 'min': 1000000.0, 'max': 1000001.0}, 'num_layers': {'distribution': 'meta_trunc_norm_log_scaled', 'max_mean': 6, 'min_mean': 1, 'round': True, 'lower_bound': 2}, 'prior_mlp_hidden_dim': {'distribution': 'meta_trunc_norm_log_scaled', 'max_mean': 130, 'min_mean': 5, 'round': True, 'lower_bound': 4}, 'prior_mlp_dropout_prob': {'distribution': 'meta_beta', 'scale': 0.9, 'min': 0.1, 'max': 5.0}, 'noise_std': {'distribution': 'meta_trunc_norm_log_scaled', 'max_mean': 0.3, 'min_mean': 0.0001, 'round': False, 'lower_bound': 0.0}, 'init_std': {'distribution': 'meta_trunc_norm_log_scaled', 'max_mean': 10.0, 'min_mean': 0.01, 'round': False, 'lower_bound': 0.0}, 'num_causes': {'distribution': 'meta_trunc_norm_log_scaled', 'max_mean': 12, 'min_mean': 1, 'round': True, 'lower_bound': 1}, 'is_causal': {'distribution': 'meta_choice', 'choice_values': [True, False]}, 'pre_sample_weights': {'distribution': 'meta_choice', 'choice_values': [True, False]}, 'y_is_effect': {'distribution': 'meta_choice', 'choice_values': [True, False]}, 'prior_mlp_activations': {'distribution': 'meta_choice_mixed', 'choice_values': [<class 'torch.nn.modules.activation.Tanh'>, <class 'torch.nn.modules.activation.Tanh'>, <class 'torch.nn.modules.activation.Tanh'>, <class 'torch.nn.modules.activation.Tanh'>], 'choice_values_used': [\"<class 'torch.nn.modules.activation.Tanh'>\", \"<class 'torch.nn.modules.linear.Identity'>\", '<function get_diff_causal.<locals>.<lambda> at 0x7fc575dfb670>', \"<class 'torch.nn.modules.activation.ELU'>\"]}, 'block_wise_dropout': {'distribution': 'meta_choice', 'choice_values': [True, False]}, 'sort_features': {'distribution': 'meta_choice', 'choice_values': [True, False]}, 'in_clique': {'distribution': 'meta_choice', 'choice_values': [True, False]}, 'sampling': {'distribution': 'meta_choice', 'choice_values': ['normal', 'mixed']}, 'pre_sample_causes': {'distribution': 'meta_choice', 'choice_values': [True, False]}, 'outputscale': {'distribution': 'meta_trunc_norm_log_scaled', 'max_mean': 10.0, 'min_mean': 1e-05, 'round': False, 'lower_bound': 0}, 'lengthscale': {'distribution': 'meta_trunc_norm_log_scaled', 'max_mean': 10.0, 'min_mean': 1e-05, 'round': False, 'lower_bound': 0}, 'noise': {'distribution': 'meta_choice', 'choice_values': [1e-05, 0.0001, 0.01]}, 'multiclass_type': {'distribution': 'meta_choice', 'choice_values': ['value', 'rank']}}}, 'get_batch_method': <function get_batch at 0x7f922d6ebee0>, 'model': None, 'epoch': 0, 'step': 0, 'test_loader': False}\n",
      "Using a Transformer with 25.82 M parameters\n",
      "Using style prior: True\n",
      "{'recompute_attn': True}\n",
      "Using 0 device\n",
      "Batch size: 1\n",
      "DataLoader.__dict__ {'num_features': 100, 'num_steps': 65536, 'batch_size': 1, 'eval_pos_seq_len_sampler': <function create_model.<locals>.eval_pos_seq_len_sampler at 0x7f93ed329dc0>, 'seq_len_maximum': 10, 'device': 0, 'get_batch_kwargs': {'hyperparameters': {'lr': 0.0001, 'dropout': 0.0, 'emsize': 512, 'batch_size': 1, 'nlayers': 12, 'num_features': 100, 'nhead': 4, 'nhid_factor': 2, 'bptt': 10, 'eval_positions': [9], 'seq_len_used': 50, 'sampling': 'mixed', 'epochs': 400, 'num_steps': 65536, 'verbose': False, 'mix_activations': True, 'nan_prob_unknown_reason_reason_prior': 1.0, 'categorical_feature_p': 0.2, 'nan_prob_no_reason': 0.0, 'nan_prob_unknown_reason': 0.0, 'nan_prob_a_reason': 0.0, 'max_num_classes': 10, 'num_classes': 2, 'noise_type': 'Gaussian', 'balanced': False, 'normalize_to_ranking': False, 'set_value_to_nan': 0.1, 'normalize_by_used_features': True, 'num_features_used': <function load_model_no_train.<locals>.<lambda> at 0x7f947c4a0d30>, 'num_categorical_features_sampler_a': -1.0, 'differentiable_hyperparameters': {'distribution': 'uniform', 'min': 1000000.0, 'max': 1000001.0}, 'prior_type': 'prior_bag', 'differentiable': True, 'flexible': True, 'aggregate_k_gradients': 8, 'recompute_attn': True, 'bptt_extra_samples': None, 'dynamic_batch_size': False, 'multiclass_loss_type': 'nono', 'output_multiclass_ordered_p': 0.0, 'normalize_with_sqrt': False, 'new_mlp_per_example': True, 'prior_mlp_scale_weights_sqrt': True, 'batch_size_per_gp_sample': None, 'normalize_ignore_label_too': True, 'differentiable_hps_as_style': False, 'max_eval_pos': 1000, 'random_feature_rotation': True, 'rotate_normalized_labels': True, 'canonical_y_encoder': False, 'total_available_time_in_s': None, 'train_mixed_precision': True, 'efficient_eval_masking': True, 'multiclass_type': 'rank', 'done_part_in_training': 0.8425, 'categorical_features_sampler': <function load_model_no_train.<locals>.<lambda> at 0x7f93ed3299d0>, 'num_features_used_in_training': <function load_model_no_train.<locals>.<lambda> at 0x7f947c45d430>, 'num_classes_in_training': 2, 'batch_size_in_training': 1, 'bptt_in_training': 10, 'bptt_extra_samples_in_training': None, 'name': 'default', 'use_wandb': False, 'save_every': 100, 'prior_bag_get_batch': (<function get_model_no_train.<locals>.make_get_batch.<locals>.new_get_batch at 0x7f93ed329af0>, <function get_model_no_train.<locals>.make_get_batch.<locals>.new_get_batch at 0x7f93ed329b80>), 'prior_bag_exp_weights_1': 2.0, 'normalize_labels': True, 'check_is_compatible': True}, 'batch_size_per_gp_sample': None, 'get_batch': <function get_model_no_train.<locals>.make_get_batch.<locals>.new_get_batch at 0x7f93ed329700>, 'differentiable_hyperparameters': {'prior_bag_exp_weights_1': {'distribution': 'uniform', 'min': 1000000.0, 'max': 1000001.0}, 'num_layers': {'distribution': 'meta_trunc_norm_log_scaled', 'max_mean': 6, 'min_mean': 1, 'round': True, 'lower_bound': 2}, 'prior_mlp_hidden_dim': {'distribution': 'meta_trunc_norm_log_scaled', 'max_mean': 130, 'min_mean': 5, 'round': True, 'lower_bound': 4}, 'prior_mlp_dropout_prob': {'distribution': 'meta_beta', 'scale': 0.9, 'min': 0.1, 'max': 5.0}, 'noise_std': {'distribution': 'meta_trunc_norm_log_scaled', 'max_mean': 0.3, 'min_mean': 0.0001, 'round': False, 'lower_bound': 0.0}, 'init_std': {'distribution': 'meta_trunc_norm_log_scaled', 'max_mean': 10.0, 'min_mean': 0.01, 'round': False, 'lower_bound': 0.0}, 'num_causes': {'distribution': 'meta_trunc_norm_log_scaled', 'max_mean': 12, 'min_mean': 1, 'round': True, 'lower_bound': 1}, 'is_causal': {'distribution': 'meta_choice', 'choice_values': [True, False]}, 'pre_sample_weights': {'distribution': 'meta_choice', 'choice_values': [True, False]}, 'y_is_effect': {'distribution': 'meta_choice', 'choice_values': [True, False]}, 'prior_mlp_activations': {'distribution': 'meta_choice_mixed', 'choice_values': [<class 'torch.nn.modules.activation.Tanh'>, <class 'torch.nn.modules.activation.Tanh'>, <class 'torch.nn.modules.activation.Tanh'>, <class 'torch.nn.modules.activation.Tanh'>], 'choice_values_used': [<class 'torch.nn.modules.activation.Tanh'>, <class 'torch.nn.modules.activation.Tanh'>, <class 'torch.nn.modules.activation.Tanh'>, <class 'torch.nn.modules.activation.Tanh'>]}, 'block_wise_dropout': {'distribution': 'meta_choice', 'choice_values': [True, False]}, 'sort_features': {'distribution': 'meta_choice', 'choice_values': [True, False]}, 'in_clique': {'distribution': 'meta_choice', 'choice_values': [True, False]}, 'sampling': {'distribution': 'meta_choice', 'choice_values': ['normal', 'mixed']}, 'pre_sample_causes': {'distribution': 'meta_choice', 'choice_values': [True, False]}, 'outputscale': {'distribution': 'meta_trunc_norm_log_scaled', 'max_mean': 10.0, 'min_mean': 1e-05, 'round': False, 'lower_bound': 0}, 'lengthscale': {'distribution': 'meta_trunc_norm_log_scaled', 'max_mean': 10.0, 'min_mean': 1e-05, 'round': False, 'lower_bound': 0}, 'noise': {'distribution': 'meta_choice', 'choice_values': [1e-05, 0.0001, 0.01]}, 'multiclass_type': {'distribution': 'meta_choice', 'choice_values': ['value', 'rank']}}}, 'get_batch_method': <function get_batch at 0x7f922d6ebee0>, 'model': None, 'epoch': 0, 'step': 0, 'test_loader': False}\n",
      "Using a Transformer with 25.82 M parameters\n"
     ]
    }
   ],
   "source": [
    "device = \"cuda:3\"\n",
    "#checkpoint = \"linear12903_50\"\n",
    "#checkpoint = \"linear77575_fxj5a68i_390\"\n",
    "#checkpoint = \"linear69376_okcpk2bv_170\"\n",
    "checkpoint = \"linear26134_390\"\n",
    "model = TabPFNClassifier(device=device, no_preprocess_mode=True)\n",
    "#model = GradientBoostingClassifier()\n",
    "config = model.c\n",
    "config[\"num_features\"] = 100\n",
    "model_pytorch = load_model_no_train(\"tabpfn/model_checkpoints\", f\"model_{checkpoint}.pt\", 0, config, 0)[0]\n",
    "model.max_num_features = 100\n",
    "model.model = model_pytorch"
   ]
  },
  {
   "cell_type": "code",
   "execution_count": 7,
   "metadata": {},
   "outputs": [],
   "source": [
    "import pandas as pd\n",
    "# import train_test_split\n",
    "from sklearn.model_selection import train_test_split\n",
    "\n",
    "df = pd.read_csv(\"tabpfn/prostate.csv\")"
   ]
  },
  {
   "cell_type": "code",
   "execution_count": 8,
   "metadata": {},
   "outputs": [],
   "source": [
    "X, y = df.drop(columns=[\"y\"]), df[\"y\"]"
   ]
  },
  {
   "cell_type": "code",
   "execution_count": 9,
   "metadata": {},
   "outputs": [],
   "source": [
    "X_train, X_test, y_train, y_test = train_test_split(X, y, test_size=0.2, random_state=42)"
   ]
  },
  {
   "cell_type": "code",
   "execution_count": 14,
   "metadata": {},
   "outputs": [],
   "source": [
    "X_train = X_train[X_train.columns[:5000]]\n",
    "X_test = X_test[X_test.columns[:5000]]"
   ]
  },
  {
   "cell_type": "code",
   "execution_count": 15,
   "metadata": {},
   "outputs": [
    {
     "data": {
      "text/html": [
       "<style>#sk-container-id-1 {color: black;background-color: white;}#sk-container-id-1 pre{padding: 0;}#sk-container-id-1 div.sk-toggleable {background-color: white;}#sk-container-id-1 label.sk-toggleable__label {cursor: pointer;display: block;width: 100%;margin-bottom: 0;padding: 0.3em;box-sizing: border-box;text-align: center;}#sk-container-id-1 label.sk-toggleable__label-arrow:before {content: \"▸\";float: left;margin-right: 0.25em;color: #696969;}#sk-container-id-1 label.sk-toggleable__label-arrow:hover:before {color: black;}#sk-container-id-1 div.sk-estimator:hover label.sk-toggleable__label-arrow:before {color: black;}#sk-container-id-1 div.sk-toggleable__content {max-height: 0;max-width: 0;overflow: hidden;text-align: left;background-color: #f0f8ff;}#sk-container-id-1 div.sk-toggleable__content pre {margin: 0.2em;color: black;border-radius: 0.25em;background-color: #f0f8ff;}#sk-container-id-1 input.sk-toggleable__control:checked~div.sk-toggleable__content {max-height: 200px;max-width: 100%;overflow: auto;}#sk-container-id-1 input.sk-toggleable__control:checked~label.sk-toggleable__label-arrow:before {content: \"▾\";}#sk-container-id-1 div.sk-estimator input.sk-toggleable__control:checked~label.sk-toggleable__label {background-color: #d4ebff;}#sk-container-id-1 div.sk-label input.sk-toggleable__control:checked~label.sk-toggleable__label {background-color: #d4ebff;}#sk-container-id-1 input.sk-hidden--visually {border: 0;clip: rect(1px 1px 1px 1px);clip: rect(1px, 1px, 1px, 1px);height: 1px;margin: -1px;overflow: hidden;padding: 0;position: absolute;width: 1px;}#sk-container-id-1 div.sk-estimator {font-family: monospace;background-color: #f0f8ff;border: 1px dotted black;border-radius: 0.25em;box-sizing: border-box;margin-bottom: 0.5em;}#sk-container-id-1 div.sk-estimator:hover {background-color: #d4ebff;}#sk-container-id-1 div.sk-parallel-item::after {content: \"\";width: 100%;border-bottom: 1px solid gray;flex-grow: 1;}#sk-container-id-1 div.sk-label:hover label.sk-toggleable__label {background-color: #d4ebff;}#sk-container-id-1 div.sk-serial::before {content: \"\";position: absolute;border-left: 1px solid gray;box-sizing: border-box;top: 0;bottom: 0;left: 50%;z-index: 0;}#sk-container-id-1 div.sk-serial {display: flex;flex-direction: column;align-items: center;background-color: white;padding-right: 0.2em;padding-left: 0.2em;position: relative;}#sk-container-id-1 div.sk-item {position: relative;z-index: 1;}#sk-container-id-1 div.sk-parallel {display: flex;align-items: stretch;justify-content: center;background-color: white;position: relative;}#sk-container-id-1 div.sk-item::before, #sk-container-id-1 div.sk-parallel-item::before {content: \"\";position: absolute;border-left: 1px solid gray;box-sizing: border-box;top: 0;bottom: 0;left: 50%;z-index: -1;}#sk-container-id-1 div.sk-parallel-item {display: flex;flex-direction: column;z-index: 1;position: relative;background-color: white;}#sk-container-id-1 div.sk-parallel-item:first-child::after {align-self: flex-end;width: 50%;}#sk-container-id-1 div.sk-parallel-item:last-child::after {align-self: flex-start;width: 50%;}#sk-container-id-1 div.sk-parallel-item:only-child::after {width: 0;}#sk-container-id-1 div.sk-dashed-wrapped {border: 1px dashed gray;margin: 0 0.4em 0.5em 0.4em;box-sizing: border-box;padding-bottom: 0.4em;background-color: white;}#sk-container-id-1 div.sk-label label {font-family: monospace;font-weight: bold;display: inline-block;line-height: 1.2em;}#sk-container-id-1 div.sk-label-container {text-align: center;}#sk-container-id-1 div.sk-container {/* jupyter's `normalize.less` sets `[hidden] { display: none; }` but bootstrap.min.css set `[hidden] { display: none !important; }` so we also need the `!important` here to be able to override the default hidden behavior on the sphinx rendered scikit-learn.org. See: https://github.com/scikit-learn/scikit-learn/issues/21755 */display: inline-block !important;position: relative;}#sk-container-id-1 div.sk-text-repr-fallback {display: none;}</style><div id=\"sk-container-id-1\" class=\"sk-top-container\"><div class=\"sk-text-repr-fallback\"><pre>TabPFNClassifier(device=&#x27;cuda:3&#x27;)</pre><b>In a Jupyter environment, please rerun this cell to show the HTML representation or trust the notebook. <br />On GitHub, the HTML representation is unable to render, please try loading this page with nbviewer.org.</b></div><div class=\"sk-container\" hidden><div class=\"sk-item\"><div class=\"sk-estimator sk-toggleable\"><input class=\"sk-toggleable__control sk-hidden--visually\" id=\"sk-estimator-id-1\" type=\"checkbox\" checked><label for=\"sk-estimator-id-1\" class=\"sk-toggleable__label sk-toggleable__label-arrow\">TabPFNClassifier</label><div class=\"sk-toggleable__content\"><pre>TabPFNClassifier(device=&#x27;cuda:3&#x27;)</pre></div></div></div></div></div>"
      ],
      "text/plain": [
       "TabPFNClassifier(device='cuda:3')"
      ]
     },
     "execution_count": 15,
     "metadata": {},
     "output_type": "execute_result"
    }
   ],
   "source": [
    "model.fit(X_train, y_train)"
   ]
  },
  {
   "cell_type": "code",
   "execution_count": 16,
   "metadata": {},
   "outputs": [
    {
     "name": "stdout",
     "output_type": "stream",
     "text": [
      "interface\n",
      "torch.Size([102, 1, 5000])\n",
      "torch.Size([102, 1])\n",
      "81\n"
     ]
    },
    {
     "data": {
      "text/plain": [
       "0.42857142857142855"
      ]
     },
     "execution_count": 16,
     "metadata": {},
     "output_type": "execute_result"
    }
   ],
   "source": [
    "# compute accuracy\n",
    "model.score(X_test, y_test)"
   ]
  },
  {
   "cell_type": "code",
   "execution_count": 17,
   "metadata": {},
   "outputs": [
    {
     "name": "stdout",
     "output_type": "stream",
     "text": [
      "interface\n",
      "torch.Size([102, 1, 5000])\n",
      "torch.Size([102, 1])\n",
      "81\n"
     ]
    },
    {
     "data": {
      "text/plain": [
       "array([1, 0, 1, 1, 1, 1, 1, 1, 1, 1, 0, 1, 1, 1, 1, 0, 1, 1, 1, 1, 1])"
      ]
     },
     "execution_count": 17,
     "metadata": {},
     "output_type": "execute_result"
    }
   ],
   "source": [
    "model.predict(X_test)"
   ]
  },
  {
   "cell_type": "code",
   "execution_count": 19,
   "metadata": {},
   "outputs": [
    {
     "ename": "ValueError",
     "evalue": "all the input array dimensions for the concatenation axis must match exactly, but along dimension 1, the array at index 0 has size 6033 and the array at index 1 has size 10000",
     "output_type": "error",
     "traceback": [
      "\u001b[0;31m---------------------------------------------------------------------------\u001b[0m",
      "\u001b[0;31mValueError\u001b[0m                                Traceback (most recent call last)",
      "Cell \u001b[0;32mIn[19], line 1\u001b[0m\n\u001b[0;32m----> 1\u001b[0m model\u001b[39m.\u001b[39;49mpredict_proba(X_test)\n",
      "File \u001b[0;32m/storage/store/work/lgrinszt/TabPFN/tabpfn/scripts/transformer_prediction_interface.py:248\u001b[0m, in \u001b[0;36mTabPFNClassifier.predict_proba\u001b[0;34m(self, X, normalize_with_test, return_logits)\u001b[0m\n\u001b[1;32m    246\u001b[0m \u001b[39mif\u001b[39;00m \u001b[39mself\u001b[39m\u001b[39m.\u001b[39mno_grad:\n\u001b[1;32m    247\u001b[0m     X \u001b[39m=\u001b[39m check_array(X, force_all_finite\u001b[39m=\u001b[39m\u001b[39mFalse\u001b[39;00m)\n\u001b[0;32m--> 248\u001b[0m     X_full \u001b[39m=\u001b[39m np\u001b[39m.\u001b[39;49mconcatenate([\u001b[39mself\u001b[39;49m\u001b[39m.\u001b[39;49mX_, X], axis\u001b[39m=\u001b[39;49m\u001b[39m0\u001b[39;49m)\n\u001b[1;32m    249\u001b[0m     X_full \u001b[39m=\u001b[39m torch\u001b[39m.\u001b[39mtensor(X_full, device\u001b[39m=\u001b[39m\u001b[39mself\u001b[39m\u001b[39m.\u001b[39mdevice)\u001b[39m.\u001b[39mfloat()\u001b[39m.\u001b[39munsqueeze(\u001b[39m1\u001b[39m)\n\u001b[1;32m    250\u001b[0m \u001b[39melse\u001b[39;00m:\n",
      "File \u001b[0;32m<__array_function__ internals>:180\u001b[0m, in \u001b[0;36mconcatenate\u001b[0;34m(*args, **kwargs)\u001b[0m\n",
      "\u001b[0;31mValueError\u001b[0m: all the input array dimensions for the concatenation axis must match exactly, but along dimension 1, the array at index 0 has size 6033 and the array at index 1 has size 10000"
     ]
    }
   ],
   "source": [
    "model.predict_proba(X_test)"
   ]
  },
  {
   "cell_type": "code",
   "execution_count": 3,
   "metadata": {},
   "outputs": [],
   "source": [
    "# Synthetic high dimensional data\n",
    "import numpy as np\n",
    "X = np.random.rand(100, 100)\n",
    "number_of_relevant_features = 5\n",
    "relevant_features = np.random.choice(100, number_of_relevant_features, replace=False)\n",
    "W = np.random.rand(number_of_relevant_features, 1)\n",
    "y = np.dot(X[:, relevant_features], W)\n",
    "y = (y > np.median(y)).astype(int).flatten()\n"
   ]
  },
  {
   "cell_type": "code",
   "execution_count": 87,
   "metadata": {},
   "outputs": [
    {
     "name": "stdout",
     "output_type": "stream",
     "text": [
      "interface\n",
      "torch.Size([100, 1, 100])\n",
      "torch.Size([100, 1])\n",
      "80\n"
     ]
    },
    {
     "data": {
      "text/plain": [
       "array([1, 0, 0, 0, 1, 0, 1, 0, 1, 0, 1, 0, 1, 0, 1, 0, 1, 0, 1, 1])"
      ]
     },
     "execution_count": 87,
     "metadata": {},
     "output_type": "execute_result"
    }
   ],
   "source": [
    "X_train, X_test, y_train, y_test = train_test_split(X, y, test_size=0.2, random_state=42)\n",
    "model.fit(X_train, y_train)\n",
    "model.predict(X_test)"
   ]
  },
  {
   "cell_type": "code",
   "execution_count": 89,
   "metadata": {},
   "outputs": [
    {
     "name": "stdout",
     "output_type": "stream",
     "text": [
      "interface\n",
      "torch.Size([100, 1, 100])\n",
      "torch.Size([100, 1])\n",
      "80\n"
     ]
    },
    {
     "data": {
      "text/plain": [
       "0.75"
      ]
     },
     "execution_count": 89,
     "metadata": {},
     "output_type": "execute_result"
    }
   ],
   "source": [
    "model.score(X_test, y_test)"
   ]
  },
  {
   "cell_type": "code",
   "execution_count": 88,
   "metadata": {},
   "outputs": [
    {
     "data": {
      "text/plain": [
       "array([1, 1, 0, 0, 1, 0, 0, 0, 0, 0, 1, 0, 1, 0, 1, 0, 1, 1, 1, 0])"
      ]
     },
     "execution_count": 88,
     "metadata": {},
     "output_type": "execute_result"
    }
   ],
   "source": [
    "y_test"
   ]
  },
  {
   "cell_type": "code",
   "execution_count": 41,
   "metadata": {},
   "outputs": [],
   "source": [
    "#from tabpfn.priors.flexible_categorical import get_batch\n",
    "from tabpfn.priors.linear import get_batch as get_batch_linear\n",
    "from tabpfn.priors.flexible_categorical import MulticlassRank, BalancedBinarize\n",
    "\n",
    "def get_batch_func():\n",
    "    hyperparameters = {\"random_feature_removal\": 0.99, \"random_feature_removal_min\":0.95,\n",
    "                    \"correlation_strength_min\": 0, \"correlation_strength_max\": 0,\n",
    "                    \"correlation_proba_min\": 0, \"correlation_proba_max\": 0,\n",
    "                    \"p_categorical\": 0,\n",
    "                    \"sampling\": \"normal\",\n",
    "                    \"output_multiclass_ordered_p\": 0.0,\n",
    "                    \"curriculum\": False,\n",
    "                    \"seq_len_used\": 50,\n",
    "                    \"num_features_used\": 100,\n",
    "                    \"num_classes\": 10,\n",
    "                    \"balanced\": False,\n",
    "                      'aggregate_k_gradients': 8,\n",
    "  'recompute_attn': True,\n",
    "  'bptt_extra_samples': None,\n",
    "  'bptt': 1152,\n",
    "  'dynamic_batch_size': False,\n",
    "  'multiclass_loss_type': 'nono',\n",
    "  'output_multiclass_ordered_p': 0.0,\n",
    "  'normalize_with_sqrt': False,\n",
    "  'new_mlp_per_example': True,\n",
    "  'prior_mlp_scale_weights_sqrt': True,\n",
    "  'batch_size_per_gp_sample': None,\n",
    "  'normalize_ignore_label_too': False,\n",
    "  'differentiable_hps_as_style': False,\n",
    "  'random_feature_rotation': True,\n",
    "  'rotate_normalized_labels': True,\n",
    "  'normalize_on_train_only': True,\n",
    "  'mix_activations': False,\n",
    "  'weight_decay': 0.0,\n",
    "  'use_flash_attention': True,\n",
    "  'canonical_y_encoder': False,\n",
    "  'total_available_time_in_s': None,\n",
    "  'train_mixed_precision': True,\n",
    "  'efficient_eval_masking': True,\n",
    "  'hardware_batch_size': 4,\n",
    "  'num_global_att_tokens': 0,\n",
    "  'use_seperate_decoder': False,\n",
    "  'attend_to_global_tokens_only_at_test': False,\n",
    "  \"max_eval_pos\": 1000,\n",
    "  'lr': 0.0001,\n",
    "  'dropout': 0.0,\n",
    "  'emsize': 512,\n",
    "  'batch_size': 64,\n",
    "  'nlayers': 12,\n",
    "  'num_features': 100,\n",
    "  'nhead': 4,\n",
    "  'nhid_factor': 2,\n",
    "  'eval_positions': None,\n",
    "  'sampling': 'mixed',\n",
    "  'epochs': 400,\n",
    "  'num_steps': 128,\n",
    "  'verbose': False,\n",
    "  'pre_sample_causes': True,\n",
    "  'multiclass_type': 'rank',\n",
    "  'nan_prob_unknown_reason_reason_prior': 1.0,\n",
    "  'categorical_feature_p': 0.0, #TODO\n",
    "  'nan_prob_no_reason': 0.0,\n",
    "  'nan_prob_unknown_reason': 0.0,\n",
    "  'nan_prob_a_reason': 0.0,\n",
    "  'max_num_classes': 10,\n",
    "  'num_classes': 10,\n",
    "  'noise_type': 'Gaussian',\n",
    "  'balanced': False,\n",
    "  'normalize_to_ranking': False,\n",
    "  'set_value_to_nan': 0.1,\n",
    "  'normalize_by_used_features': True,\n",
    "  #'num_features_used': {'num_features_func': None},\n",
    "  'num_categorical_features_sampler_a': -1.0,\n",
    "    }\n",
    "    hyperparameters['sampling'] = \"mixed\"\n",
    "    args = {}\n",
    "    args[\"remove_outliers_in_flexible_categorical\"] = False\n",
    "    args[\"normalize_x_in_flexible_categorical\"] = False\n",
    "    args[\"random_feature_rotation\"] = False\n",
    "    args[\"assign_class_in_flexible_categorical\"] = True\n",
    "    hyperparameters['normalize_labels'] = True\n",
    "    hyperparameters['check_is_compatible'] = True\n",
    "                    \n",
    "    X, y, _ = get_batch_linear(batch_size=1,\n",
    "            #get_batch=get_batch_linear,\n",
    "            #device=device,\n",
    "            seq_len=1152,\n",
    "            num_features=40,\n",
    "            #single_eval_pos=600,\n",
    "            hyperparameters=hyperparameters,\n",
    "            **args)\n",
    "    \n",
    "    # # standardize y\n",
    "    # y = (y - torch.mean(y)) / torch.std(y)\n",
    "\n",
    "    class_assigner = MulticlassRank(num_classes=10, ordered_p=hyperparameters[\"output_multiclass_ordered_p\"])\n",
    "    # #class_assigner = BalancedBinarize()\n",
    "    y = class_assigner(y)\n",
    "    # #print(np.unique(y, return_counts=True))\n",
    "    # # normalize y\n",
    "    # for b in range(y.shape[1]):\n",
    "    #     valid_labels = y[:,b] != -100\n",
    "    #     # if self.h.get('normalize_ignore_label_too', False):\n",
    "    #     #         valid_labels[:] = True\n",
    "    #     y[valid_labels, b] = (y[valid_labels, b] > y[valid_labels, b].unique().unsqueeze(1)).sum(axis=0).unsqueeze(0)\n",
    "    X = X.reshape(X.shape[0], X.shape[2])\n",
    "    y = y.reshape(y.shape[0])\n",
    "    X_train, X_test, y_train, y_test = train_test_split(X, y, train_size=700, random_state=42)\n",
    "    return X_train, X_test, y_train, y_test"
   ]
  },
  {
   "cell_type": "code",
   "execution_count": 37,
   "metadata": {},
   "outputs": [
    {
     "name": "stdout",
     "output_type": "stream",
     "text": [
      "rotating features\n"
     ]
    },
    {
     "data": {
      "text/plain": [
       "(tensor([[ 0.0651, -2.1285,  0.4428,  ..., -0.8395, -0.3146, -1.3967],\n",
       "         [-0.7723, -0.8021,  0.1258,  ..., -0.3792, -0.1650, -0.0151],\n",
       "         [ 0.1415, -0.2961,  0.5704,  ..., -0.0239, -0.6295, -0.7734],\n",
       "         ...,\n",
       "         [ 0.4680,  0.8811, -1.8998,  ...,  1.3479,  1.6304, -0.0158],\n",
       "         [-0.0972,  0.2758,  0.1532,  ...,  0.5719,  1.5223,  0.7360],\n",
       "         [-0.2016, -1.0408, -0.9346,  ..., -0.5251, -1.4770,  0.6323]]),\n",
       " tensor([[-0.0397,  0.3720, -0.3215,  ...,  1.6429,  1.2754, -0.5904],\n",
       "         [-0.1103,  0.3713,  0.3539,  ..., -0.9729, -0.9934,  1.0556],\n",
       "         [ 1.5721,  1.1113,  0.1794,  ..., -0.8601,  0.8203,  0.5060],\n",
       "         ...,\n",
       "         [ 1.4626,  0.5087, -1.8834,  ..., -0.2793,  0.2000,  1.0522],\n",
       "         [-0.3481, -0.2765, -1.2665,  ...,  0.4647, -1.0108, -0.2413],\n",
       "         [-0.7488, -0.4481,  1.0984,  ...,  0.7697, -0.2244, -0.8393]]),\n",
       " tensor([0, 4, 2, 3, 3, 4, 3, 3, 3, 3, 0, 2, 3, 3, 0, 3, 3, 3, 3, 0, 3, 3, 3, 3,\n",
       "         4, 3, 4, 3, 3, 2, 3, 3, 3, 3, 3, 3, 3, 3, 3, 0, 0, 0, 3, 3, 3, 3, 4, 4,\n",
       "         4, 2, 3, 3, 3, 3, 3, 4, 3, 0, 4, 3, 3, 2, 3, 3, 3, 3, 2, 0, 3, 3, 0, 0,\n",
       "         3, 3, 3, 3, 3, 3, 3, 0, 2, 4, 3, 4, 3, 3, 3, 3, 3, 2, 3, 4, 3, 0, 0, 2,\n",
       "         3, 2, 3, 4, 3, 3, 3, 0, 0, 0, 3, 0, 0, 4, 4, 4, 3, 0, 0, 4, 3, 3, 3, 4,\n",
       "         4, 3, 4, 4, 4, 4, 3, 3, 4, 0, 3, 4, 0, 4, 3, 3, 2, 3, 3, 2, 3, 3, 3, 3,\n",
       "         4, 0, 4, 3, 2, 2, 3, 3, 4, 3, 3, 3, 3, 3, 3, 0, 4, 3, 3, 3, 3, 4, 2, 3,\n",
       "         4, 0, 3, 3, 0, 3, 3, 3, 4, 4, 4, 4, 4, 2, 4, 3, 3, 0, 3, 2, 3, 0, 3, 3,\n",
       "         0, 0, 3, 2, 2, 2, 3, 3, 3, 4, 3, 3, 3, 3, 4, 3, 3, 3, 3, 3, 3, 4, 3, 4,\n",
       "         3, 3, 2, 3, 3, 3, 3, 3, 3, 3, 3, 4, 3, 3, 3, 3, 3, 4, 3, 3, 4, 0, 0, 3,\n",
       "         4, 2, 2, 3, 0, 4, 3, 3, 3, 3, 3, 4, 4, 4, 4, 3, 3, 3, 3, 3, 3, 3, 4, 0,\n",
       "         3, 4, 3, 3, 0, 3, 3, 3, 3, 3, 0, 4, 3, 3, 2, 2, 3, 3, 3, 3, 4, 3, 3, 2,\n",
       "         4, 3, 4, 4, 3, 0, 3, 0, 4, 3, 3, 3, 4, 2, 3, 3, 3, 3, 3, 3, 4, 0, 3, 3,\n",
       "         4, 3, 3, 4, 4, 3, 3, 4, 0, 4, 4, 3, 2, 4, 4, 3, 4, 1, 3, 3, 3, 3, 0, 4,\n",
       "         3, 3, 3, 3, 3, 4, 2, 3, 4, 0, 3, 4, 3, 0, 3, 3, 3, 4, 3, 4, 2, 0, 3, 3,\n",
       "         3, 3, 4, 0, 3, 3, 2, 3, 4, 0, 3, 0, 3, 2, 0, 4, 3, 0, 4, 3, 3, 4, 3, 4,\n",
       "         3, 3, 3, 3, 4, 3, 3, 4, 0, 0, 0, 4, 0, 3, 3, 3, 3, 4, 4, 3, 0, 3, 3, 3,\n",
       "         3, 3, 4, 3, 3, 4, 4, 3, 3, 3, 3, 3, 4, 3, 2, 3, 3, 0, 0, 4, 3, 3, 0, 3,\n",
       "         4, 3, 4, 3, 3, 3, 0, 3, 3, 3, 3, 3, 4, 4, 3, 0, 3, 3, 3, 0, 3, 3, 3, 0,\n",
       "         0, 3, 0, 0, 4, 3, 3, 3, 3, 0, 2, 4, 0, 3, 0, 3, 0, 3, 4, 0, 3, 4, 3, 2,\n",
       "         3, 4, 3, 3, 3, 3, 0, 3, 4, 0, 3, 4, 4, 3, 3, 3, 4, 2, 3, 3, 0, 3, 0, 3,\n",
       "         3, 4, 3, 4, 3, 3, 4, 0, 3, 0, 3, 3, 0, 0, 3, 3, 3, 3, 3, 2, 3, 3, 4, 2,\n",
       "         3, 4, 0, 3, 3, 4, 3, 2, 3, 0, 3, 3, 4, 3, 4, 3, 0, 3, 4, 3, 3, 4, 4, 2,\n",
       "         4, 3, 3, 0, 3, 3, 0, 3, 3, 3, 3, 4, 3, 3, 3, 3, 4, 3, 4, 3, 4, 3, 3, 3,\n",
       "         3, 3, 4, 3, 2, 4, 4, 4, 3, 3, 3, 3, 2, 3, 4, 3, 3, 3, 3, 3, 3, 4, 3, 4,\n",
       "         2, 3, 4, 4, 0, 4, 3, 2, 3, 0, 4, 3, 4, 0, 3, 4, 3, 0, 4, 2, 3, 3, 2, 3,\n",
       "         3, 0, 3, 0, 4, 3, 3, 0, 3, 3, 3, 3, 3, 2, 3, 3, 4, 4, 3, 3, 4, 3, 3, 0,\n",
       "         3, 3, 3, 0, 3, 3, 3, 3, 2, 3, 2, 3, 0, 3, 3, 3, 4, 4, 3, 3, 3, 3, 3, 3,\n",
       "         4, 3, 4, 0, 4, 0, 3, 2, 0, 0, 3, 3, 4, 2, 3, 3, 3, 4, 4, 3, 0, 4, 3, 3,\n",
       "         0, 2, 4, 3]),\n",
       " tensor([3, 0, 3, 3, 4, 3, 2, 0, 4, 2, 4, 3, 3, 4, 4, 4, 3, 3, 3, 4, 3, 4, 1, 3,\n",
       "         0, 3, 3, 4, 2, 2, 4, 3, 4, 3, 4, 4, 3, 0, 4, 3, 3, 4, 0, 3, 4, 3, 3, 2,\n",
       "         2, 0, 3, 0, 3, 3, 4, 4, 3, 3, 3, 3, 3, 0, 4, 0, 4, 3, 4, 3, 0, 3, 3, 3,\n",
       "         3, 0, 4, 4, 4, 2, 3, 2, 3, 4, 3, 3, 2, 3, 3, 4, 0, 4, 3, 4, 2, 4, 3, 2,\n",
       "         3, 3, 4, 2, 2, 3, 3, 0, 3, 3, 3, 3, 2, 3, 4, 0, 4, 4, 0, 3, 3, 3, 4, 4,\n",
       "         2, 0, 3, 3, 0, 3, 4, 0, 3, 2, 3, 2, 3, 3, 3, 3, 0, 3, 3, 3, 3, 3, 0, 3,\n",
       "         3, 4, 3, 4, 0, 4, 0, 4, 3, 4, 4, 3, 2, 4, 3, 3, 0, 3, 3, 3, 3, 3, 0, 3,\n",
       "         3, 3, 3, 3, 4, 0, 0, 3, 3, 3, 3, 0, 3, 3, 3, 4, 3, 3, 3, 3, 4, 3, 0, 4,\n",
       "         2, 3, 4, 4, 3, 0, 3, 0, 0, 3, 4, 3, 3, 4, 3, 0, 4, 4, 4, 3, 3, 3, 3, 0,\n",
       "         4, 3, 3, 3, 3, 3, 4, 3, 3, 4, 4, 0, 3, 2, 3, 3, 3, 4, 3, 0, 3, 4, 3, 3,\n",
       "         0, 3, 3, 3, 4, 3, 3, 4, 3, 3, 4, 3, 3, 3, 4, 3, 2, 3, 2, 3, 4, 0, 0, 3,\n",
       "         3, 3, 0, 3, 4, 3, 4, 4, 3, 3, 3, 4, 3, 2, 3, 3, 3, 3, 4, 2, 4, 2, 3, 0,\n",
       "         2, 4, 3, 3, 3, 3, 3, 4, 3, 4, 3, 3, 3, 3, 4, 3, 3, 4, 0, 0, 3, 3, 3, 0,\n",
       "         4, 3, 4, 3, 3, 3, 0, 4, 0, 3, 3, 0, 0, 3, 3, 3, 4, 3, 3, 3, 0, 4, 3, 0,\n",
       "         4, 2, 4, 0, 3, 3, 3, 0, 3, 4, 4, 4, 3, 4, 3, 3, 3, 3, 2, 3, 3, 2, 3, 3,\n",
       "         4, 3, 4, 3, 2, 3, 2, 3, 3, 4, 2, 4, 3, 3, 3, 3, 4, 3, 3, 3, 3, 3, 4, 0,\n",
       "         0, 3, 2, 4, 3, 4, 4, 4, 0, 4, 4, 4, 0, 0, 3, 0, 4, 3, 3, 0, 3, 4, 4, 3,\n",
       "         3, 3, 3, 3, 0, 4, 3, 3, 4, 3, 3, 4, 4, 3, 3, 3, 3, 4, 3, 3, 2, 3, 3, 4,\n",
       "         3, 4, 3, 4, 3, 3, 3, 3, 3, 3, 3, 3, 4, 4, 3, 0, 3, 3, 3, 0]))"
      ]
     },
     "execution_count": 37,
     "metadata": {},
     "output_type": "execute_result"
    }
   ],
   "source": [
    "get_batch_func()"
   ]
  },
  {
   "cell_type": "code",
   "execution_count": 42,
   "metadata": {},
   "outputs": [],
   "source": [
    "import torch\n",
    "import numpy as np\n",
    "from sklearn.model_selection import train_test_split"
   ]
  },
  {
   "cell_type": "code",
   "execution_count": 43,
   "metadata": {},
   "outputs": [],
   "source": [
    "from sklearn.metrics import balanced_accuracy_score\n",
    "from sklearn.linear_model import LogisticRegression\n",
    "from sklearn.ensemble import GradientBoostingClassifier\n",
    "clf_lasso = LogisticRegression(random_state=0, penalty=\"l1\", max_iter=1000, solver=\"liblinear\")\n",
    "clf_l2 = LogisticRegression(random_state=0, max_iter=1000)\n",
    "gbt = GradientBoostingClassifier()"
   ]
  },
  {
   "cell_type": "code",
   "execution_count": 44,
   "metadata": {},
   "outputs": [
    {
     "name": "stdout",
     "output_type": "stream",
     "text": [
      "rotating features\n",
      "interface\n",
      "torch.Size([1152, 1, 40])\n",
      "torch.Size([1152, 1])\n",
      "700\n",
      "rotating features\n",
      "interface\n",
      "torch.Size([1152, 1, 40])\n",
      "torch.Size([1152, 1])\n",
      "700\n",
      "rotating features\n",
      "interface\n",
      "torch.Size([1152, 1, 40])\n",
      "torch.Size([1152, 1])\n",
      "700\n",
      "rotating features\n",
      "interface\n",
      "torch.Size([1152, 1, 40])\n",
      "torch.Size([1152, 1])\n",
      "700\n",
      "rotating features\n",
      "interface\n",
      "torch.Size([1152, 1, 40])\n",
      "torch.Size([1152, 1])\n",
      "700\n",
      "rotating features\n",
      "interface\n",
      "torch.Size([1152, 1, 40])\n",
      "torch.Size([1152, 1])\n",
      "700\n",
      "rotating features\n",
      "interface\n",
      "torch.Size([1152, 1, 40])\n",
      "torch.Size([1152, 1])\n",
      "700\n",
      "rotating features\n",
      "interface\n",
      "torch.Size([1152, 1, 40])\n",
      "torch.Size([1152, 1])\n",
      "700\n"
     ]
    }
   ],
   "source": [
    "import torch\n",
    "n_iter = 8\n",
    "res_tabpfn = []\n",
    "res_lasso = []\n",
    "res_linear = []\n",
    "res_gbt = []\n",
    "for _ in range(n_iter):\n",
    "    X_train, X_test, y_train, y_test = get_batch_func()\n",
    "    if np.unique(y_train).shape[0] == 1:\n",
    "        continue\n",
    "    model.fit(X_train, y_train)\n",
    "    clf_lasso.fit(X_train, y_train)\n",
    "    clf_l2.fit(X_train, y_train)\n",
    "    #gbt.fit(X_train, y_train)\n",
    "    res_tabpfn.append(balanced_accuracy_score(y_test, model.predict(X_test), adjusted=True))\n",
    "    res_lasso.append(balanced_accuracy_score(y_test, clf_lasso.predict(X_test), adjusted=True))\n",
    "    res_linear.append(balanced_accuracy_score(y_test, clf_l2.predict(X_test), adjusted=True))\n",
    "    #res_gbt.append(balanced_accuracy_score(y_test, gbt.predict(X_test)))"
   ]
  },
  {
   "cell_type": "code",
   "execution_count": 45,
   "metadata": {},
   "outputs": [
    {
     "data": {
      "text/plain": [
       "<matplotlib.legend.Legend at 0x7f92a3b85a60>"
      ]
     },
     "execution_count": 45,
     "metadata": {},
     "output_type": "execute_result"
    },
    {
     "data": {
      "image/png": "[encoded data removed]",
      "text/plain": [
       "<Figure size 640x480 with 1 Axes>"
      ]
     },
     "metadata": {},
     "output_type": "display_data"
    }
   ],
   "source": [
    "import matplotlib.pyplot as plt\n",
    "plt.scatter(range(n_iter), res_tabpfn, label=\"tabpfn\", alpha=0.4)\n",
    "plt.scatter(range(n_iter), res_lasso, label=\"lasso\", alpha=0.4)\n",
    "plt.scatter(range(n_iter), res_linear, label=\"linear\", alpha=0.4)\n",
    "#plt.scatter(range(n_iter), res_gbt, label=\"gbt\", alpha=0.4)\n",
    "plt.legend()"
   ]
  },
  {
   "cell_type": "code",
   "execution_count": 26,
   "metadata": {},
   "outputs": [
    {
     "data": {
      "text/plain": [
       "[0.5,\n",
       " 0.9690321824060579,\n",
       " 0.9609687901458475,\n",
       " 0.9559092767379441,\n",
       " 0.9563293441174943,\n",
       " 0.966025641025641,\n",
       " 0.6944444444444444,\n",
       " 0.9565373756990523,\n",
       " 0.9498523704295185,\n",
       " 0.79189772926274,\n",
       " 0.8239583333333333,\n",
       " 0.6133312272942664,\n",
       " 0.5,\n",
       " 0.9595925297113752,\n",
       " 0.7727272727272727]"
      ]
     },
     "execution_count": 26,
     "metadata": {},
     "output_type": "execute_result"
    }
   ],
   "source": [
    "res_lasso"
   ]
  },
  {
   "cell_type": "code",
   "execution_count": 9,
   "metadata": {},
   "outputs": [],
   "source": []
  },
  {
   "cell_type": "code",
   "execution_count": 16,
   "metadata": {},
   "outputs": [
    {
     "data": {
      "text/plain": [
       "torch.Size([1000, 1, 10])"
      ]
     },
     "execution_count": 16,
     "metadata": {},
     "output_type": "execute_result"
    }
   ],
   "source": [
    "X.shape"
   ]
  },
  {
   "cell_type": "code",
   "execution_count": 17,
   "metadata": {},
   "outputs": [],
   "source": [
    "X = X.reshape(X.shape[0], X.shape[2])\n"
   ]
  },
  {
   "cell_type": "code",
   "execution_count": 18,
   "metadata": {},
   "outputs": [],
   "source": [
    "X_train, X_test, y_train, y_test = train_test_split(X, y, test_size=0.2)"
   ]
  },
  {
   "cell_type": "code",
   "execution_count": 19,
   "metadata": {},
   "outputs": [
    {
     "name": "stderr",
     "output_type": "stream",
     "text": [
      "/home/soda/lgrinszt/.local/miniconda3/envs/tab_pfn2/lib/python3.9/site-packages/sklearn/utils/validation.py:1143: DataConversionWarning: A column-vector y was passed when a 1d array was expected. Please change the shape of y to (n_samples, ), for example using ravel().\n",
      "  y = column_or_1d(y, warn=True)\n"
     ]
    },
    {
     "data": {
      "text/html": [
       "<style>#sk-container-id-2 {color: black;background-color: white;}#sk-container-id-2 pre{padding: 0;}#sk-container-id-2 div.sk-toggleable {background-color: white;}#sk-container-id-2 label.sk-toggleable__label {cursor: pointer;display: block;width: 100%;margin-bottom: 0;padding: 0.3em;box-sizing: border-box;text-align: center;}#sk-container-id-2 label.sk-toggleable__label-arrow:before {content: \"▸\";float: left;margin-right: 0.25em;color: #696969;}#sk-container-id-2 label.sk-toggleable__label-arrow:hover:before {color: black;}#sk-container-id-2 div.sk-estimator:hover label.sk-toggleable__label-arrow:before {color: black;}#sk-container-id-2 div.sk-toggleable__content {max-height: 0;max-width: 0;overflow: hidden;text-align: left;background-color: #f0f8ff;}#sk-container-id-2 div.sk-toggleable__content pre {margin: 0.2em;color: black;border-radius: 0.25em;background-color: #f0f8ff;}#sk-container-id-2 input.sk-toggleable__control:checked~div.sk-toggleable__content {max-height: 200px;max-width: 100%;overflow: auto;}#sk-container-id-2 input.sk-toggleable__control:checked~label.sk-toggleable__label-arrow:before {content: \"▾\";}#sk-container-id-2 div.sk-estimator input.sk-toggleable__control:checked~label.sk-toggleable__label {background-color: #d4ebff;}#sk-container-id-2 div.sk-label input.sk-toggleable__control:checked~label.sk-toggleable__label {background-color: #d4ebff;}#sk-container-id-2 input.sk-hidden--visually {border: 0;clip: rect(1px 1px 1px 1px);clip: rect(1px, 1px, 1px, 1px);height: 1px;margin: -1px;overflow: hidden;padding: 0;position: absolute;width: 1px;}#sk-container-id-2 div.sk-estimator {font-family: monospace;background-color: #f0f8ff;border: 1px dotted black;border-radius: 0.25em;box-sizing: border-box;margin-bottom: 0.5em;}#sk-container-id-2 div.sk-estimator:hover {background-color: #d4ebff;}#sk-container-id-2 div.sk-parallel-item::after {content: \"\";width: 100%;border-bottom: 1px solid gray;flex-grow: 1;}#sk-container-id-2 div.sk-label:hover label.sk-toggleable__label {background-color: #d4ebff;}#sk-container-id-2 div.sk-serial::before {content: \"\";position: absolute;border-left: 1px solid gray;box-sizing: border-box;top: 0;bottom: 0;left: 50%;z-index: 0;}#sk-container-id-2 div.sk-serial {display: flex;flex-direction: column;align-items: center;background-color: white;padding-right: 0.2em;padding-left: 0.2em;position: relative;}#sk-container-id-2 div.sk-item {position: relative;z-index: 1;}#sk-container-id-2 div.sk-parallel {display: flex;align-items: stretch;justify-content: center;background-color: white;position: relative;}#sk-container-id-2 div.sk-item::before, #sk-container-id-2 div.sk-parallel-item::before {content: \"\";position: absolute;border-left: 1px solid gray;box-sizing: border-box;top: 0;bottom: 0;left: 50%;z-index: -1;}#sk-container-id-2 div.sk-parallel-item {display: flex;flex-direction: column;z-index: 1;position: relative;background-color: white;}#sk-container-id-2 div.sk-parallel-item:first-child::after {align-self: flex-end;width: 50%;}#sk-container-id-2 div.sk-parallel-item:last-child::after {align-self: flex-start;width: 50%;}#sk-container-id-2 div.sk-parallel-item:only-child::after {width: 0;}#sk-container-id-2 div.sk-dashed-wrapped {border: 1px dashed gray;margin: 0 0.4em 0.5em 0.4em;box-sizing: border-box;padding-bottom: 0.4em;background-color: white;}#sk-container-id-2 div.sk-label label {font-family: monospace;font-weight: bold;display: inline-block;line-height: 1.2em;}#sk-container-id-2 div.sk-label-container {text-align: center;}#sk-container-id-2 div.sk-container {/* jupyter's `normalize.less` sets `[hidden] { display: none; }` but bootstrap.min.css set `[hidden] { display: none !important; }` so we also need the `!important` here to be able to override the default hidden behavior on the sphinx rendered scikit-learn.org. See: https://github.com/scikit-learn/scikit-learn/issues/21755 */display: inline-block !important;position: relative;}#sk-container-id-2 div.sk-text-repr-fallback {display: none;}</style><div id=\"sk-container-id-2\" class=\"sk-top-container\"><div class=\"sk-text-repr-fallback\"><pre>TabPFNClassifier(device=&#x27;cuda:3&#x27;)</pre><b>In a Jupyter environment, please rerun this cell to show the HTML representation or trust the notebook. <br />On GitHub, the HTML representation is unable to render, please try loading this page with nbviewer.org.</b></div><div class=\"sk-container\" hidden><div class=\"sk-item\"><div class=\"sk-estimator sk-toggleable\"><input class=\"sk-toggleable__control sk-hidden--visually\" id=\"sk-estimator-id-2\" type=\"checkbox\" checked><label for=\"sk-estimator-id-2\" class=\"sk-toggleable__label sk-toggleable__label-arrow\">TabPFNClassifier</label><div class=\"sk-toggleable__content\"><pre>TabPFNClassifier(device=&#x27;cuda:3&#x27;)</pre></div></div></div></div></div>"
      ],
      "text/plain": [
       "TabPFNClassifier(device='cuda:3')"
      ]
     },
     "execution_count": 19,
     "metadata": {},
     "output_type": "execute_result"
    }
   ],
   "source": [
    "model.fit(X_train, y_train)"
   ]
  },
  {
   "cell_type": "code",
   "execution_count": 20,
   "metadata": {},
   "outputs": [
    {
     "name": "stdout",
     "output_type": "stream",
     "text": [
      "interface\n",
      "torch.Size([1000, 1, 10])\n",
      "torch.Size([1000, 1])\n",
      "800\n"
     ]
    },
    {
     "data": {
      "text/plain": [
       "0.995"
      ]
     },
     "execution_count": 20,
     "metadata": {},
     "output_type": "execute_result"
    }
   ],
   "source": [
    "model.score(X_test, y_test)"
   ]
  },
  {
   "cell_type": "code",
   "execution_count": 21,
   "metadata": {},
   "outputs": [
    {
     "name": "stdout",
     "output_type": "stream",
     "text": [
      "interface\n",
      "torch.Size([1000, 1, 10])\n",
      "torch.Size([1000, 1])\n",
      "800\n"
     ]
    },
    {
     "data": {
      "text/plain": [
       "array([1, 0, 0, 0, 0, 0, 0, 0, 1, 0, 0, 0, 0, 0, 0, 0, 0, 0, 1, 0, 0, 0,\n",
       "       0, 0, 0, 0, 0, 0, 0, 0, 0, 0, 0, 0, 0, 0, 0, 0, 0, 0, 1, 0, 0, 0,\n",
       "       0, 0, 0, 1, 0, 0, 0, 1, 0, 0, 0, 0, 0, 0, 0, 0, 0, 0, 0, 0, 0, 0,\n",
       "       0, 0, 0, 0, 0, 0, 1, 1, 0, 0, 0, 0, 0, 0, 1, 1, 0, 0, 0, 0, 0, 0,\n",
       "       0, 0, 0, 0, 0, 1, 0, 1, 0, 0, 0, 0, 0, 0, 0, 0, 0, 0, 0, 0, 0, 0,\n",
       "       1, 0, 0, 0, 0, 0, 0, 0, 1, 1, 0, 0, 0, 1, 0, 0, 0, 0, 0, 0, 0, 0,\n",
       "       0, 0, 0, 0, 0, 0, 1, 0, 0, 0, 0, 0, 0, 0, 0, 0, 0, 0, 0, 0, 0, 0,\n",
       "       0, 0, 0, 0, 1, 0, 0, 0, 0, 1, 0, 0, 1, 0, 0, 0, 0, 0, 0, 0, 1, 0,\n",
       "       0, 0, 1, 0, 0, 0, 0, 0, 0, 0, 1, 0, 0, 0, 0, 0, 0, 0, 0, 0, 0, 0,\n",
       "       0, 0])"
      ]
     },
     "execution_count": 21,
     "metadata": {},
     "output_type": "execute_result"
    }
   ],
   "source": [
    "model.predict(X_test)"
   ]
  },
  {
   "cell_type": "code",
   "execution_count": 22,
   "metadata": {},
   "outputs": [
    {
     "name": "stdout",
     "output_type": "stream",
     "text": [
      "Accuracy: 0.8799999952316284\n",
      "Accuracy: 0.11999999731779099\n"
     ]
    }
   ],
   "source": [
    "import torch\n",
    "import numpy as np\n",
    "# Baselines\n",
    "# Predict the most common class\n",
    "most_common_class = np.bincount(y_train.reshape(-1)).argmax()\n",
    "print(f\"Accuracy: {torch.sum(y_test == most_common_class) / len(y_test)}\")\n",
    "\n",
    "least_common_class = np.bincount(y_train.reshape(-1)).argmin()\n",
    "print(f\"Accuracy: {torch.sum(y_test == least_common_class) / len(y_test)}\")\n"
   ]
  },
  {
   "cell_type": "code",
   "execution_count": 10,
   "metadata": {},
   "outputs": [
    {
     "ename": "NameError",
     "evalue": "name 'X_train' is not defined",
     "output_type": "error",
     "traceback": [
      "\u001b[0;31m---------------------------------------------------------------------------\u001b[0m",
      "\u001b[0;31mNameError\u001b[0m                                 Traceback (most recent call last)",
      "Cell \u001b[0;32mIn[10], line 5\u001b[0m\n\u001b[1;32m      3\u001b[0m \u001b[39mfrom\u001b[39;00m \u001b[39msklearn\u001b[39;00m\u001b[39m.\u001b[39;00m\u001b[39mensemble\u001b[39;00m \u001b[39mimport\u001b[39;00m GradientBoostingClassifier\n\u001b[1;32m      4\u001b[0m \u001b[39m#clf = GradientBoostingClassifier().fit(X_train, y_train)\u001b[39;00m\n\u001b[0;32m----> 5\u001b[0m clf \u001b[39m=\u001b[39m LogisticRegression(random_state\u001b[39m=\u001b[39m\u001b[39m0\u001b[39m, penalty\u001b[39m=\u001b[39m\u001b[39m\"\u001b[39m\u001b[39ml1\u001b[39m\u001b[39m\"\u001b[39m, solver\u001b[39m=\u001b[39m\u001b[39m\"\u001b[39m\u001b[39msaga\u001b[39m\u001b[39m\"\u001b[39m, max_iter\u001b[39m=\u001b[39m\u001b[39m1000\u001b[39m)\u001b[39m.\u001b[39mfit(X_train, y_train)\n\u001b[1;32m      6\u001b[0m clf\u001b[39m.\u001b[39mscore(X_test, y_test)\n",
      "\u001b[0;31mNameError\u001b[0m: name 'X_train' is not defined"
     ]
    }
   ],
   "source": [
    "# Lasso for classification\n",
    "from sklearn.linear_model import LogisticRegression\n",
    "from sklearn.ensemble import GradientBoostingClassifier\n",
    "#clf = GradientBoostingClassifier().fit(X_train, y_train)\n",
    "clf = LogisticRegression(random_state=0, penalty=\"l1\", solver=\"saga\", max_iter=1000).fit(X_train, y_train)\n",
    "clf.score(X_test, y_test)"
   ]
  },
  {
   "cell_type": "code",
   "execution_count": 21,
   "metadata": {},
   "outputs": [
    {
     "data": {
      "text/plain": [
       "0.97"
      ]
     },
     "execution_count": 21,
     "metadata": {},
     "output_type": "execute_result"
    }
   ],
   "source": []
  },
  {
   "cell_type": "code",
   "execution_count": 2,
   "metadata": {},
   "outputs": [],
   "source": [
    "import scipy"
   ]
  },
  {
   "cell_type": "code",
   "execution_count": 4,
   "metadata": {},
   "outputs": [],
   "source": [
    "import time\n",
    "import numpy as np"
   ]
  },
  {
   "cell_type": "code",
   "execution_count": 27,
   "metadata": {},
   "outputs": [
    {
     "name": "stdout",
     "output_type": "stream",
     "text": [
      "8.077756643295288\n"
     ]
    }
   ],
   "source": [
    "start = time.time()\n",
    "for i in range(10):\n",
    "    normal = scipy.stats.norm.rvs(loc=0, scale=1, size=(1000, 1, 10000), random_state=None)\n",
    "print(time.time() - start)"
   ]
  },
  {
   "cell_type": "code",
   "execution_count": 7,
   "metadata": {},
   "outputs": [
    {
     "name": "stdout",
     "output_type": "stream",
     "text": [
      "0.5950906276702881\n"
     ]
    }
   ],
   "source": [
    "start = time.time()\n",
    "for i in range(1):\n",
    "    normal = np.random.normal(loc=0, scale=1, size=(1000, 1, 10000))\n",
    "print(time.time() - start)"
   ]
  },
  {
   "cell_type": "code",
   "execution_count": 12,
   "metadata": {},
   "outputs": [],
   "source": [
    "from numba import njit\n",
    "\n",
    "@njit(parallel=True)\n",
    "def generate_random_values(shape):\n",
    "    return np.random.normal(0, 1, shape)\n",
    "\n",
    "# Call the function once to compile it\n",
    "_ = generate_random_values((1, 1))\n",
    "\n",
    "# Now you can use the optimized function\n",
    "random_values = generate_random_values((1000, 10000))"
   ]
  },
  {
   "cell_type": "code",
   "execution_count": 28,
   "metadata": {},
   "outputs": [
    {
     "name": "stdout",
     "output_type": "stream",
     "text": [
      "1.1224868297576904\n"
     ]
    }
   ],
   "source": [
    "start = time.time()\n",
    "for i in range(10):\n",
    "    random_values = generate_random_values((1000, 1, 10000))\n",
    "print(time.time() - start)"
   ]
  },
  {
   "cell_type": "code",
   "execution_count": 30,
   "metadata": {},
   "outputs": [],
   "source": [
    "import torch"
   ]
  },
  {
   "cell_type": "code",
   "execution_count": 39,
   "metadata": {},
   "outputs": [
    {
     "name": "stdout",
     "output_type": "stream",
     "text": [
      "1.2172961235046387\n"
     ]
    }
   ],
   "source": [
    "start = time.time()\n",
    "torch.normal(mean=torch.zeros(1000, 10, 10000), std=torch.ones(1000, 10, 10000))\n",
    "print(time.time() - start)"
   ]
  },
  {
   "cell_type": "code",
   "execution_count": null,
   "metadata": {},
   "outputs": [],
   "source": []
  },
  {
   "cell_type": "code",
   "execution_count": null,
   "metadata": {},
   "outputs": [
    {
     "name": "stdout",
     "output_type": "stream",
     "text": [
      "10 2\n",
      "0.0\n"
     ]
    }
   ],
   "source": [
    "from tabpfn.priors.trees import get_batch\n",
    "from tabpfn.priors.flexible_categorical import MulticlassRank, BalancedBinarize, MulticlassValue\n",
    "import numpy as np\n",
    "\n",
    "hyperparameters = {\"n_estimators_lambda\": 0.15, \"max_depth_lambda\": 0.35,\n",
    "                   \"n_estimators\": None,\n",
    "                   \"num_classes\": 10,\n",
    "                   \"randomize_leaves\": False,\n",
    "                   \"return_classes\": False,\n",
    "                   \"correlation_strength_min\": 0, \"correlation_strength_max\": 0,\n",
    "                   \"correlation_proba_min\": 0, \"correlation_proba_max\": 0,\n",
    "                   \"p_categorical\": 0,\n",
    "                   \"sampling\": \"normal\",\n",
    "                   \"output_multiclass_ordered_p\": 0.0,\n",
    "}\n",
    "                   \n",
    "X, y, _ = get_batch(batch_size=1,\n",
    "          seq_len=1000,\n",
    "          num_features=2,\n",
    "          hyperparameters=hyperparameters)\n",
    "\n",
    "# normalize y\n",
    "y = (y - y.min()) / (y.std())\n",
    "class_assigner = MulticlassRank(num_classes=10, ordered_p=hyperparameters[\"output_multiclass_ordered_p\"])\n",
    "#class_assigner = MulticlassValue(num_classes=hyperparameters[\"num_classes\"])\n",
    "#class_assigner = BalancedBinarize()\n",
    "y = class_assigner(y)"
   ]
  },
  {
   "cell_type": "code",
   "execution_count": null,
   "metadata": {},
   "outputs": [
    {
     "data": {
      "text/plain": [
       "(array([0, 1]), array([381, 619]))"
      ]
     },
     "metadata": {},
     "output_type": "display_data"
    }
   ],
   "source": [
    "import numpy as np\n",
    "np.unique(y, return_counts=True)"
   ]
  },
  {
   "cell_type": "code",
   "execution_count": null,
   "metadata": {},
   "outputs": [
    {
     "data": {
      "text/plain": [
       "tensor([[[ 0.6092,  0.1397]],\n",
       "\n",
       "        [[ 0.4390, -0.6159]],\n",
       "\n",
       "        [[-1.0634,  0.1834]],\n",
       "\n",
       "        ...,\n",
       "\n",
       "        [[ 0.2965, -1.2584]],\n",
       "\n",
       "        [[-0.8430,  0.2685]],\n",
       "\n",
       "        [[-0.8229, -1.7594]]])"
      ]
     },
     "metadata": {},
     "output_type": "display_data"
    }
   ],
   "source": [
    "X"
   ]
  },
  {
   "cell_type": "code",
   "execution_count": null,
   "metadata": {},
   "outputs": [
    {
     "data": {
      "text/plain": [
       "<matplotlib.collections.PathCollection at 0x7f313457e310>"
      ]
     },
     "metadata": {},
     "output_type": "display_data"
    },
    {
     "data": {
      "image/png": "[encoded data removed]",
      "text/plain": [
       "<Figure size 640x480 with 1 Axes>"
      ]
     },
     "metadata": {},
     "output_type": "display_data"
    }
   ],
   "source": [
    "import matplotlib.pyplot as plt\n",
    "X = X.reshape(X.shape[0], X.shape[2])\n",
    "plt.scatter(X[:, 0], X[:, 1], c=y)"
   ]
  }
 ],
 "metadata": {
  "kernelspec": {
   "display_name": "tab_pfn2",
   "language": "python",
   "name": "python3"
  },
  "language_info": {
   "codemirror_mode": {
    "name": "ipython",
    "version": 3
   },
   "file_extension": ".py",
   "mimetype": "text/x-python",
   "name": "python",
   "nbconvert_exporter": "python",
   "pygments_lexer": "ipython3",
   "version": "3.9.16"
  },
  "orig_nbformat": 4
 },
 "nbformat": 4,
 "nbformat_minor": 2
}
