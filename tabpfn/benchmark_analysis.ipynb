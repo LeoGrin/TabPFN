{
 "cells": [
  {
   "cell_type": "code",
   "execution_count": 1,
   "metadata": {},
   "outputs": [],
   "source": [
    "import pandas as pd\n",
    "import seaborn as sns\n"
   ]
  },
  {
   "cell_type": "code",
   "execution_count": 3,
   "metadata": {},
   "outputs": [
    {
     "name": "stdout",
     "output_type": "stream",
     "text": [
      "/storage/store/work/lgrinszt/TabPFN/tabpfn\n"
     ]
    }
   ],
   "source": [
    "!pwd"
   ]
  },
  {
   "cell_type": "code",
   "execution_count": 2,
   "metadata": {},
   "outputs": [
    {
     "ename": "FileNotFoundError",
     "evalue": "[Errno 2] No such file or directory: 'results.csv'",
     "output_type": "error",
     "traceback": [
      "\u001b[0;31m---------------------------------------------------------------------------\u001b[0m",
      "\u001b[0;31mFileNotFoundError\u001b[0m                         Traceback (most recent call last)",
      "Cell \u001b[0;32mIn[2], line 1\u001b[0m\n\u001b[0;32m----> 1\u001b[0m results \u001b[39m=\u001b[39m pd\u001b[39m.\u001b[39;49mread_csv(\u001b[39m'\u001b[39;49m\u001b[39mresults.csv\u001b[39;49m\u001b[39m'\u001b[39;49m)\n",
      "File \u001b[0;32m~/.local/miniconda3/envs/tab_pfn2/lib/python3.9/site-packages/pandas/util/_decorators.py:211\u001b[0m, in \u001b[0;36mdeprecate_kwarg.<locals>._deprecate_kwarg.<locals>.wrapper\u001b[0;34m(*args, **kwargs)\u001b[0m\n\u001b[1;32m    209\u001b[0m     \u001b[39melse\u001b[39;00m:\n\u001b[1;32m    210\u001b[0m         kwargs[new_arg_name] \u001b[39m=\u001b[39m new_arg_value\n\u001b[0;32m--> 211\u001b[0m \u001b[39mreturn\u001b[39;00m func(\u001b[39m*\u001b[39;49margs, \u001b[39m*\u001b[39;49m\u001b[39m*\u001b[39;49mkwargs)\n",
      "File \u001b[0;32m~/.local/miniconda3/envs/tab_pfn2/lib/python3.9/site-packages/pandas/util/_decorators.py:331\u001b[0m, in \u001b[0;36mdeprecate_nonkeyword_arguments.<locals>.decorate.<locals>.wrapper\u001b[0;34m(*args, **kwargs)\u001b[0m\n\u001b[1;32m    325\u001b[0m \u001b[39mif\u001b[39;00m \u001b[39mlen\u001b[39m(args) \u001b[39m>\u001b[39m num_allow_args:\n\u001b[1;32m    326\u001b[0m     warnings\u001b[39m.\u001b[39mwarn(\n\u001b[1;32m    327\u001b[0m         msg\u001b[39m.\u001b[39mformat(arguments\u001b[39m=\u001b[39m_format_argument_list(allow_args)),\n\u001b[1;32m    328\u001b[0m         \u001b[39mFutureWarning\u001b[39;00m,\n\u001b[1;32m    329\u001b[0m         stacklevel\u001b[39m=\u001b[39mfind_stack_level(),\n\u001b[1;32m    330\u001b[0m     )\n\u001b[0;32m--> 331\u001b[0m \u001b[39mreturn\u001b[39;00m func(\u001b[39m*\u001b[39;49margs, \u001b[39m*\u001b[39;49m\u001b[39m*\u001b[39;49mkwargs)\n",
      "File \u001b[0;32m~/.local/miniconda3/envs/tab_pfn2/lib/python3.9/site-packages/pandas/io/parsers/readers.py:950\u001b[0m, in \u001b[0;36mread_csv\u001b[0;34m(filepath_or_buffer, sep, delimiter, header, names, index_col, usecols, squeeze, prefix, mangle_dupe_cols, dtype, engine, converters, true_values, false_values, skipinitialspace, skiprows, skipfooter, nrows, na_values, keep_default_na, na_filter, verbose, skip_blank_lines, parse_dates, infer_datetime_format, keep_date_col, date_parser, dayfirst, cache_dates, iterator, chunksize, compression, thousands, decimal, lineterminator, quotechar, quoting, doublequote, escapechar, comment, encoding, encoding_errors, dialect, error_bad_lines, warn_bad_lines, on_bad_lines, delim_whitespace, low_memory, memory_map, float_precision, storage_options)\u001b[0m\n\u001b[1;32m    935\u001b[0m kwds_defaults \u001b[39m=\u001b[39m _refine_defaults_read(\n\u001b[1;32m    936\u001b[0m     dialect,\n\u001b[1;32m    937\u001b[0m     delimiter,\n\u001b[0;32m   (...)\u001b[0m\n\u001b[1;32m    946\u001b[0m     defaults\u001b[39m=\u001b[39m{\u001b[39m\"\u001b[39m\u001b[39mdelimiter\u001b[39m\u001b[39m\"\u001b[39m: \u001b[39m\"\u001b[39m\u001b[39m,\u001b[39m\u001b[39m\"\u001b[39m},\n\u001b[1;32m    947\u001b[0m )\n\u001b[1;32m    948\u001b[0m kwds\u001b[39m.\u001b[39mupdate(kwds_defaults)\n\u001b[0;32m--> 950\u001b[0m \u001b[39mreturn\u001b[39;00m _read(filepath_or_buffer, kwds)\n",
      "File \u001b[0;32m~/.local/miniconda3/envs/tab_pfn2/lib/python3.9/site-packages/pandas/io/parsers/readers.py:605\u001b[0m, in \u001b[0;36m_read\u001b[0;34m(filepath_or_buffer, kwds)\u001b[0m\n\u001b[1;32m    602\u001b[0m _validate_names(kwds\u001b[39m.\u001b[39mget(\u001b[39m\"\u001b[39m\u001b[39mnames\u001b[39m\u001b[39m\"\u001b[39m, \u001b[39mNone\u001b[39;00m))\n\u001b[1;32m    604\u001b[0m \u001b[39m# Create the parser.\u001b[39;00m\n\u001b[0;32m--> 605\u001b[0m parser \u001b[39m=\u001b[39m TextFileReader(filepath_or_buffer, \u001b[39m*\u001b[39;49m\u001b[39m*\u001b[39;49mkwds)\n\u001b[1;32m    607\u001b[0m \u001b[39mif\u001b[39;00m chunksize \u001b[39mor\u001b[39;00m iterator:\n\u001b[1;32m    608\u001b[0m     \u001b[39mreturn\u001b[39;00m parser\n",
      "File \u001b[0;32m~/.local/miniconda3/envs/tab_pfn2/lib/python3.9/site-packages/pandas/io/parsers/readers.py:1442\u001b[0m, in \u001b[0;36mTextFileReader.__init__\u001b[0;34m(self, f, engine, **kwds)\u001b[0m\n\u001b[1;32m   1439\u001b[0m     \u001b[39mself\u001b[39m\u001b[39m.\u001b[39moptions[\u001b[39m\"\u001b[39m\u001b[39mhas_index_names\u001b[39m\u001b[39m\"\u001b[39m] \u001b[39m=\u001b[39m kwds[\u001b[39m\"\u001b[39m\u001b[39mhas_index_names\u001b[39m\u001b[39m\"\u001b[39m]\n\u001b[1;32m   1441\u001b[0m \u001b[39mself\u001b[39m\u001b[39m.\u001b[39mhandles: IOHandles \u001b[39m|\u001b[39m \u001b[39mNone\u001b[39;00m \u001b[39m=\u001b[39m \u001b[39mNone\u001b[39;00m\n\u001b[0;32m-> 1442\u001b[0m \u001b[39mself\u001b[39m\u001b[39m.\u001b[39m_engine \u001b[39m=\u001b[39m \u001b[39mself\u001b[39;49m\u001b[39m.\u001b[39;49m_make_engine(f, \u001b[39mself\u001b[39;49m\u001b[39m.\u001b[39;49mengine)\n",
      "File \u001b[0;32m~/.local/miniconda3/envs/tab_pfn2/lib/python3.9/site-packages/pandas/io/parsers/readers.py:1735\u001b[0m, in \u001b[0;36mTextFileReader._make_engine\u001b[0;34m(self, f, engine)\u001b[0m\n\u001b[1;32m   1733\u001b[0m     \u001b[39mif\u001b[39;00m \u001b[39m\"\u001b[39m\u001b[39mb\u001b[39m\u001b[39m\"\u001b[39m \u001b[39mnot\u001b[39;00m \u001b[39min\u001b[39;00m mode:\n\u001b[1;32m   1734\u001b[0m         mode \u001b[39m+\u001b[39m\u001b[39m=\u001b[39m \u001b[39m\"\u001b[39m\u001b[39mb\u001b[39m\u001b[39m\"\u001b[39m\n\u001b[0;32m-> 1735\u001b[0m \u001b[39mself\u001b[39m\u001b[39m.\u001b[39mhandles \u001b[39m=\u001b[39m get_handle(\n\u001b[1;32m   1736\u001b[0m     f,\n\u001b[1;32m   1737\u001b[0m     mode,\n\u001b[1;32m   1738\u001b[0m     encoding\u001b[39m=\u001b[39;49m\u001b[39mself\u001b[39;49m\u001b[39m.\u001b[39;49moptions\u001b[39m.\u001b[39;49mget(\u001b[39m\"\u001b[39;49m\u001b[39mencoding\u001b[39;49m\u001b[39m\"\u001b[39;49m, \u001b[39mNone\u001b[39;49;00m),\n\u001b[1;32m   1739\u001b[0m     compression\u001b[39m=\u001b[39;49m\u001b[39mself\u001b[39;49m\u001b[39m.\u001b[39;49moptions\u001b[39m.\u001b[39;49mget(\u001b[39m\"\u001b[39;49m\u001b[39mcompression\u001b[39;49m\u001b[39m\"\u001b[39;49m, \u001b[39mNone\u001b[39;49;00m),\n\u001b[1;32m   1740\u001b[0m     memory_map\u001b[39m=\u001b[39;49m\u001b[39mself\u001b[39;49m\u001b[39m.\u001b[39;49moptions\u001b[39m.\u001b[39;49mget(\u001b[39m\"\u001b[39;49m\u001b[39mmemory_map\u001b[39;49m\u001b[39m\"\u001b[39;49m, \u001b[39mFalse\u001b[39;49;00m),\n\u001b[1;32m   1741\u001b[0m     is_text\u001b[39m=\u001b[39;49mis_text,\n\u001b[1;32m   1742\u001b[0m     errors\u001b[39m=\u001b[39;49m\u001b[39mself\u001b[39;49m\u001b[39m.\u001b[39;49moptions\u001b[39m.\u001b[39;49mget(\u001b[39m\"\u001b[39;49m\u001b[39mencoding_errors\u001b[39;49m\u001b[39m\"\u001b[39;49m, \u001b[39m\"\u001b[39;49m\u001b[39mstrict\u001b[39;49m\u001b[39m\"\u001b[39;49m),\n\u001b[1;32m   1743\u001b[0m     storage_options\u001b[39m=\u001b[39;49m\u001b[39mself\u001b[39;49m\u001b[39m.\u001b[39;49moptions\u001b[39m.\u001b[39;49mget(\u001b[39m\"\u001b[39;49m\u001b[39mstorage_options\u001b[39;49m\u001b[39m\"\u001b[39;49m, \u001b[39mNone\u001b[39;49;00m),\n\u001b[1;32m   1744\u001b[0m )\n\u001b[1;32m   1745\u001b[0m \u001b[39massert\u001b[39;00m \u001b[39mself\u001b[39m\u001b[39m.\u001b[39mhandles \u001b[39mis\u001b[39;00m \u001b[39mnot\u001b[39;00m \u001b[39mNone\u001b[39;00m\n\u001b[1;32m   1746\u001b[0m f \u001b[39m=\u001b[39m \u001b[39mself\u001b[39m\u001b[39m.\u001b[39mhandles\u001b[39m.\u001b[39mhandle\n",
      "File \u001b[0;32m~/.local/miniconda3/envs/tab_pfn2/lib/python3.9/site-packages/pandas/io/common.py:856\u001b[0m, in \u001b[0;36mget_handle\u001b[0;34m(path_or_buf, mode, encoding, compression, memory_map, is_text, errors, storage_options)\u001b[0m\n\u001b[1;32m    851\u001b[0m \u001b[39melif\u001b[39;00m \u001b[39misinstance\u001b[39m(handle, \u001b[39mstr\u001b[39m):\n\u001b[1;32m    852\u001b[0m     \u001b[39m# Check whether the filename is to be opened in binary mode.\u001b[39;00m\n\u001b[1;32m    853\u001b[0m     \u001b[39m# Binary mode does not support 'encoding' and 'newline'.\u001b[39;00m\n\u001b[1;32m    854\u001b[0m     \u001b[39mif\u001b[39;00m ioargs\u001b[39m.\u001b[39mencoding \u001b[39mand\u001b[39;00m \u001b[39m\"\u001b[39m\u001b[39mb\u001b[39m\u001b[39m\"\u001b[39m \u001b[39mnot\u001b[39;00m \u001b[39min\u001b[39;00m ioargs\u001b[39m.\u001b[39mmode:\n\u001b[1;32m    855\u001b[0m         \u001b[39m# Encoding\u001b[39;00m\n\u001b[0;32m--> 856\u001b[0m         handle \u001b[39m=\u001b[39m \u001b[39mopen\u001b[39;49m(\n\u001b[1;32m    857\u001b[0m             handle,\n\u001b[1;32m    858\u001b[0m             ioargs\u001b[39m.\u001b[39;49mmode,\n\u001b[1;32m    859\u001b[0m             encoding\u001b[39m=\u001b[39;49mioargs\u001b[39m.\u001b[39;49mencoding,\n\u001b[1;32m    860\u001b[0m             errors\u001b[39m=\u001b[39;49merrors,\n\u001b[1;32m    861\u001b[0m             newline\u001b[39m=\u001b[39;49m\u001b[39m\"\u001b[39;49m\u001b[39m\"\u001b[39;49m,\n\u001b[1;32m    862\u001b[0m         )\n\u001b[1;32m    863\u001b[0m     \u001b[39melse\u001b[39;00m:\n\u001b[1;32m    864\u001b[0m         \u001b[39m# Binary mode\u001b[39;00m\n\u001b[1;32m    865\u001b[0m         handle \u001b[39m=\u001b[39m \u001b[39mopen\u001b[39m(handle, ioargs\u001b[39m.\u001b[39mmode)\n",
      "\u001b[0;31mFileNotFoundError\u001b[0m: [Errno 2] No such file or directory: 'results.csv'"
     ]
    }
   ],
   "source": [
    "results = pd.read_csv('results.csv')"
   ]
  },
  {
   "cell_type": "code",
   "execution_count": null,
   "metadata": {},
   "outputs": [
    {
     "data": {
      "text/plain": [
       "array(['Random Forest', 'Gradient Boosting', 'Logistic Regression',\n",
       "       'TabPFN', 'TabPFNne', 'default35970_260', 'trees13368_60',\n",
       "       'trees456_390', 'trees66554_75', 'mlp60400_160', 'mlp71353_400',\n",
       "       'trees13368_60_no_prepro', 'trees456_390_no_prepro',\n",
       "       'trees13368_60_no_prepro2', 'trees456_390_no_prepro2',\n",
       "       'TabPFNno_prepro', 'default35702_250_no_prepro2',\n",
       "       'trees79428_250_no_prepro2', 'default35702_250', 'trees79428_250',\n",
       "       'trees13368_15'], dtype=object)"
      ]
     },
     "execution_count": 55,
     "metadata": {},
     "output_type": "execute_result"
    }
   ],
   "source": [
    "results[\"model\"].unique()"
   ]
  },
  {
   "cell_type": "code",
   "execution_count": 26,
   "metadata": {},
   "outputs": [],
   "source": [
    "results = pd.read_csv('tabpfn/results_benchmark.csv')\n",
    "results = results[results[\"metric\"] == \"accuracy\"]\n",
    "results[\"accuracy\"] = results[\"value\"]\n",
    "results = results[results[\"suite_id\"] == \"334\"]\n",
    "# results_large[\"suite_id\"] = \"337\"\n",
    "# results_large[\"model\"] = results_large[\"model\"] + \"_large\"\n",
    "# # replce model \"checkpoint\" by trees\n",
    "# results = pd.concat([results, results_large])\n",
    "# results = results[results[\"suite_id\"] == \"337\"]"
   ]
  },
  {
   "cell_type": "code",
   "execution_count": 27,
   "metadata": {},
   "outputs": [],
   "source": [
    "models_to_show = [\"trees7329_6qspdk92_400\", \"trees97149_stz4qj1z_180\", \"trees676_obqe7mfl_350\", \"tabpfn\", \"gbt\"]"
   ]
  },
  {
   "cell_type": "code",
   "execution_count": 35,
   "metadata": {},
   "outputs": [
    {
     "data": {
      "text/plain": [
       "array(['tabpfn_trees13368_60', 'checkpoint', 'trees24451_220',\n",
       "       'trees55166_49voozm8_390', 'trees69859_eouc70o7_390',\n",
       "       'trees55166_49voozm8_220', 'trees69859_eouc70o7_390prepro',\n",
       "       'trees69859_eouc70o7_390_random_rotation',\n",
       "       'tabpfn_random_rotation', 'gbt_random_rotation', 'log_reg',\n",
       "       'mlp_sklearn', 'trees73904_ba9wuzhe_390', 'trees4315_080m7u0l_390',\n",
       "       'trees97149_stz4qj1z_180', 'trees7329_6qspdk92_400'], dtype=object)"
      ]
     },
     "execution_count": 35,
     "metadata": {},
     "output_type": "execute_result"
    }
   ],
   "source": [
    "results[\"model\"].unique()"
   ]
  },
  {
   "cell_type": "code",
   "execution_count": null,
   "metadata": {},
   "outputs": [],
   "source": [
    "pivoted = results.pivot(index=None, columns='metric', values='value')"
   ]
  },
  {
   "cell_type": "code",
   "execution_count": null,
   "metadata": {},
   "outputs": [],
   "source": [
    "results"
   ]
  },
  {
   "cell_type": "code",
   "execution_count": null,
   "metadata": {},
   "outputs": [],
   "source": [
    "pivoted.fillna(method='ffill').columns"
   ]
  },
  {
   "cell_type": "code",
   "execution_count": null,
   "metadata": {},
   "outputs": [],
   "source": [
    "pivoted.fillna(method='ffill').drop_duplicates(subset=[\"accuracy\", \"roc_auc\"])"
   ]
  },
  {
   "cell_type": "code",
   "execution_count": null,
   "metadata": {},
   "outputs": [],
   "source": [
    "results_337 = results[results[\"suite_id\"] == \"337\"]\n",
    "results_334 = results[results[\"suite_id\"] == \"334\"]\n",
    "results_cc18 = results[results[\"suite_id\"] == \"cc18\"]"
   ]
  },
  {
   "cell_type": "code",
   "execution_count": null,
   "metadata": {},
   "outputs": [],
   "source": [
    "results_337.head()"
   ]
  },
  {
   "cell_type": "code",
   "execution_count": null,
   "metadata": {},
   "outputs": [],
   "source": [
    "results[results[\"model\"].isin([\"tabpfn_trees13368_60\", \"tabpfn\", \"gbt\"])]"
   ]
  },
  {
   "cell_type": "code",
   "execution_count": 10,
   "metadata": {},
   "outputs": [
    {
     "data": {
      "text/plain": [
       "array(['tabpfn_trees13368_60', 'tabpfn', 'gbt', 'checkpoint'],\n",
       "      dtype=object)"
      ]
     },
     "execution_count": 10,
     "metadata": {},
     "output_type": "execute_result"
    }
   ],
   "source": [
    "results[\"model\"].unique()"
   ]
  },
  {
   "cell_type": "code",
   "execution_count": 51,
   "metadata": {},
   "outputs": [
    {
     "data": {
      "text/plain": [
       "<Axes: xlabel='task_id', ylabel='accuracy'>"
      ]
     },
     "execution_count": 51,
     "metadata": {},
     "output_type": "execute_result"
    },
    {
     "data": {
      "image/png": "[encoded data removed]",
      "text/plain": [
       "<Figure size 640x480 with 1 Axes>"
      ]
     },
     "metadata": {},
     "output_type": "display_data"
    }
   ],
   "source": [
    "#ax = sns.boxplot(x=\"task_id\", y=\"value\", hue=\"model\", data=results_337[results_337[\"metric\"] == \"accuracy\"], palette=\"Set3\")\n",
    "# replace by scatterplot\n",
    "results[\"task_id\"] = results[\"task_id\"].astype(str)\n",
    "sns.stripplot(x=\"task_id\", y=\"accuracy\", hue=\"model\", \n",
    "              data=results[results[\"model\"].isin([\"tabpfn\", \"tabpfn_large\", \"gbt\", \"gbt_large\", \"checkpoint\", \"trees456_390_large\", \"trees456_390\"])],\n",
    "              dodge=True)"
   ]
  },
  {
   "cell_type": "code",
   "execution_count": 33,
   "metadata": {},
   "outputs": [
    {
     "data": {
      "text/plain": [
       "array(['361055', '361060', '361061', '361062', '361063', '361065',\n",
       "       '361066', '361068', '361069', '361070', '361273', '361274',\n",
       "       '361275', '361277', '361278'], dtype=object)"
      ]
     },
     "execution_count": 33,
     "metadata": {},
     "output_type": "execute_result"
    }
   ],
   "source": [
    "results[\"task_id\"].unique()"
   ]
  },
  {
   "cell_type": "code",
   "execution_count": 14,
   "metadata": {},
   "outputs": [
    {
     "data": {
      "text/html": [
       "<div>\n",
       "<style scoped>\n",
       "    .dataframe tbody tr th:only-of-type {\n",
       "        vertical-align: middle;\n",
       "    }\n",
       "\n",
       "    .dataframe tbody tr th {\n",
       "        vertical-align: top;\n",
       "    }\n",
       "\n",
       "    .dataframe thead th {\n",
       "        text-align: right;\n",
       "    }\n",
       "</style>\n",
       "<table border=\"1\" class=\"dataframe\">\n",
       "  <thead>\n",
       "    <tr style=\"text-align: right;\">\n",
       "      <th></th>\n",
       "      <th>Unnamed: 0.13</th>\n",
       "      <th>Unnamed: 0.12</th>\n",
       "      <th>Unnamed: 0.11</th>\n",
       "      <th>Unnamed: 0.10</th>\n",
       "      <th>Unnamed: 0.9</th>\n",
       "      <th>Unnamed: 0.8</th>\n",
       "      <th>Unnamed: 0.7</th>\n",
       "      <th>Unnamed: 0.6</th>\n",
       "      <th>Unnamed: 0.5</th>\n",
       "      <th>Unnamed: 0.4</th>\n",
       "      <th>...</th>\n",
       "      <th>Unnamed: 0.2</th>\n",
       "      <th>Unnamed: 0.1</th>\n",
       "      <th>Unnamed: 0</th>\n",
       "      <th>suite_id</th>\n",
       "      <th>task_id</th>\n",
       "      <th>seed</th>\n",
       "      <th>metric</th>\n",
       "      <th>value</th>\n",
       "      <th>model</th>\n",
       "      <th>accuracy</th>\n",
       "    </tr>\n",
       "  </thead>\n",
       "  <tbody>\n",
       "    <tr>\n",
       "      <th>2232</th>\n",
       "      <td>2232</td>\n",
       "      <td>2232.0</td>\n",
       "      <td>2232.0</td>\n",
       "      <td>0.0</td>\n",
       "      <td>NaN</td>\n",
       "      <td>NaN</td>\n",
       "      <td>NaN</td>\n",
       "      <td>NaN</td>\n",
       "      <td>NaN</td>\n",
       "      <td>NaN</td>\n",
       "      <td>...</td>\n",
       "      <td>NaN</td>\n",
       "      <td>NaN</td>\n",
       "      <td>NaN</td>\n",
       "      <td>337</td>\n",
       "      <td>361055</td>\n",
       "      <td>0</td>\n",
       "      <td>accuracy</td>\n",
       "      <td>0.765931</td>\n",
       "      <td>trees69859_eouc70o7_390</td>\n",
       "      <td>0.765931</td>\n",
       "    </tr>\n",
       "    <tr>\n",
       "      <th>2234</th>\n",
       "      <td>2234</td>\n",
       "      <td>2234.0</td>\n",
       "      <td>2234.0</td>\n",
       "      <td>0.0</td>\n",
       "      <td>NaN</td>\n",
       "      <td>NaN</td>\n",
       "      <td>NaN</td>\n",
       "      <td>NaN</td>\n",
       "      <td>NaN</td>\n",
       "      <td>NaN</td>\n",
       "      <td>...</td>\n",
       "      <td>NaN</td>\n",
       "      <td>NaN</td>\n",
       "      <td>NaN</td>\n",
       "      <td>337</td>\n",
       "      <td>361055</td>\n",
       "      <td>1</td>\n",
       "      <td>accuracy</td>\n",
       "      <td>0.761809</td>\n",
       "      <td>trees69859_eouc70o7_390</td>\n",
       "      <td>0.761809</td>\n",
       "    </tr>\n",
       "    <tr>\n",
       "      <th>2236</th>\n",
       "      <td>2236</td>\n",
       "      <td>2236.0</td>\n",
       "      <td>2236.0</td>\n",
       "      <td>0.0</td>\n",
       "      <td>NaN</td>\n",
       "      <td>NaN</td>\n",
       "      <td>NaN</td>\n",
       "      <td>NaN</td>\n",
       "      <td>NaN</td>\n",
       "      <td>NaN</td>\n",
       "      <td>...</td>\n",
       "      <td>NaN</td>\n",
       "      <td>NaN</td>\n",
       "      <td>NaN</td>\n",
       "      <td>337</td>\n",
       "      <td>361055</td>\n",
       "      <td>2</td>\n",
       "      <td>accuracy</td>\n",
       "      <td>0.751894</td>\n",
       "      <td>trees69859_eouc70o7_390</td>\n",
       "      <td>0.751894</td>\n",
       "    </tr>\n",
       "    <tr>\n",
       "      <th>2238</th>\n",
       "      <td>2238</td>\n",
       "      <td>2238.0</td>\n",
       "      <td>2238.0</td>\n",
       "      <td>0.0</td>\n",
       "      <td>NaN</td>\n",
       "      <td>NaN</td>\n",
       "      <td>NaN</td>\n",
       "      <td>NaN</td>\n",
       "      <td>NaN</td>\n",
       "      <td>NaN</td>\n",
       "      <td>...</td>\n",
       "      <td>NaN</td>\n",
       "      <td>NaN</td>\n",
       "      <td>NaN</td>\n",
       "      <td>337</td>\n",
       "      <td>361060</td>\n",
       "      <td>0</td>\n",
       "      <td>accuracy</td>\n",
       "      <td>0.782754</td>\n",
       "      <td>trees69859_eouc70o7_390</td>\n",
       "      <td>0.782754</td>\n",
       "    </tr>\n",
       "    <tr>\n",
       "      <th>2240</th>\n",
       "      <td>2240</td>\n",
       "      <td>2240.0</td>\n",
       "      <td>2240.0</td>\n",
       "      <td>0.0</td>\n",
       "      <td>NaN</td>\n",
       "      <td>NaN</td>\n",
       "      <td>NaN</td>\n",
       "      <td>NaN</td>\n",
       "      <td>NaN</td>\n",
       "      <td>NaN</td>\n",
       "      <td>...</td>\n",
       "      <td>NaN</td>\n",
       "      <td>NaN</td>\n",
       "      <td>NaN</td>\n",
       "      <td>337</td>\n",
       "      <td>361060</td>\n",
       "      <td>1</td>\n",
       "      <td>accuracy</td>\n",
       "      <td>0.778743</td>\n",
       "      <td>trees69859_eouc70o7_390</td>\n",
       "      <td>0.778743</td>\n",
       "    </tr>\n",
       "    <tr>\n",
       "      <th>...</th>\n",
       "      <td>...</td>\n",
       "      <td>...</td>\n",
       "      <td>...</td>\n",
       "      <td>...</td>\n",
       "      <td>...</td>\n",
       "      <td>...</td>\n",
       "      <td>...</td>\n",
       "      <td>...</td>\n",
       "      <td>...</td>\n",
       "      <td>...</td>\n",
       "      <td>...</td>\n",
       "      <td>...</td>\n",
       "      <td>...</td>\n",
       "      <td>...</td>\n",
       "      <td>...</td>\n",
       "      <td>...</td>\n",
       "      <td>...</td>\n",
       "      <td>...</td>\n",
       "      <td>...</td>\n",
       "      <td>...</td>\n",
       "      <td>...</td>\n",
       "    </tr>\n",
       "    <tr>\n",
       "      <th>3248</th>\n",
       "      <td>0</td>\n",
       "      <td>NaN</td>\n",
       "      <td>NaN</td>\n",
       "      <td>NaN</td>\n",
       "      <td>NaN</td>\n",
       "      <td>NaN</td>\n",
       "      <td>NaN</td>\n",
       "      <td>NaN</td>\n",
       "      <td>NaN</td>\n",
       "      <td>NaN</td>\n",
       "      <td>...</td>\n",
       "      <td>NaN</td>\n",
       "      <td>NaN</td>\n",
       "      <td>NaN</td>\n",
       "      <td>337</td>\n",
       "      <td>361277</td>\n",
       "      <td>1</td>\n",
       "      <td>accuracy</td>\n",
       "      <td>0.786208</td>\n",
       "      <td>trees69859_eouc70o7_390_random_rotation</td>\n",
       "      <td>0.786208</td>\n",
       "    </tr>\n",
       "    <tr>\n",
       "      <th>3250</th>\n",
       "      <td>0</td>\n",
       "      <td>NaN</td>\n",
       "      <td>NaN</td>\n",
       "      <td>NaN</td>\n",
       "      <td>NaN</td>\n",
       "      <td>NaN</td>\n",
       "      <td>NaN</td>\n",
       "      <td>NaN</td>\n",
       "      <td>NaN</td>\n",
       "      <td>NaN</td>\n",
       "      <td>...</td>\n",
       "      <td>NaN</td>\n",
       "      <td>NaN</td>\n",
       "      <td>NaN</td>\n",
       "      <td>337</td>\n",
       "      <td>361277</td>\n",
       "      <td>2</td>\n",
       "      <td>accuracy</td>\n",
       "      <td>0.778966</td>\n",
       "      <td>trees69859_eouc70o7_390_random_rotation</td>\n",
       "      <td>0.778966</td>\n",
       "    </tr>\n",
       "    <tr>\n",
       "      <th>3252</th>\n",
       "      <td>0</td>\n",
       "      <td>NaN</td>\n",
       "      <td>NaN</td>\n",
       "      <td>NaN</td>\n",
       "      <td>NaN</td>\n",
       "      <td>NaN</td>\n",
       "      <td>NaN</td>\n",
       "      <td>NaN</td>\n",
       "      <td>NaN</td>\n",
       "      <td>NaN</td>\n",
       "      <td>...</td>\n",
       "      <td>NaN</td>\n",
       "      <td>NaN</td>\n",
       "      <td>NaN</td>\n",
       "      <td>337</td>\n",
       "      <td>361278</td>\n",
       "      <td>0</td>\n",
       "      <td>accuracy</td>\n",
       "      <td>0.686832</td>\n",
       "      <td>trees69859_eouc70o7_390_random_rotation</td>\n",
       "      <td>0.686832</td>\n",
       "    </tr>\n",
       "    <tr>\n",
       "      <th>3254</th>\n",
       "      <td>0</td>\n",
       "      <td>NaN</td>\n",
       "      <td>NaN</td>\n",
       "      <td>NaN</td>\n",
       "      <td>NaN</td>\n",
       "      <td>NaN</td>\n",
       "      <td>NaN</td>\n",
       "      <td>NaN</td>\n",
       "      <td>NaN</td>\n",
       "      <td>NaN</td>\n",
       "      <td>...</td>\n",
       "      <td>NaN</td>\n",
       "      <td>NaN</td>\n",
       "      <td>NaN</td>\n",
       "      <td>337</td>\n",
       "      <td>361278</td>\n",
       "      <td>1</td>\n",
       "      <td>accuracy</td>\n",
       "      <td>0.680704</td>\n",
       "      <td>trees69859_eouc70o7_390_random_rotation</td>\n",
       "      <td>0.680704</td>\n",
       "    </tr>\n",
       "    <tr>\n",
       "      <th>3256</th>\n",
       "      <td>0</td>\n",
       "      <td>NaN</td>\n",
       "      <td>NaN</td>\n",
       "      <td>NaN</td>\n",
       "      <td>NaN</td>\n",
       "      <td>NaN</td>\n",
       "      <td>NaN</td>\n",
       "      <td>NaN</td>\n",
       "      <td>NaN</td>\n",
       "      <td>NaN</td>\n",
       "      <td>...</td>\n",
       "      <td>NaN</td>\n",
       "      <td>NaN</td>\n",
       "      <td>NaN</td>\n",
       "      <td>337</td>\n",
       "      <td>361278</td>\n",
       "      <td>2</td>\n",
       "      <td>accuracy</td>\n",
       "      <td>0.677585</td>\n",
       "      <td>trees69859_eouc70o7_390_random_rotation</td>\n",
       "      <td>0.677585</td>\n",
       "    </tr>\n",
       "  </tbody>\n",
       "</table>\n",
       "<p>90 rows × 21 columns</p>\n",
       "</div>"
      ],
      "text/plain": [
       "      Unnamed: 0.13  Unnamed: 0.12  Unnamed: 0.11  Unnamed: 0.10  \\\n",
       "2232           2232         2232.0         2232.0            0.0   \n",
       "2234           2234         2234.0         2234.0            0.0   \n",
       "2236           2236         2236.0         2236.0            0.0   \n",
       "2238           2238         2238.0         2238.0            0.0   \n",
       "2240           2240         2240.0         2240.0            0.0   \n",
       "...             ...            ...            ...            ...   \n",
       "3248              0            NaN            NaN            NaN   \n",
       "3250              0            NaN            NaN            NaN   \n",
       "3252              0            NaN            NaN            NaN   \n",
       "3254              0            NaN            NaN            NaN   \n",
       "3256              0            NaN            NaN            NaN   \n",
       "\n",
       "      Unnamed: 0.9  Unnamed: 0.8  Unnamed: 0.7  Unnamed: 0.6  Unnamed: 0.5  \\\n",
       "2232           NaN           NaN           NaN           NaN           NaN   \n",
       "2234           NaN           NaN           NaN           NaN           NaN   \n",
       "2236           NaN           NaN           NaN           NaN           NaN   \n",
       "2238           NaN           NaN           NaN           NaN           NaN   \n",
       "2240           NaN           NaN           NaN           NaN           NaN   \n",
       "...            ...           ...           ...           ...           ...   \n",
       "3248           NaN           NaN           NaN           NaN           NaN   \n",
       "3250           NaN           NaN           NaN           NaN           NaN   \n",
       "3252           NaN           NaN           NaN           NaN           NaN   \n",
       "3254           NaN           NaN           NaN           NaN           NaN   \n",
       "3256           NaN           NaN           NaN           NaN           NaN   \n",
       "\n",
       "      Unnamed: 0.4  ...  Unnamed: 0.2  Unnamed: 0.1  Unnamed: 0  suite_id  \\\n",
       "2232           NaN  ...           NaN           NaN         NaN       337   \n",
       "2234           NaN  ...           NaN           NaN         NaN       337   \n",
       "2236           NaN  ...           NaN           NaN         NaN       337   \n",
       "2238           NaN  ...           NaN           NaN         NaN       337   \n",
       "2240           NaN  ...           NaN           NaN         NaN       337   \n",
       "...            ...  ...           ...           ...         ...       ...   \n",
       "3248           NaN  ...           NaN           NaN         NaN       337   \n",
       "3250           NaN  ...           NaN           NaN         NaN       337   \n",
       "3252           NaN  ...           NaN           NaN         NaN       337   \n",
       "3254           NaN  ...           NaN           NaN         NaN       337   \n",
       "3256           NaN  ...           NaN           NaN         NaN       337   \n",
       "\n",
       "     task_id seed    metric     value  \\\n",
       "2232  361055    0  accuracy  0.765931   \n",
       "2234  361055    1  accuracy  0.761809   \n",
       "2236  361055    2  accuracy  0.751894   \n",
       "2238  361060    0  accuracy  0.782754   \n",
       "2240  361060    1  accuracy  0.778743   \n",
       "...      ...  ...       ...       ...   \n",
       "3248  361277    1  accuracy  0.786208   \n",
       "3250  361277    2  accuracy  0.778966   \n",
       "3252  361278    0  accuracy  0.686832   \n",
       "3254  361278    1  accuracy  0.680704   \n",
       "3256  361278    2  accuracy  0.677585   \n",
       "\n",
       "                                        model  accuracy  \n",
       "2232                  trees69859_eouc70o7_390  0.765931  \n",
       "2234                  trees69859_eouc70o7_390  0.761809  \n",
       "2236                  trees69859_eouc70o7_390  0.751894  \n",
       "2238                  trees69859_eouc70o7_390  0.782754  \n",
       "2240                  trees69859_eouc70o7_390  0.778743  \n",
       "...                                       ...       ...  \n",
       "3248  trees69859_eouc70o7_390_random_rotation  0.786208  \n",
       "3250  trees69859_eouc70o7_390_random_rotation  0.778966  \n",
       "3252  trees69859_eouc70o7_390_random_rotation  0.686832  \n",
       "3254  trees69859_eouc70o7_390_random_rotation  0.680704  \n",
       "3256  trees69859_eouc70o7_390_random_rotation  0.677585  \n",
       "\n",
       "[90 rows x 21 columns]"
      ]
     },
     "execution_count": 14,
     "metadata": {},
     "output_type": "execute_result"
    }
   ],
   "source": []
  },
  {
   "cell_type": "code",
   "execution_count": 28,
   "metadata": {},
   "outputs": [
    {
     "data": {
      "text/plain": [
       "<Axes: xlabel='accuracy', ylabel='task_id'>"
      ]
     },
     "execution_count": 28,
     "metadata": {},
     "output_type": "execute_result"
    },
    {
     "data": {
      "image/png": "[encoded data removed]",
      "text/plain": [
       "<Figure size 2000x1000 with 1 Axes>"
      ]
     },
     "metadata": {},
     "output_type": "display_data"
    }
   ],
   "source": [
    "# plot the results\n",
    "# score in y\n",
    "# task_id in x\n",
    "# hue is the model\n",
    "import matplotlib.pyplot as plt\n",
    "\n",
    "sns.set(style=\"whitegrid\")\n",
    "# bigger plot\n",
    "plt.figure(figsize=(20, 10))\n",
    "# accuracy\n",
    "\n",
    "#ax = sns.boxplot(x=\"task_id\", y=\"value\", hue=\"model\", data=results_337[results_337[\"metric\"] == \"accuracy\"], palette=\"Set3\")\n",
    "# replace by scatterplot\n",
    "results[\"task_id\"] = results[\"task_id\"].astype(str)\n",
    "sns.stripplot(y=\"task_id\", x=\"accuracy\", hue=\"model\", \n",
    "              #data=results[results[\"model\"].isin([\"trees69859_eouc70o7_390\", \"trees69859_eouc70o7_390_random_rotation\", \"tabpfn\", \"tabpfn_random_rotation\", \"gbt\", \"gbt_random_rotation\"])],\n",
    "              #data=results[results[\"model\"].isin([\"trees73904_ba9wuzhe_390\", \"trees4315_080m7u0l_390\", \"trees69859_eouc70o7_390\", \"trees676_obqe7mfl_350\", \"tabpfn\", \"gbt\", \"log_reg\"])],\n",
    "              data=results[results[\"model\"].isin(models_to_show)],\n",
    "              dodge=True)\n",
    "# plot horizontal lines for the different tasks\n",
    "# unique_tasks = results[\"task_id\"].unique()\n",
    "# for task in unique_tasks:\n",
    "#     task_index = list(unique_tasks).index(task)\n",
    "#     if int(task) in datasets_with_more_than_two_classes:\n",
    "#         plt.axhline(y=task_index + 0.5, color='red', linestyle='--', linewidth=0.7)\n",
    "#     else:\n",
    "#         plt.axhline(y=task_index + 0.5, color='grey', linestyle='--', linewidth=0.7)"
   ]
  },
  {
   "cell_type": "code",
   "execution_count": null,
   "metadata": {},
   "outputs": [],
   "source": []
  },
  {
   "cell_type": "code",
   "execution_count": 29,
   "metadata": {},
   "outputs": [
    {
     "name": "stderr",
     "output_type": "stream",
     "text": [
      "/tmp/ipykernel_19705/2866083971.py:4: FutureWarning: The default value of numeric_only in DataFrameGroupBy.mean is deprecated. In a future version, numeric_only will default to False. Either specify numeric_only or select only columns which should be valid for the function.\n",
      "  mean_acc = results[results[\"model\"].isin(models_to_show)].groupby(['model', 'task_id']).mean()\n"
     ]
    },
    {
     "data": {
      "text/plain": [
       "model\n",
       "tabpfn                     2.428571\n",
       "trees676_obqe7mfl_350      2.285714\n",
       "trees7329_6qspdk92_400     2.714286\n",
       "trees97149_stz4qj1z_180    2.571429\n",
       "Name: rank, dtype: float64"
      ]
     },
     "execution_count": 29,
     "metadata": {},
     "output_type": "execute_result"
    }
   ],
   "source": [
    "# Compute mean rank of each model\n",
    "#results = results_337[results_337[\"metric\"] == \"accuracy\"]\n",
    "# group by model and task_id, and compute the mean accuracy\n",
    "mean_acc = results[results[\"model\"].isin(models_to_show)].groupby(['model', 'task_id']).mean()\n",
    "\n",
    "\n",
    "# sort the resulting dataframe by model and accuracy\n",
    "sorted_acc = mean_acc.sort_values(['model', 'value'], ascending=[True, False])\n",
    "\n",
    "# assign ranks to each model based on sorted order of accuracy\n",
    "sorted_acc['rank'] = sorted_acc.groupby('task_id')['value'].rank(method='dense', ascending=False)\n",
    "\n",
    "\n",
    "# compute the mean rank for each model\n",
    "mean_rank = sorted_acc.groupby('model')['rank'].mean()\n",
    "\n",
    "mean_rank"
   ]
  },
  {
   "cell_type": "code",
   "execution_count": 30,
   "metadata": {},
   "outputs": [
    {
     "name": "stdout",
     "output_type": "stream",
     "text": [
      "model\n",
      "tabpfn                     0.587794\n",
      "trees676_obqe7mfl_350      0.596950\n",
      "trees7329_6qspdk92_400     0.551537\n",
      "trees97149_stz4qj1z_180    0.512668\n",
      "Name: normalized_accuracy, dtype: float64\n"
     ]
    }
   ],
   "source": [
    "import pandas as pd\n",
    "\n",
    "# compute the maximum and minimum accuracy for each task\n",
    "task_acc_range = results[results[\"model\"].isin(models_to_show)].groupby('task_id')['accuracy'].agg(['max', 'min'])\n",
    "\n",
    "# merge the maximum and minimum accuracy with the original dataframe\n",
    "merged_df = pd.merge(results[results[\"model\"].isin(models_to_show)], task_acc_range, on='task_id')\n",
    "\n",
    "# compute the range of accuracy for each task\n",
    "merged_df['range'] = merged_df['max'] - merged_df['min']\n",
    "\n",
    "# compute the normalized accuracy for each task\n",
    "merged_df['normalized_accuracy'] = (merged_df['accuracy'] - merged_df['min']) / merged_df['range']\n",
    "\n",
    "# compute the mean normalized accuracy for each model\n",
    "mean_normalized_acc = merged_df.groupby('model')['normalized_accuracy'].mean()\n",
    "\n",
    "print(mean_normalized_acc)\n"
   ]
  },
  {
   "cell_type": "code",
   "execution_count": 1,
   "metadata": {},
   "outputs": [],
   "source": [
    "from tabpfn import TabPFNClassifier"
   ]
  },
  {
   "cell_type": "code",
   "execution_count": 2,
   "metadata": {},
   "outputs": [
    {
     "name": "stdout",
     "output_type": "stream",
     "text": [
      "Using style prior: True\n",
      "{'recompute_attn': True}\n",
      "<module 'wandb' from '/home/soda/lgrinszt/.local/miniconda3/envs/tab_pfn2/lib/python3.9/site-packages/wandb/__init__.py'>\n",
      "Using cpu device\n",
      "Batch size: 1\n",
      "DataLoader.__dict__ {'num_features': 100, 'num_steps': 8192, 'batch_size': 1, 'eval_pos_seq_len_sampler': <function create_model.<locals>.eval_pos_seq_len_sampler at 0x7fb56113aee0>, 'seq_len_maximum': 10, 'device': 'cpu', 'get_batch_kwargs': {'hyperparameters': {'lr': 0.0001, 'dropout': 0.0, 'emsize': 512, 'batch_size': 1, 'nlayers': 12, 'num_features': 100, 'nhead': 4, 'nhid_factor': 2, 'bptt': 10, 'eval_positions': [972], 'seq_len_used': 50, 'sampling': 'mixed', 'epochs': 400, 'num_steps': 8192, 'verbose': False, 'mix_activations': True, 'nan_prob_unknown_reason_reason_prior': 1.0, 'categorical_feature_p': 0.2, 'nan_prob_no_reason': 0.0, 'nan_prob_unknown_reason': 0.0, 'nan_prob_a_reason': 0.0, 'max_num_classes': 10, 'num_classes': 2, 'noise_type': 'Gaussian', 'balanced': False, 'normalize_to_ranking': False, 'set_value_to_nan': 0.1, 'normalize_by_used_features': True, 'num_features_used': <function load_model_no_train.<locals>.<lambda> at 0x7fb5e41c15e0>, 'num_categorical_features_sampler_a': -1.0, 'differentiable_hyperparameters': {'distribution': 'uniform', 'min': 1000000.0, 'max': 1000001.0}, 'prior_type': 'prior_bag', 'differentiable': True, 'flexible': True, 'aggregate_k_gradients': 8, 'recompute_attn': True, 'bptt_extra_samples': None, 'dynamic_batch_size': False, 'multiclass_loss_type': 'nono', 'output_multiclass_ordered_p': 0.0, 'normalize_with_sqrt': False, 'new_mlp_per_example': True, 'prior_mlp_scale_weights_sqrt': True, 'batch_size_per_gp_sample': None, 'normalize_ignore_label_too': True, 'differentiable_hps_as_style': False, 'max_eval_pos': 1000, 'random_feature_rotation': True, 'rotate_normalized_labels': True, 'canonical_y_encoder': False, 'total_available_time_in_s': None, 'train_mixed_precision': True, 'efficient_eval_masking': True, 'multiclass_type': 'rank', 'done_part_in_training': 0.8425, 'categorical_features_sampler': <function load_model_no_train.<locals>.<lambda> at 0x7fb5e41c1700>, 'num_features_used_in_training': '<function <lambda>.<locals>.<lambda> at 0x7fc575dfb5e0>', 'num_classes_in_training': '<function <lambda>.<locals>.<lambda> at 0x7fc575dfb550>', 'batch_size_in_training': 8, 'bptt_in_training': 1024, 'bptt_extra_samples_in_training': None, 'prior_bag_get_batch': (<function get_model_no_train.<locals>.make_get_batch.<locals>.new_get_batch at 0x7fb56113aca0>, <function get_model_no_train.<locals>.make_get_batch.<locals>.new_get_batch at 0x7fb56113ad30>), 'prior_bag_exp_weights_1': 2.0, 'normalize_labels': True, 'check_is_compatible': True}, 'batch_size_per_gp_sample': None, 'get_batch': <function get_model_no_train.<locals>.make_get_batch.<locals>.new_get_batch at 0x7fb56113adc0>, 'differentiable_hyperparameters': {'prior_bag_exp_weights_1': {'distribution': 'uniform', 'min': 1000000.0, 'max': 1000001.0}, 'num_layers': {'distribution': 'meta_trunc_norm_log_scaled', 'max_mean': 6, 'min_mean': 1, 'round': True, 'lower_bound': 2}, 'prior_mlp_hidden_dim': {'distribution': 'meta_trunc_norm_log_scaled', 'max_mean': 130, 'min_mean': 5, 'round': True, 'lower_bound': 4}, 'prior_mlp_dropout_prob': {'distribution': 'meta_beta', 'scale': 0.9, 'min': 0.1, 'max': 5.0}, 'noise_std': {'distribution': 'meta_trunc_norm_log_scaled', 'max_mean': 0.3, 'min_mean': 0.0001, 'round': False, 'lower_bound': 0.0}, 'init_std': {'distribution': 'meta_trunc_norm_log_scaled', 'max_mean': 10.0, 'min_mean': 0.01, 'round': False, 'lower_bound': 0.0}, 'num_causes': {'distribution': 'meta_trunc_norm_log_scaled', 'max_mean': 12, 'min_mean': 1, 'round': True, 'lower_bound': 1}, 'is_causal': {'distribution': 'meta_choice', 'choice_values': [True, False]}, 'pre_sample_weights': {'distribution': 'meta_choice', 'choice_values': [True, False]}, 'y_is_effect': {'distribution': 'meta_choice', 'choice_values': [True, False]}, 'prior_mlp_activations': {'distribution': 'meta_choice_mixed', 'choice_values': [<class 'torch.nn.modules.activation.Tanh'>, <class 'torch.nn.modules.activation.Tanh'>, <class 'torch.nn.modules.activation.Tanh'>, <class 'torch.nn.modules.activation.Tanh'>], 'choice_values_used': [\"<class 'torch.nn.modules.activation.Tanh'>\", \"<class 'torch.nn.modules.linear.Identity'>\", '<function get_diff_causal.<locals>.<lambda> at 0x7fc575dfb670>', \"<class 'torch.nn.modules.activation.ELU'>\"]}, 'block_wise_dropout': {'distribution': 'meta_choice', 'choice_values': [True, False]}, 'sort_features': {'distribution': 'meta_choice', 'choice_values': [True, False]}, 'in_clique': {'distribution': 'meta_choice', 'choice_values': [True, False]}, 'sampling': {'distribution': 'meta_choice', 'choice_values': ['normal', 'mixed']}, 'pre_sample_causes': {'distribution': 'meta_choice', 'choice_values': [True, False]}, 'outputscale': {'distribution': 'meta_trunc_norm_log_scaled', 'max_mean': 10.0, 'min_mean': 1e-05, 'round': False, 'lower_bound': 0}, 'lengthscale': {'distribution': 'meta_trunc_norm_log_scaled', 'max_mean': 10.0, 'min_mean': 1e-05, 'round': False, 'lower_bound': 0}, 'noise': {'distribution': 'meta_choice', 'choice_values': [1e-05, 0.0001, 0.01]}, 'multiclass_type': {'distribution': 'meta_choice', 'choice_values': ['value', 'rank']}}}, 'get_batch_method': <function get_batch at 0x7fb3955a1e50>, 'model': None, 'epoch': 0, 'test_loader': False}\n",
      "Using a Transformer with 25.82 M parameters\n"
     ]
    },
    {
     "data": {
      "text/html": [
       "<style>#sk-container-id-1 {color: black;background-color: white;}#sk-container-id-1 pre{padding: 0;}#sk-container-id-1 div.sk-toggleable {background-color: white;}#sk-container-id-1 label.sk-toggleable__label {cursor: pointer;display: block;width: 100%;margin-bottom: 0;padding: 0.3em;box-sizing: border-box;text-align: center;}#sk-container-id-1 label.sk-toggleable__label-arrow:before {content: \"▸\";float: left;margin-right: 0.25em;color: #696969;}#sk-container-id-1 label.sk-toggleable__label-arrow:hover:before {color: black;}#sk-container-id-1 div.sk-estimator:hover label.sk-toggleable__label-arrow:before {color: black;}#sk-container-id-1 div.sk-toggleable__content {max-height: 0;max-width: 0;overflow: hidden;text-align: left;background-color: #f0f8ff;}#sk-container-id-1 div.sk-toggleable__content pre {margin: 0.2em;color: black;border-radius: 0.25em;background-color: #f0f8ff;}#sk-container-id-1 input.sk-toggleable__control:checked~div.sk-toggleable__content {max-height: 200px;max-width: 100%;overflow: auto;}#sk-container-id-1 input.sk-toggleable__control:checked~label.sk-toggleable__label-arrow:before {content: \"▾\";}#sk-container-id-1 div.sk-estimator input.sk-toggleable__control:checked~label.sk-toggleable__label {background-color: #d4ebff;}#sk-container-id-1 div.sk-label input.sk-toggleable__control:checked~label.sk-toggleable__label {background-color: #d4ebff;}#sk-container-id-1 input.sk-hidden--visually {border: 0;clip: rect(1px 1px 1px 1px);clip: rect(1px, 1px, 1px, 1px);height: 1px;margin: -1px;overflow: hidden;padding: 0;position: absolute;width: 1px;}#sk-container-id-1 div.sk-estimator {font-family: monospace;background-color: #f0f8ff;border: 1px dotted black;border-radius: 0.25em;box-sizing: border-box;margin-bottom: 0.5em;}#sk-container-id-1 div.sk-estimator:hover {background-color: #d4ebff;}#sk-container-id-1 div.sk-parallel-item::after {content: \"\";width: 100%;border-bottom: 1px solid gray;flex-grow: 1;}#sk-container-id-1 div.sk-label:hover label.sk-toggleable__label {background-color: #d4ebff;}#sk-container-id-1 div.sk-serial::before {content: \"\";position: absolute;border-left: 1px solid gray;box-sizing: border-box;top: 0;bottom: 0;left: 50%;z-index: 0;}#sk-container-id-1 div.sk-serial {display: flex;flex-direction: column;align-items: center;background-color: white;padding-right: 0.2em;padding-left: 0.2em;position: relative;}#sk-container-id-1 div.sk-item {position: relative;z-index: 1;}#sk-container-id-1 div.sk-parallel {display: flex;align-items: stretch;justify-content: center;background-color: white;position: relative;}#sk-container-id-1 div.sk-item::before, #sk-container-id-1 div.sk-parallel-item::before {content: \"\";position: absolute;border-left: 1px solid gray;box-sizing: border-box;top: 0;bottom: 0;left: 50%;z-index: -1;}#sk-container-id-1 div.sk-parallel-item {display: flex;flex-direction: column;z-index: 1;position: relative;background-color: white;}#sk-container-id-1 div.sk-parallel-item:first-child::after {align-self: flex-end;width: 50%;}#sk-container-id-1 div.sk-parallel-item:last-child::after {align-self: flex-start;width: 50%;}#sk-container-id-1 div.sk-parallel-item:only-child::after {width: 0;}#sk-container-id-1 div.sk-dashed-wrapped {border: 1px dashed gray;margin: 0 0.4em 0.5em 0.4em;box-sizing: border-box;padding-bottom: 0.4em;background-color: white;}#sk-container-id-1 div.sk-label label {font-family: monospace;font-weight: bold;display: inline-block;line-height: 1.2em;}#sk-container-id-1 div.sk-label-container {text-align: center;}#sk-container-id-1 div.sk-container {/* jupyter's `normalize.less` sets `[hidden] { display: none; }` but bootstrap.min.css set `[hidden] { display: none !important; }` so we also need the `!important` here to be able to override the default hidden behavior on the sphinx rendered scikit-learn.org. See: https://github.com/scikit-learn/scikit-learn/issues/21755 */display: inline-block !important;position: relative;}#sk-container-id-1 div.sk-text-repr-fallback {display: none;}</style><div id=\"sk-container-id-1\" class=\"sk-top-container\"><div class=\"sk-text-repr-fallback\"><pre>TabPFNClassifier()</pre><b>In a Jupyter environment, please rerun this cell to show the HTML representation or trust the notebook. <br />On GitHub, the HTML representation is unable to render, please try loading this page with nbviewer.org.</b></div><div class=\"sk-container\" hidden><div class=\"sk-item\"><div class=\"sk-estimator sk-toggleable\"><input class=\"sk-toggleable__control sk-hidden--visually\" id=\"sk-estimator-id-1\" type=\"checkbox\" checked><label for=\"sk-estimator-id-1\" class=\"sk-toggleable__label sk-toggleable__label-arrow\">TabPFNClassifier</label><div class=\"sk-toggleable__content\"><pre>TabPFNClassifier()</pre></div></div></div></div></div>"
      ],
      "text/plain": [
       "TabPFNClassifier()"
      ]
     },
     "execution_count": 2,
     "metadata": {},
     "output_type": "execute_result"
    }
   ],
   "source": [
    "TabPFNClassifier()"
   ]
  },
  {
   "cell_type": "code",
   "execution_count": 4,
   "metadata": {},
   "outputs": [
    {
     "name": "stdout",
     "output_type": "stream",
     "text": [
      "Using style prior: True\n",
      "{'recompute_attn': True}\n",
      "<module 'wandb' from '/home/soda/lgrinszt/.local/miniconda3/envs/tab_pfn2/lib/python3.9/site-packages/wandb/__init__.py'>\n",
      "Using cpu device\n",
      "Batch size: 1\n",
      "DataLoader.__dict__ {'num_features': 100, 'num_steps': 8192, 'batch_size': 1, 'eval_pos_seq_len_sampler': <function create_model.<locals>.eval_pos_seq_len_sampler at 0x7fe4b1a401f0>, 'seq_len_maximum': 10, 'device': 'cpu', 'get_batch_kwargs': {'hyperparameters': {'lr': 0.0001, 'dropout': 0.0, 'emsize': 512, 'batch_size': 1, 'nlayers': 12, 'num_features': 100, 'nhead': 4, 'nhid_factor': 2, 'bptt': 10, 'eval_positions': [972], 'seq_len_used': 50, 'sampling': 'mixed', 'epochs': 400, 'num_steps': 8192, 'verbose': False, 'mix_activations': True, 'nan_prob_unknown_reason_reason_prior': 1.0, 'categorical_feature_p': 0.2, 'nan_prob_no_reason': 0.0, 'nan_prob_unknown_reason': 0.0, 'nan_prob_a_reason': 0.0, 'max_num_classes': 10, 'num_classes': 2, 'noise_type': 'Gaussian', 'balanced': False, 'normalize_to_ranking': False, 'set_value_to_nan': 0.1, 'normalize_by_used_features': True, 'num_features_used': <function load_model_no_train.<locals>.<lambda> at 0x7fe5400a4ca0>, 'num_categorical_features_sampler_a': -1.0, 'differentiable_hyperparameters': {'distribution': 'uniform', 'min': 1000000.0, 'max': 1000001.0}, 'prior_type': 'prior_bag', 'differentiable': True, 'flexible': True, 'aggregate_k_gradients': 8, 'recompute_attn': True, 'bptt_extra_samples': None, 'dynamic_batch_size': False, 'multiclass_loss_type': 'nono', 'output_multiclass_ordered_p': 0.0, 'normalize_with_sqrt': False, 'new_mlp_per_example': True, 'prior_mlp_scale_weights_sqrt': True, 'batch_size_per_gp_sample': None, 'normalize_ignore_label_too': True, 'differentiable_hps_as_style': False, 'max_eval_pos': 1000, 'random_feature_rotation': True, 'rotate_normalized_labels': True, 'canonical_y_encoder': False, 'total_available_time_in_s': None, 'train_mixed_precision': True, 'efficient_eval_masking': True, 'multiclass_type': 'rank', 'done_part_in_training': 0.8425, 'categorical_features_sampler': <function load_model_no_train.<locals>.<lambda> at 0x7fe530f303a0>, 'num_features_used_in_training': '<function <lambda>.<locals>.<lambda> at 0x7fc575dfb5e0>', 'num_classes_in_training': '<function <lambda>.<locals>.<lambda> at 0x7fc575dfb550>', 'batch_size_in_training': 8, 'bptt_in_training': 1024, 'bptt_extra_samples_in_training': None, 'prior_bag_get_batch': (<function get_model_no_train.<locals>.make_get_batch.<locals>.new_get_batch at 0x7fe4b1a99b80>, <function get_model_no_train.<locals>.make_get_batch.<locals>.new_get_batch at 0x7fe4b1a40040>), 'prior_bag_exp_weights_1': 2.0, 'normalize_labels': True, 'check_is_compatible': True}, 'batch_size_per_gp_sample': None, 'get_batch': <function get_model_no_train.<locals>.make_get_batch.<locals>.new_get_batch at 0x7fe4b1a400d0>, 'differentiable_hyperparameters': {'prior_bag_exp_weights_1': {'distribution': 'uniform', 'min': 1000000.0, 'max': 1000001.0}, 'num_layers': {'distribution': 'meta_trunc_norm_log_scaled', 'max_mean': 6, 'min_mean': 1, 'round': True, 'lower_bound': 2}, 'prior_mlp_hidden_dim': {'distribution': 'meta_trunc_norm_log_scaled', 'max_mean': 130, 'min_mean': 5, 'round': True, 'lower_bound': 4}, 'prior_mlp_dropout_prob': {'distribution': 'meta_beta', 'scale': 0.9, 'min': 0.1, 'max': 5.0}, 'noise_std': {'distribution': 'meta_trunc_norm_log_scaled', 'max_mean': 0.3, 'min_mean': 0.0001, 'round': False, 'lower_bound': 0.0}, 'init_std': {'distribution': 'meta_trunc_norm_log_scaled', 'max_mean': 10.0, 'min_mean': 0.01, 'round': False, 'lower_bound': 0.0}, 'num_causes': {'distribution': 'meta_trunc_norm_log_scaled', 'max_mean': 12, 'min_mean': 1, 'round': True, 'lower_bound': 1}, 'is_causal': {'distribution': 'meta_choice', 'choice_values': [True, False]}, 'pre_sample_weights': {'distribution': 'meta_choice', 'choice_values': [True, False]}, 'y_is_effect': {'distribution': 'meta_choice', 'choice_values': [True, False]}, 'prior_mlp_activations': {'distribution': 'meta_choice_mixed', 'choice_values': [<class 'torch.nn.modules.activation.Tanh'>, <class 'torch.nn.modules.activation.Tanh'>, <class 'torch.nn.modules.activation.Tanh'>, <class 'torch.nn.modules.activation.Tanh'>], 'choice_values_used': [\"<class 'torch.nn.modules.activation.Tanh'>\", \"<class 'torch.nn.modules.linear.Identity'>\", '<function get_diff_causal.<locals>.<lambda> at 0x7fc575dfb670>', \"<class 'torch.nn.modules.activation.ELU'>\"]}, 'block_wise_dropout': {'distribution': 'meta_choice', 'choice_values': [True, False]}, 'sort_features': {'distribution': 'meta_choice', 'choice_values': [True, False]}, 'in_clique': {'distribution': 'meta_choice', 'choice_values': [True, False]}, 'sampling': {'distribution': 'meta_choice', 'choice_values': ['normal', 'mixed']}, 'pre_sample_causes': {'distribution': 'meta_choice', 'choice_values': [True, False]}, 'outputscale': {'distribution': 'meta_trunc_norm_log_scaled', 'max_mean': 10.0, 'min_mean': 1e-05, 'round': False, 'lower_bound': 0}, 'lengthscale': {'distribution': 'meta_trunc_norm_log_scaled', 'max_mean': 10.0, 'min_mean': 1e-05, 'round': False, 'lower_bound': 0}, 'noise': {'distribution': 'meta_choice', 'choice_values': [1e-05, 0.0001, 0.01]}, 'multiclass_type': {'distribution': 'meta_choice', 'choice_values': ['value', 'rank']}}}, 'get_batch_method': <function get_batch at 0x7fe2ef33ef70>, 'model': None, 'epoch': 0, 'test_loader': False}\n",
      "Using a Transformer with 25.82 M parameters\n"
     ]
    }
   ],
   "source": [
    "config = TabPFNClassifier().c"
   ]
  },
  {
   "cell_type": "code",
   "execution_count": 6,
   "metadata": {},
   "outputs": [
    {
     "data": {
      "text/plain": [
       "8192"
      ]
     },
     "execution_count": 6,
     "metadata": {},
     "output_type": "execute_result"
    }
   ],
   "source": [
    "config[\"num_steps\"]"
   ]
  },
  {
   "cell_type": "code",
   "execution_count": 11,
   "metadata": {},
   "outputs": [
    {
     "data": {
      "text/plain": [
       "400"
      ]
     },
     "execution_count": 11,
     "metadata": {},
     "output_type": "execute_result"
    }
   ],
   "source": [
    "config[\"epochs\"]"
   ]
  },
  {
   "cell_type": "code",
   "execution_count": 12,
   "metadata": {},
   "outputs": [
    {
     "name": "stdout",
     "output_type": "stream",
     "text": [
      "aggregate_k_gradients 8\n"
     ]
    }
   ],
   "source": [
    "for key in config:\n",
    "    if \"aggregate\" in key:\n",
    "        print(key, config[key])"
   ]
  },
  {
   "cell_type": "code",
   "execution_count": 14,
   "metadata": {},
   "outputs": [
    {
     "name": "stdout",
     "output_type": "stream",
     "text": [
      "11 balance-scale 3.0\n",
      "14 mfeat-fourier 10.0\n",
      "16 mfeat-karhunen 10.0\n",
      "18 mfeat-morphological 10.0\n",
      "22 mfeat-zernike 10.0\n",
      "23 cmc 3.0\n",
      "54 vehicle 4.0\n",
      "188 eucalyptus 5.0\n",
      "458 analcatdata_authorship 4.0\n",
      "469 analcatdata_dmft 6.0\n",
      "40966 MiceProtein 8.0\n",
      "40982 steel-plates-fault 7.0\n",
      "40975 car 4.0\n"
     ]
    }
   ],
   "source": [
    "import openml\n",
    "\n",
    "dataset_ids = [\n",
    "    11, 14, 15, 16, 18, 22, 23, 29, 31, 37, 50, 54, 188, 458, 469,\n",
    "    1049, 1050, 1063, 1068, 1510, 1494, 1480, 1462, 1464, 6332,\n",
    "    23381, 40966, 40982, 40994, 40975\n",
    "]\n",
    "datasets_with_more_than_two_classes = []\n",
    "for id in dataset_ids:\n",
    "    dataset = openml.datasets.get_dataset(id)\n",
    "    # get the number of classes\n",
    "    if dataset.qualities[\"NumberOfClasses\"] != 2:\n",
    "        print(id, dataset.name, dataset.qualities[\"NumberOfClasses\"])\n",
    "        datasets_with_more_than_two_classes.append(id)"
   ]
  },
  {
   "cell_type": "code",
   "execution_count": 65,
   "metadata": {},
   "outputs": [
    {
     "name": "stdout",
     "output_type": "stream",
     "text": [
      "Using style prior: True\n",
      "{'recompute_attn': True}\n",
      "Using cpu device\n",
      "Batch size: 1\n",
      "DataLoader.__dict__ {'num_features': 100, 'num_steps': 8192, 'batch_size': 1, 'eval_pos_seq_len_sampler': <function create_model.<locals>.eval_pos_seq_len_sampler at 0x7efdd48ac040>, 'seq_len_maximum': 10, 'device': 'cpu', 'get_batch_kwargs': {'hyperparameters': {'lr': 0.0001, 'dropout': 0.0, 'emsize': 512, 'batch_size': 1, 'nlayers': 12, 'num_features': 100, 'nhead': 4, 'nhid_factor': 2, 'bptt': 10, 'eval_positions': [972], 'seq_len_used': 50, 'sampling': 'mixed', 'epochs': 400, 'num_steps': 8192, 'verbose': False, 'mix_activations': True, 'nan_prob_unknown_reason_reason_prior': 1.0, 'categorical_feature_p': 0.2, 'nan_prob_no_reason': 0.0, 'nan_prob_unknown_reason': 0.0, 'nan_prob_a_reason': 0.0, 'max_num_classes': 10, 'num_classes': 2, 'noise_type': 'Gaussian', 'balanced': False, 'normalize_to_ranking': False, 'set_value_to_nan': 0.1, 'normalize_by_used_features': True, 'num_features_used': <function load_model_no_train.<locals>.<lambda> at 0x7efdd48f1af0>, 'num_categorical_features_sampler_a': -1.0, 'differentiable_hyperparameters': {'distribution': 'uniform', 'min': 1000000.0, 'max': 1000001.0}, 'prior_type': 'prior_bag', 'differentiable': True, 'flexible': True, 'aggregate_k_gradients': 8, 'recompute_attn': True, 'bptt_extra_samples': None, 'dynamic_batch_size': False, 'multiclass_loss_type': 'nono', 'output_multiclass_ordered_p': 0.0, 'normalize_with_sqrt': False, 'new_mlp_per_example': True, 'prior_mlp_scale_weights_sqrt': True, 'batch_size_per_gp_sample': None, 'normalize_ignore_label_too': True, 'differentiable_hps_as_style': False, 'max_eval_pos': 1000, 'random_feature_rotation': True, 'rotate_normalized_labels': True, 'canonical_y_encoder': False, 'total_available_time_in_s': None, 'train_mixed_precision': True, 'efficient_eval_masking': True, 'multiclass_type': 'rank', 'done_part_in_training': 0.8425, 'categorical_features_sampler': <function load_model_no_train.<locals>.<lambda> at 0x7efc031ab3a0>, 'num_features_used_in_training': '<function <lambda>.<locals>.<lambda> at 0x7fc575dfb5e0>', 'num_classes_in_training': '<function <lambda>.<locals>.<lambda> at 0x7fc575dfb550>', 'batch_size_in_training': 8, 'bptt_in_training': 1024, 'bptt_extra_samples_in_training': None, 'prior_bag_get_batch': (<function get_model_no_train.<locals>.make_get_batch.<locals>.new_get_batch at 0x7efdd48f1d30>, <function get_model_no_train.<locals>.make_get_batch.<locals>.new_get_batch at 0x7efdd48f1dc0>), 'prior_bag_exp_weights_1': 2.0, 'normalize_labels': True, 'check_is_compatible': True}, 'batch_size_per_gp_sample': None, 'get_batch': <function get_model_no_train.<locals>.make_get_batch.<locals>.new_get_batch at 0x7efdd48f1e50>, 'differentiable_hyperparameters': {'prior_bag_exp_weights_1': {'distribution': 'uniform', 'min': 1000000.0, 'max': 1000001.0}, 'num_layers': {'distribution': 'meta_trunc_norm_log_scaled', 'max_mean': 6, 'min_mean': 1, 'round': True, 'lower_bound': 2}, 'prior_mlp_hidden_dim': {'distribution': 'meta_trunc_norm_log_scaled', 'max_mean': 130, 'min_mean': 5, 'round': True, 'lower_bound': 4}, 'prior_mlp_dropout_prob': {'distribution': 'meta_beta', 'scale': 0.9, 'min': 0.1, 'max': 5.0}, 'noise_std': {'distribution': 'meta_trunc_norm_log_scaled', 'max_mean': 0.3, 'min_mean': 0.0001, 'round': False, 'lower_bound': 0.0}, 'init_std': {'distribution': 'meta_trunc_norm_log_scaled', 'max_mean': 10.0, 'min_mean': 0.01, 'round': False, 'lower_bound': 0.0}, 'num_causes': {'distribution': 'meta_trunc_norm_log_scaled', 'max_mean': 12, 'min_mean': 1, 'round': True, 'lower_bound': 1}, 'is_causal': {'distribution': 'meta_choice', 'choice_values': [True, False]}, 'pre_sample_weights': {'distribution': 'meta_choice', 'choice_values': [True, False]}, 'y_is_effect': {'distribution': 'meta_choice', 'choice_values': [True, False]}, 'prior_mlp_activations': {'distribution': 'meta_choice_mixed', 'choice_values': [<class 'torch.nn.modules.activation.Tanh'>, <class 'torch.nn.modules.activation.Tanh'>, <class 'torch.nn.modules.activation.Tanh'>, <class 'torch.nn.modules.activation.Tanh'>], 'choice_values_used': [\"<class 'torch.nn.modules.activation.Tanh'>\", \"<class 'torch.nn.modules.linear.Identity'>\", '<function get_diff_causal.<locals>.<lambda> at 0x7fc575dfb670>', \"<class 'torch.nn.modules.activation.ELU'>\"]}, 'block_wise_dropout': {'distribution': 'meta_choice', 'choice_values': [True, False]}, 'sort_features': {'distribution': 'meta_choice', 'choice_values': [True, False]}, 'in_clique': {'distribution': 'meta_choice', 'choice_values': [True, False]}, 'sampling': {'distribution': 'meta_choice', 'choice_values': ['normal', 'mixed']}, 'pre_sample_causes': {'distribution': 'meta_choice', 'choice_values': [True, False]}, 'outputscale': {'distribution': 'meta_trunc_norm_log_scaled', 'max_mean': 10.0, 'min_mean': 1e-05, 'round': False, 'lower_bound': 0}, 'lengthscale': {'distribution': 'meta_trunc_norm_log_scaled', 'max_mean': 10.0, 'min_mean': 1e-05, 'round': False, 'lower_bound': 0}, 'noise': {'distribution': 'meta_choice', 'choice_values': [1e-05, 0.0001, 0.01]}, 'multiclass_type': {'distribution': 'meta_choice', 'choice_values': ['value', 'rank']}}}, 'get_batch_method': <function get_batch at 0x7efba060bc10>, 'model': None, 'epoch': 0, 'test_loader': False}\n",
      "Using a Transformer with 25.82 M parameters\n"
     ]
    }
   ],
   "source": [
    "from tabpfn import TabPFNClassifier\n",
    "model = TabPFNClassifier()"
   ]
  },
  {
   "cell_type": "code",
   "execution_count": 66,
   "metadata": {},
   "outputs": [
    {
     "data": {
      "text/plain": [
       "{'lr': 0.0001,\n",
       " 'dropout': 0.0,\n",
       " 'emsize': 512,\n",
       " 'batch_size': 1,\n",
       " 'nlayers': 12,\n",
       " 'num_features': 100,\n",
       " 'nhead': 4,\n",
       " 'nhid_factor': 2,\n",
       " 'bptt': 10,\n",
       " 'eval_positions': [9],\n",
       " 'seq_len_used': 50,\n",
       " 'sampling': 'mixed',\n",
       " 'epochs': 400,\n",
       " 'num_steps': 8192,\n",
       " 'verbose': False,\n",
       " 'mix_activations': True,\n",
       " 'nan_prob_unknown_reason_reason_prior': 1.0,\n",
       " 'categorical_feature_p': 0.2,\n",
       " 'nan_prob_no_reason': 0.0,\n",
       " 'nan_prob_unknown_reason': 0.0,\n",
       " 'nan_prob_a_reason': 0.0,\n",
       " 'max_num_classes': 10,\n",
       " 'num_classes': 2,\n",
       " 'noise_type': 'Gaussian',\n",
       " 'balanced': False,\n",
       " 'normalize_to_ranking': False,\n",
       " 'set_value_to_nan': 0.1,\n",
       " 'normalize_by_used_features': True,\n",
       " 'num_features_used': <function create_model.load_model_no_train.<locals>.<lambda>()>,\n",
       " 'num_categorical_features_sampler_a': -1.0,\n",
       " 'differentiable_hyperparameters': {'prior_bag_exp_weights_1': {'distribution': 'uniform',\n",
       "   'min': 1000000.0,\n",
       "   'max': 1000001.0},\n",
       "  'num_layers': {'distribution': 'meta_trunc_norm_log_scaled',\n",
       "   'max_mean': 6,\n",
       "   'min_mean': 1,\n",
       "   'round': True,\n",
       "   'lower_bound': 2},\n",
       "  'prior_mlp_hidden_dim': {'distribution': 'meta_trunc_norm_log_scaled',\n",
       "   'max_mean': 130,\n",
       "   'min_mean': 5,\n",
       "   'round': True,\n",
       "   'lower_bound': 4},\n",
       "  'prior_mlp_dropout_prob': {'distribution': 'meta_beta',\n",
       "   'scale': 0.9,\n",
       "   'min': 0.1,\n",
       "   'max': 5.0},\n",
       "  'noise_std': {'distribution': 'meta_trunc_norm_log_scaled',\n",
       "   'max_mean': 0.3,\n",
       "   'min_mean': 0.0001,\n",
       "   'round': False,\n",
       "   'lower_bound': 0.0},\n",
       "  'init_std': {'distribution': 'meta_trunc_norm_log_scaled',\n",
       "   'max_mean': 10.0,\n",
       "   'min_mean': 0.01,\n",
       "   'round': False,\n",
       "   'lower_bound': 0.0},\n",
       "  'num_causes': {'distribution': 'meta_trunc_norm_log_scaled',\n",
       "   'max_mean': 12,\n",
       "   'min_mean': 1,\n",
       "   'round': True,\n",
       "   'lower_bound': 1},\n",
       "  'is_causal': {'distribution': 'meta_choice', 'choice_values': [True, False]},\n",
       "  'pre_sample_weights': {'distribution': 'meta_choice',\n",
       "   'choice_values': [True, False]},\n",
       "  'y_is_effect': {'distribution': 'meta_choice',\n",
       "   'choice_values': [True, False]},\n",
       "  'prior_mlp_activations': {'distribution': 'meta_choice_mixed',\n",
       "   'choice_values': [torch.nn.modules.activation.Tanh,\n",
       "    torch.nn.modules.activation.Tanh,\n",
       "    torch.nn.modules.activation.Tanh,\n",
       "    torch.nn.modules.activation.Tanh],\n",
       "   'choice_values_used': [\"<class 'torch.nn.modules.activation.Tanh'>\",\n",
       "    \"<class 'torch.nn.modules.linear.Identity'>\",\n",
       "    '<function get_diff_causal.<locals>.<lambda> at 0x7fc575dfb670>',\n",
       "    \"<class 'torch.nn.modules.activation.ELU'>\"]},\n",
       "  'block_wise_dropout': {'distribution': 'meta_choice',\n",
       "   'choice_values': [True, False]},\n",
       "  'sort_features': {'distribution': 'meta_choice',\n",
       "   'choice_values': [True, False]},\n",
       "  'in_clique': {'distribution': 'meta_choice', 'choice_values': [True, False]},\n",
       "  'sampling': {'distribution': 'meta_choice',\n",
       "   'choice_values': ['normal', 'mixed']},\n",
       "  'pre_sample_causes': {'distribution': 'meta_choice',\n",
       "   'choice_values': [True, False]},\n",
       "  'outputscale': {'distribution': 'meta_trunc_norm_log_scaled',\n",
       "   'max_mean': 10.0,\n",
       "   'min_mean': 1e-05,\n",
       "   'round': False,\n",
       "   'lower_bound': 0},\n",
       "  'lengthscale': {'distribution': 'meta_trunc_norm_log_scaled',\n",
       "   'max_mean': 10.0,\n",
       "   'min_mean': 1e-05,\n",
       "   'round': False,\n",
       "   'lower_bound': 0},\n",
       "  'noise': {'distribution': 'meta_choice',\n",
       "   'choice_values': [1e-05, 0.0001, 0.01]},\n",
       "  'multiclass_type': {'distribution': 'meta_choice',\n",
       "   'choice_values': ['value', 'rank']}},\n",
       " 'prior_type': 'prior_bag',\n",
       " 'differentiable': True,\n",
       " 'flexible': True,\n",
       " 'aggregate_k_gradients': 8,\n",
       " 'recompute_attn': True,\n",
       " 'bptt_extra_samples': None,\n",
       " 'dynamic_batch_size': False,\n",
       " 'multiclass_loss_type': 'nono',\n",
       " 'output_multiclass_ordered_p': 0.0,\n",
       " 'normalize_with_sqrt': False,\n",
       " 'new_mlp_per_example': True,\n",
       " 'prior_mlp_scale_weights_sqrt': True,\n",
       " 'batch_size_per_gp_sample': None,\n",
       " 'normalize_ignore_label_too': True,\n",
       " 'differentiable_hps_as_style': False,\n",
       " 'max_eval_pos': 1000,\n",
       " 'random_feature_rotation': True,\n",
       " 'rotate_normalized_labels': True,\n",
       " 'canonical_y_encoder': False,\n",
       " 'total_available_time_in_s': None,\n",
       " 'train_mixed_precision': True,\n",
       " 'efficient_eval_masking': True,\n",
       " 'multiclass_type': 'rank',\n",
       " 'done_part_in_training': 0.8425,\n",
       " 'categorical_features_sampler': <function create_model.load_model_no_train.<locals>.<lambda>()>,\n",
       " 'num_features_used_in_training': {'uniform_int_sampler_f(3,max_features)': '<function <lambda>.<locals>.<lambda> at 0x7fc575dfb5e0>'},\n",
       " 'num_classes_in_training': '<function <lambda>.<locals>.<lambda> at 0x7fc575dfb550>',\n",
       " 'batch_size_in_training': 8,\n",
       " 'bptt_in_training': 1024,\n",
       " 'bptt_extra_samples_in_training': None,\n",
       " 'name': 'default',\n",
       " 'use_wandb': False,\n",
       " 'save_every': 100}"
      ]
     },
     "execution_count": 66,
     "metadata": {},
     "output_type": "execute_result"
    }
   ],
   "source": [
    "model.c"
   ]
  },
  {
   "cell_type": "code",
   "execution_count": 69,
   "metadata": {},
   "outputs": [
    {
     "name": "stdout",
     "output_type": "stream",
     "text": [
      "Using style prior: True\n",
      "{'recompute_attn': True}\n",
      "Using cuda:0 device\n",
      "Batch size: 1\n",
      "DataLoader.__dict__ {'num_features': 100, 'num_steps': 8192, 'batch_size': 1, 'eval_pos_seq_len_sampler': <function create_model.<locals>.eval_pos_seq_len_sampler at 0x7efdd4507550>, 'seq_len_maximum': 10, 'device': 'cuda:0', 'get_batch_kwargs': {'hyperparameters': {'lr': 0.0001, 'dropout': 0.0, 'emsize': 512, 'batch_size': 1, 'nlayers': 12, 'num_features': 100, 'nhead': 4, 'nhid_factor': 2, 'bptt': 10, 'eval_positions': [972], 'seq_len_used': 50, 'sampling': 'mixed', 'epochs': 400, 'num_steps': 8192, 'verbose': False, 'mix_activations': True, 'nan_prob_unknown_reason_reason_prior': 1.0, 'categorical_feature_p': 0.2, 'nan_prob_no_reason': 0.0, 'nan_prob_unknown_reason': 0.0, 'nan_prob_a_reason': 0.0, 'max_num_classes': 10, 'num_classes': 2, 'noise_type': 'Gaussian', 'balanced': False, 'normalize_to_ranking': False, 'set_value_to_nan': 0.1, 'normalize_by_used_features': True, 'num_features_used': <function load_model_no_train.<locals>.<lambda> at 0x7efc031ab5e0>, 'num_categorical_features_sampler_a': -1.0, 'differentiable_hyperparameters': {'distribution': 'uniform', 'min': 1000000.0, 'max': 1000001.0}, 'prior_type': 'prior_bag', 'differentiable': True, 'flexible': True, 'aggregate_k_gradients': 8, 'recompute_attn': True, 'bptt_extra_samples': None, 'dynamic_batch_size': False, 'multiclass_loss_type': 'nono', 'output_multiclass_ordered_p': 0.0, 'normalize_with_sqrt': False, 'new_mlp_per_example': True, 'prior_mlp_scale_weights_sqrt': True, 'batch_size_per_gp_sample': None, 'normalize_ignore_label_too': True, 'differentiable_hps_as_style': False, 'max_eval_pos': 1000, 'random_feature_rotation': True, 'rotate_normalized_labels': True, 'canonical_y_encoder': False, 'total_available_time_in_s': None, 'train_mixed_precision': True, 'efficient_eval_masking': True, 'multiclass_type': 'rank', 'done_part_in_training': 0.8425, 'categorical_features_sampler': <function load_model_no_train.<locals>.<lambda> at 0x7efc031ab670>, 'num_features_used_in_training': '<function <lambda>.<locals>.<lambda> at 0x7fc575dfb5e0>', 'num_classes_in_training': '<function <lambda>.<locals>.<lambda> at 0x7fc575dfb550>', 'batch_size_in_training': 8, 'bptt_in_training': 1024, 'bptt_extra_samples_in_training': None, 'prior_bag_get_batch': (<function get_model_no_train.<locals>.make_get_batch.<locals>.new_get_batch at 0x7efdd44ec3a0>, <function get_model_no_train.<locals>.make_get_batch.<locals>.new_get_batch at 0x7efdd44ecdc0>), 'prior_bag_exp_weights_1': 2.0, 'normalize_labels': True, 'check_is_compatible': True}, 'batch_size_per_gp_sample': None, 'get_batch': <function get_model_no_train.<locals>.make_get_batch.<locals>.new_get_batch at 0x7efdd45070d0>, 'differentiable_hyperparameters': {'prior_bag_exp_weights_1': {'distribution': 'uniform', 'min': 1000000.0, 'max': 1000001.0}, 'num_layers': {'distribution': 'meta_trunc_norm_log_scaled', 'max_mean': 6, 'min_mean': 1, 'round': True, 'lower_bound': 2}, 'prior_mlp_hidden_dim': {'distribution': 'meta_trunc_norm_log_scaled', 'max_mean': 130, 'min_mean': 5, 'round': True, 'lower_bound': 4}, 'prior_mlp_dropout_prob': {'distribution': 'meta_beta', 'scale': 0.9, 'min': 0.1, 'max': 5.0}, 'noise_std': {'distribution': 'meta_trunc_norm_log_scaled', 'max_mean': 0.3, 'min_mean': 0.0001, 'round': False, 'lower_bound': 0.0}, 'init_std': {'distribution': 'meta_trunc_norm_log_scaled', 'max_mean': 10.0, 'min_mean': 0.01, 'round': False, 'lower_bound': 0.0}, 'num_causes': {'distribution': 'meta_trunc_norm_log_scaled', 'max_mean': 12, 'min_mean': 1, 'round': True, 'lower_bound': 1}, 'is_causal': {'distribution': 'meta_choice', 'choice_values': [True, False]}, 'pre_sample_weights': {'distribution': 'meta_choice', 'choice_values': [True, False]}, 'y_is_effect': {'distribution': 'meta_choice', 'choice_values': [True, False]}, 'prior_mlp_activations': {'distribution': 'meta_choice_mixed', 'choice_values': [<class 'torch.nn.modules.activation.Tanh'>, <class 'torch.nn.modules.activation.Tanh'>, <class 'torch.nn.modules.activation.Tanh'>, <class 'torch.nn.modules.activation.Tanh'>], 'choice_values_used': [\"<class 'torch.nn.modules.activation.Tanh'>\", \"<class 'torch.nn.modules.linear.Identity'>\", '<function get_diff_causal.<locals>.<lambda> at 0x7fc575dfb670>', \"<class 'torch.nn.modules.activation.ELU'>\"]}, 'block_wise_dropout': {'distribution': 'meta_choice', 'choice_values': [True, False]}, 'sort_features': {'distribution': 'meta_choice', 'choice_values': [True, False]}, 'in_clique': {'distribution': 'meta_choice', 'choice_values': [True, False]}, 'sampling': {'distribution': 'meta_choice', 'choice_values': ['normal', 'mixed']}, 'pre_sample_causes': {'distribution': 'meta_choice', 'choice_values': [True, False]}, 'outputscale': {'distribution': 'meta_trunc_norm_log_scaled', 'max_mean': 10.0, 'min_mean': 1e-05, 'round': False, 'lower_bound': 0}, 'lengthscale': {'distribution': 'meta_trunc_norm_log_scaled', 'max_mean': 10.0, 'min_mean': 1e-05, 'round': False, 'lower_bound': 0}, 'noise': {'distribution': 'meta_choice', 'choice_values': [1e-05, 0.0001, 0.01]}, 'multiclass_type': {'distribution': 'meta_choice', 'choice_values': ['value', 'rank']}}}, 'get_batch_method': <function get_batch at 0x7efba060bc10>, 'model': None, 'epoch': 0, 'test_loader': False}\n",
      "Using a Transformer with 25.82 M parameters\n",
      "Multiple models in memory. This might lead to memory issues. Consider calling remove_models_from_memory()\n",
      "Using style prior: True\n",
      "{'recompute_attn': True}\n",
      "Using 0 device\n",
      "Batch size: 1\n",
      "DataLoader.__dict__ {'num_features': 100, 'num_steps': 65536, 'batch_size': 1, 'eval_pos_seq_len_sampler': <function create_model.<locals>.eval_pos_seq_len_sampler at 0x7efdd4507550>, 'seq_len_maximum': 10, 'device': 0, 'get_batch_kwargs': {'hyperparameters': {'lr': 0.0001, 'dropout': 0.0, 'emsize': 512, 'batch_size': 1, 'nlayers': 12, 'num_features': 100, 'nhead': 4, 'nhid_factor': 2, 'bptt': 10, 'eval_positions': [9], 'seq_len_used': 50, 'sampling': 'mixed', 'epochs': 400, 'num_steps': 65536, 'verbose': False, 'mix_activations': True, 'nan_prob_unknown_reason_reason_prior': 1.0, 'categorical_feature_p': 0.2, 'nan_prob_no_reason': 0.0, 'nan_prob_unknown_reason': 0.0, 'nan_prob_a_reason': 0.0, 'max_num_classes': 10, 'num_classes': 2, 'noise_type': 'Gaussian', 'balanced': False, 'normalize_to_ranking': False, 'set_value_to_nan': 0.1, 'normalize_by_used_features': True, 'num_features_used': <function load_model_no_train.<locals>.<lambda> at 0x7efc031ab670>, 'num_categorical_features_sampler_a': -1.0, 'differentiable_hyperparameters': {'distribution': 'uniform', 'min': 1000000.0, 'max': 1000001.0}, 'prior_type': 'prior_bag', 'differentiable': True, 'flexible': True, 'aggregate_k_gradients': 8, 'recompute_attn': True, 'bptt_extra_samples': None, 'dynamic_batch_size': False, 'multiclass_loss_type': 'nono', 'output_multiclass_ordered_p': 0.0, 'normalize_with_sqrt': False, 'new_mlp_per_example': True, 'prior_mlp_scale_weights_sqrt': True, 'batch_size_per_gp_sample': None, 'normalize_ignore_label_too': True, 'differentiable_hps_as_style': False, 'max_eval_pos': 1000, 'random_feature_rotation': True, 'rotate_normalized_labels': True, 'canonical_y_encoder': False, 'total_available_time_in_s': None, 'train_mixed_precision': True, 'efficient_eval_masking': True, 'multiclass_type': 'rank', 'done_part_in_training': 0.8425, 'categorical_features_sampler': <function load_model_no_train.<locals>.<lambda> at 0x7efdd44ecaf0>, 'num_features_used_in_training': <function load_model_no_train.<locals>.<lambda> at 0x7efc031ab5e0>, 'num_classes_in_training': 2, 'batch_size_in_training': 1, 'bptt_in_training': 10, 'bptt_extra_samples_in_training': None, 'name': 'default', 'use_wandb': False, 'save_every': 100, 'prior_bag_get_batch': (<function get_model_no_train.<locals>.make_get_batch.<locals>.new_get_batch at 0x7efdd44ec5e0>, <function get_model_no_train.<locals>.make_get_batch.<locals>.new_get_batch at 0x7efdd44eca60>), 'prior_bag_exp_weights_1': 2.0, 'normalize_labels': True, 'check_is_compatible': True}, 'batch_size_per_gp_sample': None, 'get_batch': <function get_model_no_train.<locals>.make_get_batch.<locals>.new_get_batch at 0x7efc06238ca0>, 'differentiable_hyperparameters': {'prior_bag_exp_weights_1': {'distribution': 'uniform', 'min': 1000000.0, 'max': 1000001.0}, 'num_layers': {'distribution': 'meta_trunc_norm_log_scaled', 'max_mean': 6, 'min_mean': 1, 'round': True, 'lower_bound': 2}, 'prior_mlp_hidden_dim': {'distribution': 'meta_trunc_norm_log_scaled', 'max_mean': 130, 'min_mean': 5, 'round': True, 'lower_bound': 4}, 'prior_mlp_dropout_prob': {'distribution': 'meta_beta', 'scale': 0.9, 'min': 0.1, 'max': 5.0}, 'noise_std': {'distribution': 'meta_trunc_norm_log_scaled', 'max_mean': 0.3, 'min_mean': 0.0001, 'round': False, 'lower_bound': 0.0}, 'init_std': {'distribution': 'meta_trunc_norm_log_scaled', 'max_mean': 10.0, 'min_mean': 0.01, 'round': False, 'lower_bound': 0.0}, 'num_causes': {'distribution': 'meta_trunc_norm_log_scaled', 'max_mean': 12, 'min_mean': 1, 'round': True, 'lower_bound': 1}, 'is_causal': {'distribution': 'meta_choice', 'choice_values': [True, False]}, 'pre_sample_weights': {'distribution': 'meta_choice', 'choice_values': [True, False]}, 'y_is_effect': {'distribution': 'meta_choice', 'choice_values': [True, False]}, 'prior_mlp_activations': {'distribution': 'meta_choice_mixed', 'choice_values': [<class 'torch.nn.modules.activation.Tanh'>, <class 'torch.nn.modules.activation.Tanh'>, <class 'torch.nn.modules.activation.Tanh'>, <class 'torch.nn.modules.activation.Tanh'>], 'choice_values_used': [<class 'torch.nn.modules.activation.Tanh'>, <class 'torch.nn.modules.activation.Tanh'>, <class 'torch.nn.modules.activation.Tanh'>, <class 'torch.nn.modules.activation.Tanh'>]}, 'block_wise_dropout': {'distribution': 'meta_choice', 'choice_values': [True, False]}, 'sort_features': {'distribution': 'meta_choice', 'choice_values': [True, False]}, 'in_clique': {'distribution': 'meta_choice', 'choice_values': [True, False]}, 'sampling': {'distribution': 'meta_choice', 'choice_values': ['normal', 'mixed']}, 'pre_sample_causes': {'distribution': 'meta_choice', 'choice_values': [True, False]}, 'outputscale': {'distribution': 'meta_trunc_norm_log_scaled', 'max_mean': 10.0, 'min_mean': 1e-05, 'round': False, 'lower_bound': 0}, 'lengthscale': {'distribution': 'meta_trunc_norm_log_scaled', 'max_mean': 10.0, 'min_mean': 1e-05, 'round': False, 'lower_bound': 0}, 'noise': {'distribution': 'meta_choice', 'choice_values': [1e-05, 0.0001, 0.01]}, 'multiclass_type': {'distribution': 'meta_choice', 'choice_values': ['value', 'rank']}}}, 'get_batch_method': <function get_batch at 0x7efba060bc10>, 'model': None, 'epoch': 0, 'test_loader': False}\n",
      "Using a Transformer with 25.82 M parameters\n"
     ]
    }
   ],
   "source": [
    "from create_model import load_model_no_train\n",
    "device = \"cuda:0\"\n",
    "checkpoint = \"trees73904_ba9wuzhe_390\"\n",
    "model = TabPFNClassifier(device=device, no_preprocess_mode=True)\n",
    "model_pytorch = load_model_no_train(\"tabpfn/model_checkpoints\", f\"model_{checkpoint}.pt\", 0, model.c, 0)[0]"
   ]
  },
  {
   "cell_type": "code",
   "execution_count": 78,
   "metadata": {},
   "outputs": [
    {
     "name": "stdout",
     "output_type": "stream",
     "text": [
      "transformer_encoder.layers.0.self_attn.in_proj_weight 786432\n",
      "transformer_encoder.layers.0.self_attn.in_proj_bias 1536\n",
      "transformer_encoder.layers.0.self_attn.out_proj.weight 262144\n",
      "transformer_encoder.layers.0.self_attn.out_proj.bias 512\n",
      "transformer_encoder.layers.0.linear1.weight 524288\n",
      "transformer_encoder.layers.0.linear1.bias 1024\n",
      "transformer_encoder.layers.0.linear2.weight 524288\n",
      "transformer_encoder.layers.0.linear2.bias 512\n",
      "transformer_encoder.layers.0.norm1.weight 512\n",
      "transformer_encoder.layers.0.norm1.bias 512\n",
      "transformer_encoder.layers.0.norm2.weight 512\n",
      "transformer_encoder.layers.0.norm2.bias 512\n",
      "transformer_encoder.layers.1.self_attn.in_proj_weight 786432\n",
      "transformer_encoder.layers.1.self_attn.in_proj_bias 1536\n",
      "transformer_encoder.layers.1.self_attn.out_proj.weight 262144\n",
      "transformer_encoder.layers.1.self_attn.out_proj.bias 512\n",
      "transformer_encoder.layers.1.linear1.weight 524288\n",
      "transformer_encoder.layers.1.linear1.bias 1024\n",
      "transformer_encoder.layers.1.linear2.weight 524288\n",
      "transformer_encoder.layers.1.linear2.bias 512\n",
      "transformer_encoder.layers.1.norm1.weight 512\n",
      "transformer_encoder.layers.1.norm1.bias 512\n",
      "transformer_encoder.layers.1.norm2.weight 512\n",
      "transformer_encoder.layers.1.norm2.bias 512\n",
      "transformer_encoder.layers.2.self_attn.in_proj_weight 786432\n",
      "transformer_encoder.layers.2.self_attn.in_proj_bias 1536\n",
      "transformer_encoder.layers.2.self_attn.out_proj.weight 262144\n",
      "transformer_encoder.layers.2.self_attn.out_proj.bias 512\n",
      "transformer_encoder.layers.2.linear1.weight 524288\n",
      "transformer_encoder.layers.2.linear1.bias 1024\n",
      "transformer_encoder.layers.2.linear2.weight 524288\n",
      "transformer_encoder.layers.2.linear2.bias 512\n",
      "transformer_encoder.layers.2.norm1.weight 512\n",
      "transformer_encoder.layers.2.norm1.bias 512\n",
      "transformer_encoder.layers.2.norm2.weight 512\n",
      "transformer_encoder.layers.2.norm2.bias 512\n",
      "transformer_encoder.layers.3.self_attn.in_proj_weight 786432\n",
      "transformer_encoder.layers.3.self_attn.in_proj_bias 1536\n",
      "transformer_encoder.layers.3.self_attn.out_proj.weight 262144\n",
      "transformer_encoder.layers.3.self_attn.out_proj.bias 512\n",
      "transformer_encoder.layers.3.linear1.weight 524288\n",
      "transformer_encoder.layers.3.linear1.bias 1024\n",
      "transformer_encoder.layers.3.linear2.weight 524288\n",
      "transformer_encoder.layers.3.linear2.bias 512\n",
      "transformer_encoder.layers.3.norm1.weight 512\n",
      "transformer_encoder.layers.3.norm1.bias 512\n",
      "transformer_encoder.layers.3.norm2.weight 512\n",
      "transformer_encoder.layers.3.norm2.bias 512\n",
      "transformer_encoder.layers.4.self_attn.in_proj_weight 786432\n",
      "transformer_encoder.layers.4.self_attn.in_proj_bias 1536\n",
      "transformer_encoder.layers.4.self_attn.out_proj.weight 262144\n",
      "transformer_encoder.layers.4.self_attn.out_proj.bias 512\n",
      "transformer_encoder.layers.4.linear1.weight 524288\n",
      "transformer_encoder.layers.4.linear1.bias 1024\n",
      "transformer_encoder.layers.4.linear2.weight 524288\n",
      "transformer_encoder.layers.4.linear2.bias 512\n",
      "transformer_encoder.layers.4.norm1.weight 512\n",
      "transformer_encoder.layers.4.norm1.bias 512\n",
      "transformer_encoder.layers.4.norm2.weight 512\n",
      "transformer_encoder.layers.4.norm2.bias 512\n",
      "transformer_encoder.layers.5.self_attn.in_proj_weight 786432\n",
      "transformer_encoder.layers.5.self_attn.in_proj_bias 1536\n",
      "transformer_encoder.layers.5.self_attn.out_proj.weight 262144\n",
      "transformer_encoder.layers.5.self_attn.out_proj.bias 512\n",
      "transformer_encoder.layers.5.linear1.weight 524288\n",
      "transformer_encoder.layers.5.linear1.bias 1024\n",
      "transformer_encoder.layers.5.linear2.weight 524288\n",
      "transformer_encoder.layers.5.linear2.bias 512\n",
      "transformer_encoder.layers.5.norm1.weight 512\n",
      "transformer_encoder.layers.5.norm1.bias 512\n",
      "transformer_encoder.layers.5.norm2.weight 512\n",
      "transformer_encoder.layers.5.norm2.bias 512\n",
      "transformer_encoder.layers.6.self_attn.in_proj_weight 786432\n",
      "transformer_encoder.layers.6.self_attn.in_proj_bias 1536\n",
      "transformer_encoder.layers.6.self_attn.out_proj.weight 262144\n",
      "transformer_encoder.layers.6.self_attn.out_proj.bias 512\n",
      "transformer_encoder.layers.6.linear1.weight 524288\n",
      "transformer_encoder.layers.6.linear1.bias 1024\n",
      "transformer_encoder.layers.6.linear2.weight 524288\n",
      "transformer_encoder.layers.6.linear2.bias 512\n",
      "transformer_encoder.layers.6.norm1.weight 512\n",
      "transformer_encoder.layers.6.norm1.bias 512\n",
      "transformer_encoder.layers.6.norm2.weight 512\n",
      "transformer_encoder.layers.6.norm2.bias 512\n",
      "transformer_encoder.layers.7.self_attn.in_proj_weight 786432\n",
      "transformer_encoder.layers.7.self_attn.in_proj_bias 1536\n",
      "transformer_encoder.layers.7.self_attn.out_proj.weight 262144\n",
      "transformer_encoder.layers.7.self_attn.out_proj.bias 512\n",
      "transformer_encoder.layers.7.linear1.weight 524288\n",
      "transformer_encoder.layers.7.linear1.bias 1024\n",
      "transformer_encoder.layers.7.linear2.weight 524288\n",
      "transformer_encoder.layers.7.linear2.bias 512\n",
      "transformer_encoder.layers.7.norm1.weight 512\n",
      "transformer_encoder.layers.7.norm1.bias 512\n",
      "transformer_encoder.layers.7.norm2.weight 512\n",
      "transformer_encoder.layers.7.norm2.bias 512\n",
      "transformer_encoder.layers.8.self_attn.in_proj_weight 786432\n",
      "transformer_encoder.layers.8.self_attn.in_proj_bias 1536\n",
      "transformer_encoder.layers.8.self_attn.out_proj.weight 262144\n",
      "transformer_encoder.layers.8.self_attn.out_proj.bias 512\n",
      "transformer_encoder.layers.8.linear1.weight 524288\n",
      "transformer_encoder.layers.8.linear1.bias 1024\n",
      "transformer_encoder.layers.8.linear2.weight 524288\n",
      "transformer_encoder.layers.8.linear2.bias 512\n",
      "transformer_encoder.layers.8.norm1.weight 512\n",
      "transformer_encoder.layers.8.norm1.bias 512\n",
      "transformer_encoder.layers.8.norm2.weight 512\n",
      "transformer_encoder.layers.8.norm2.bias 512\n",
      "transformer_encoder.layers.9.self_attn.in_proj_weight 786432\n",
      "transformer_encoder.layers.9.self_attn.in_proj_bias 1536\n",
      "transformer_encoder.layers.9.self_attn.out_proj.weight 262144\n",
      "transformer_encoder.layers.9.self_attn.out_proj.bias 512\n",
      "transformer_encoder.layers.9.linear1.weight 524288\n",
      "transformer_encoder.layers.9.linear1.bias 1024\n",
      "transformer_encoder.layers.9.linear2.weight 524288\n",
      "transformer_encoder.layers.9.linear2.bias 512\n",
      "transformer_encoder.layers.9.norm1.weight 512\n",
      "transformer_encoder.layers.9.norm1.bias 512\n",
      "transformer_encoder.layers.9.norm2.weight 512\n",
      "transformer_encoder.layers.9.norm2.bias 512\n",
      "transformer_encoder.layers.10.self_attn.in_proj_weight 786432\n",
      "transformer_encoder.layers.10.self_attn.in_proj_bias 1536\n",
      "transformer_encoder.layers.10.self_attn.out_proj.weight 262144\n",
      "transformer_encoder.layers.10.self_attn.out_proj.bias 512\n",
      "transformer_encoder.layers.10.linear1.weight 524288\n",
      "transformer_encoder.layers.10.linear1.bias 1024\n",
      "transformer_encoder.layers.10.linear2.weight 524288\n",
      "transformer_encoder.layers.10.linear2.bias 512\n",
      "transformer_encoder.layers.10.norm1.weight 512\n",
      "transformer_encoder.layers.10.norm1.bias 512\n",
      "transformer_encoder.layers.10.norm2.weight 512\n",
      "transformer_encoder.layers.10.norm2.bias 512\n",
      "transformer_encoder.layers.11.self_attn.in_proj_weight 786432\n",
      "transformer_encoder.layers.11.self_attn.in_proj_bias 1536\n",
      "transformer_encoder.layers.11.self_attn.out_proj.weight 262144\n",
      "transformer_encoder.layers.11.self_attn.out_proj.bias 512\n",
      "transformer_encoder.layers.11.linear1.weight 524288\n",
      "transformer_encoder.layers.11.linear1.bias 1024\n",
      "transformer_encoder.layers.11.linear2.weight 524288\n",
      "transformer_encoder.layers.11.linear2.bias 512\n",
      "transformer_encoder.layers.11.norm1.weight 512\n",
      "transformer_encoder.layers.11.norm1.bias 512\n",
      "transformer_encoder.layers.11.norm2.weight 512\n",
      "transformer_encoder.layers.11.norm2.bias 512\n",
      "encoder.weight 51200\n",
      "encoder.bias 512\n",
      "y_encoder.weight 512\n",
      "y_encoder.bias 512\n",
      "decoder.0.weight 524288\n",
      "decoder.0.bias 1024\n",
      "decoder.2.weight 10240\n",
      "decoder.2.bias 10\n",
      "25.821706\n"
     ]
    }
   ],
   "source": [
    "# find the number of parameters\n",
    "s = 0\n",
    "for name, param in model_pytorch[2].named_parameters():\n",
    "    print(name, param.numel())\n",
    "    s += param.numel()\n",
    "    \n",
    "print(s / 1e6)"
   ]
  },
  {
   "cell_type": "code",
   "execution_count": 80,
   "metadata": {},
   "outputs": [
    {
     "data": {
      "text/plain": [
       "2"
      ]
     },
     "execution_count": 80,
     "metadata": {},
     "output_type": "execute_result"
    }
   ],
   "source": [
    "model.c[\"num_classes_in_training\"]"
   ]
  },
  {
   "cell_type": "code",
   "execution_count": 81,
   "metadata": {},
   "outputs": [
    {
     "data": {
      "text/plain": [
       "2"
      ]
     },
     "execution_count": 81,
     "metadata": {},
     "output_type": "execute_result"
    }
   ],
   "source": [
    "model.c[\"num_classes\"]"
   ]
  },
  {
   "cell_type": "code",
   "execution_count": 82,
   "metadata": {},
   "outputs": [
    {
     "data": {
      "text/plain": [
       "10"
      ]
     },
     "execution_count": 82,
     "metadata": {},
     "output_type": "execute_result"
    }
   ],
   "source": [
    "model.c[\"max_num_classes\"]"
   ]
  },
  {
   "cell_type": "code",
   "execution_count": null,
   "metadata": {},
   "outputs": [],
   "source": []
  }
 ],
 "metadata": {
  "kernelspec": {
   "display_name": "tab_pfn2",
   "language": "python",
   "name": "python3"
  },
  "language_info": {
   "codemirror_mode": {
    "name": "ipython",
    "version": 3
   },
   "file_extension": ".py",
   "mimetype": "text/x-python",
   "name": "python",
   "nbconvert_exporter": "python",
   "pygments_lexer": "ipython3",
   "version": "3.9.16"
  },
  "orig_nbformat": 4
 },
 "nbformat": 4,
 "nbformat_minor": 2
}
