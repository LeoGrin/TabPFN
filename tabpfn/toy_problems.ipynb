{
 "cells": [
  {
   "cell_type": "code",
   "execution_count": 4,
   "metadata": {},
   "outputs": [
    {
     "data": {
      "text/plain": [
       "<torch.autograd.grad_mode.set_grad_enabled at 0x7f9e3d8b2700>"
      ]
     },
     "execution_count": 4,
     "metadata": {},
     "output_type": "execute_result"
    }
   ],
   "source": [
    "from priors.trees import generate_random_forest\n",
    "import numpy as np\n",
    "\n",
    "x = np.random.normal(0, 1, (1152, 93))\n",
    "import torch\n",
    "import random\n",
    "# deactivate autograd\n",
    "torch.set_grad_enabled(False)"
   ]
  },
  {
   "cell_type": "code",
   "execution_count": 7,
   "metadata": {},
   "outputs": [],
   "source": [
    "forest = generate_random_forest(x, n_classes=2, n_trees=50, max_depth=15, depth_distribution=\"constant\",\n",
    "                                       split_distribution=\"uniform\", split_param=1)"
   ]
  },
  {
   "cell_type": "code",
   "execution_count": 9,
   "metadata": {},
   "outputs": [
    {
     "data": {
      "text/plain": [
       "array([1, 1, 1, ..., 0, 0, 0])"
      ]
     },
     "execution_count": 9,
     "metadata": {},
     "output_type": "execute_result"
    }
   ],
   "source": [
    "forest.predict(x)"
   ]
  },
  {
   "cell_type": "code",
   "execution_count": 10,
   "metadata": {},
   "outputs": [
    {
     "data": {
      "text/plain": [
       "(1152, 93)"
      ]
     },
     "execution_count": 10,
     "metadata": {},
     "output_type": "execute_result"
    }
   ],
   "source": [
    "x.shape"
   ]
  },
  {
   "cell_type": "code",
   "execution_count": 8,
   "metadata": {},
   "outputs": [],
   "source": [
    "sampling = \"mixed\"\n",
    "seq_len = 1152\n",
    "num_features = 93\n",
    "device = 'cuda:1'\n",
    "batch_size = 4\n",
    "\n",
    "def get_seq():\n",
    "    print(\"Get seq\")\n",
    "    if sampling == 'normal':\n",
    "        data = torch.normal(0., 1., (seq_len, 1, num_features), device='cpu').float()\n",
    "    elif sampling == 'mixed':\n",
    "        zipf_p, multi_p, normal_p = random.random() * 0.66, random.random() * 0.66, random.random() * 0.66\n",
    "        def sample_data(n):\n",
    "            if random.random() > normal_p:\n",
    "                #TODO check pre-sample causes\n",
    "                return torch.normal(0., 1., (seq_len, 1), device=\"cpu\").float()\n",
    "            elif random.random() > multi_p:\n",
    "                x = torch.multinomial(torch.rand((random.randint(2, 10))), seq_len, replacement=True).unsqueeze(-1).float()\n",
    "                x = (x - torch.mean(x)) / torch.std(x)\n",
    "                return x\n",
    "            else:\n",
    "                x = torch.minimum(torch.tensor(np.random.zipf(2.0 + random.random() * 2, size=(seq_len)),\n",
    "                                    device=\"cpu\").unsqueeze(-1).float(), torch.tensor(10.0, device=\"cpu\"))\n",
    "                return x - torch.mean(x)\n",
    "        data = torch.cat([sample_data(n).unsqueeze(-1) for n in range(num_features)], -1)\n",
    "    elif sampling == 'uniform':\n",
    "        data = torch.rand((seq_len, 1, num_features), device=\"cpu\")\n",
    "    else:\n",
    "        raise ValueError(f'Sampling is set to invalid setting: {sampling}.')\n",
    "\n",
    "    forest = generate_random_forest(data.numpy().reshape(-1, num_features), n_classes=2, n_trees=50, max_depth=15, depth_distribution=\"constant\")\n",
    "    y = forest.predict(data.numpy().reshape(-1, num_features))\n",
    "    data = data[..., (torch.arange(data.shape[-1], device=\"cpu\")+random.randrange(data.shape[-1])) % data.shape[-1]]\n",
    "\n",
    "    return torch.tensor(data).to(device).reshape(-1, 1, num_features), torch.tensor(y).to(device).reshape(-1, 1, 1)\n",
    "\n",
    "    \n"
   ]
  },
  {
   "cell_type": "code",
   "execution_count": 10,
   "metadata": {},
   "outputs": [
    {
     "name": "stderr",
     "output_type": "stream",
     "text": [
      "/tmp/ipykernel_20645/520942909.py:34: UserWarning: To copy construct from a tensor, it is recommended to use sourceTensor.clone().detach() or sourceTensor.clone().detach().requires_grad_(True), rather than torch.tensor(sourceTensor).\n",
      "  return torch.tensor(data).to(device).reshape(-1, 1, num_features), torch.tensor(y).to(device).reshape(-1, 1, 1)\n"
     ]
    }
   ],
   "source": [
    "    # if hyperparameters.get('new_forest_per_example', False):\n",
    "    #     get_model = lambda: generate_random_forest(hyperparameters)\n",
    "    # else:\n",
    "    #     model = generate_random_forest(hyperparameters)\n",
    "    #     get_model = lambda: model\n",
    "\n",
    "sample = [get_seq() for _ in range(0, batch_size)]\n",
    "\n",
    "x, y = zip(*sample)\n",
    "y = torch.cat(y, 1).detach().squeeze(2)\n",
    "x = torch.cat(x, 1).detach()"
   ]
  },
  {
   "cell_type": "code",
   "execution_count": null,
   "metadata": {},
   "outputs": [],
   "source": []
  }
 ],
 "metadata": {
  "kernelspec": {
   "display_name": "Python 3.9.13 ('tab_pfn')",
   "language": "python",
   "name": "python3"
  },
  "language_info": {
   "codemirror_mode": {
    "name": "ipython",
    "version": 3
   },
   "file_extension": ".py",
   "mimetype": "text/x-python",
   "name": "python",
   "nbconvert_exporter": "python",
   "pygments_lexer": "ipython3",
   "version": "3.9.13 | packaged by conda-forge | (main, May 27 2022, 16:58:50) \n[GCC 10.3.0]"
  },
  "orig_nbformat": 4,
  "vscode": {
   "interpreter": {
    "hash": "5f2a9a09e5f9f59973726e1c2a0feac296e86e007bd9a24e93afa3d54dad9571"
   }
  }
 },
 "nbformat": 4,
 "nbformat_minor": 2
}
