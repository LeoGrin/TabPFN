{
 "cells": [
  {
   "cell_type": "code",
   "execution_count": 1,
   "metadata": {},
   "outputs": [
    {
     "name": "stdout",
     "output_type": "stream",
     "text": [
      "2\n"
     ]
    }
   ],
   "source": [
    "print(2)"
   ]
  },
  {
   "cell_type": "code",
   "execution_count": 6,
   "metadata": {},
   "outputs": [
    {
     "name": "stdout",
     "output_type": "stream",
     "text": [
      "Using style prior: True\n",
      "Using cuda:3 device\n",
      "Using a Transformer with 25.82 M parameters\n",
      "Accuracy 0.9840425531914894\n"
     ]
    }
   ],
   "source": [
    "from sklearn.metrics import accuracy_score\n",
    "from sklearn.datasets import load_breast_cancer\n",
    "from sklearn.model_selection import train_test_split\n",
    "\n",
    "from tabpfn.scripts.transformer_prediction_interface import TabPFNClassifier\n",
    "\n",
    "X, y = load_breast_cancer(return_X_y=True)\n",
    "X_train, X_test, y_train, y_test = train_test_split(X, y, test_size=0.33, random_state=42)\n",
    "\n",
    "# N_ensemble_configurations controls the number of model predictions that are ensembled with feature and class rotations (See our work for details).\n",
    "# When N_ensemble_configurations > #features * #classes, no further averaging is applied.\n",
    "\n",
    "classifier = TabPFNClassifier(device='cuda:3', N_ensemble_configurations=32)\n",
    "\n",
    "classifier.fit(X_train, y_train)\n",
    "y_eval, p_eval = classifier.predict(X_test, return_winning_probability=True)\n",
    "\n",
    "print('Accuracy', accuracy_score(y_test, y_eval))"
   ]
  },
  {
   "cell_type": "code",
   "execution_count": 8,
   "metadata": {},
   "outputs": [
    {
     "data": {
      "text/plain": [
       "<torch.autograd.grad_mode.set_grad_enabled at 0x7fabe0f7f190>"
      ]
     },
     "execution_count": 8,
     "metadata": {},
     "output_type": "execute_result"
    }
   ],
   "source": [
    "import torch\n",
    "torch.set_grad_enabled(False)"
   ]
  },
  {
   "cell_type": "code",
   "execution_count": 9,
   "metadata": {},
   "outputs": [
    {
     "name": "stdout",
     "output_type": "stream",
     "text": [
      "Using style prior: True\n",
      "Using cuda:3 device\n",
      "Using a Transformer with 25.82 M parameters\n"
     ]
    },
    {
     "name": "stderr",
     "output_type": "stream",
     "text": [
      "/home/parietal/lgrinszt/.local/miniconda3/envs/tab_pfn/lib/python3.9/site-packages/sklearn/linear_model/_logistic.py:444: ConvergenceWarning: lbfgs failed to converge (status=1):\n",
      "STOP: TOTAL NO. of ITERATIONS REACHED LIMIT.\n",
      "\n",
      "Increase the number of iterations (max_iter) or scale the data as shown in:\n",
      "    https://scikit-learn.org/stable/modules/preprocessing.html\n",
      "Please also refer to the documentation for alternative solver options:\n",
      "    https://scikit-learn.org/stable/modules/linear_model.html#logistic-regression\n",
      "  n_iter_i = _check_optimize_result(\n"
     ]
    },
    {
     "name": "stdout",
     "output_type": "stream",
     "text": [
      "Using style prior: True\n",
      "Using cuda:3 device\n",
      "Using a Transformer with 25.82 M parameters\n",
      "Using style prior: True\n",
      "Using cuda:3 device\n",
      "Using a Transformer with 25.82 M parameters\n",
      "Using style prior: True\n",
      "Using cuda:3 device\n",
      "Using a Transformer with 25.82 M parameters\n",
      "Using style prior: True\n",
      "Using cuda:3 device\n",
      "Using a Transformer with 25.82 M parameters\n",
      "Using style prior: True\n",
      "Using cuda:3 device\n",
      "Using a Transformer with 25.82 M parameters\n",
      "Using style prior: True\n",
      "Using cuda:3 device\n",
      "Using a Transformer with 25.82 M parameters\n"
     ]
    },
    {
     "name": "stderr",
     "output_type": "stream",
     "text": [
      "/home/parietal/lgrinszt/.local/miniconda3/envs/tab_pfn/lib/python3.9/site-packages/sklearn/linear_model/_logistic.py:444: ConvergenceWarning: lbfgs failed to converge (status=1):\n",
      "STOP: TOTAL NO. of ITERATIONS REACHED LIMIT.\n",
      "\n",
      "Increase the number of iterations (max_iter) or scale the data as shown in:\n",
      "    https://scikit-learn.org/stable/modules/preprocessing.html\n",
      "Please also refer to the documentation for alternative solver options:\n",
      "    https://scikit-learn.org/stable/modules/linear_model.html#logistic-regression\n",
      "  n_iter_i = _check_optimize_result(\n",
      "/home/parietal/lgrinszt/.local/miniconda3/envs/tab_pfn/lib/python3.9/site-packages/sklearn/linear_model/_logistic.py:444: ConvergenceWarning: lbfgs failed to converge (status=1):\n",
      "STOP: TOTAL NO. of ITERATIONS REACHED LIMIT.\n",
      "\n",
      "Increase the number of iterations (max_iter) or scale the data as shown in:\n",
      "    https://scikit-learn.org/stable/modules/preprocessing.html\n",
      "Please also refer to the documentation for alternative solver options:\n",
      "    https://scikit-learn.org/stable/modules/linear_model.html#logistic-regression\n",
      "  n_iter_i = _check_optimize_result(\n",
      "/home/parietal/lgrinszt/.local/miniconda3/envs/tab_pfn/lib/python3.9/site-packages/sklearn/linear_model/_logistic.py:444: ConvergenceWarning: lbfgs failed to converge (status=1):\n",
      "STOP: TOTAL NO. of ITERATIONS REACHED LIMIT.\n",
      "\n",
      "Increase the number of iterations (max_iter) or scale the data as shown in:\n",
      "    https://scikit-learn.org/stable/modules/preprocessing.html\n",
      "Please also refer to the documentation for alternative solver options:\n",
      "    https://scikit-learn.org/stable/modules/linear_model.html#logistic-regression\n",
      "  n_iter_i = _check_optimize_result(\n",
      "/home/parietal/lgrinszt/.local/miniconda3/envs/tab_pfn/lib/python3.9/site-packages/sklearn/linear_model/_logistic.py:444: ConvergenceWarning: lbfgs failed to converge (status=1):\n",
      "STOP: TOTAL NO. of ITERATIONS REACHED LIMIT.\n",
      "\n",
      "Increase the number of iterations (max_iter) or scale the data as shown in:\n",
      "    https://scikit-learn.org/stable/modules/preprocessing.html\n",
      "Please also refer to the documentation for alternative solver options:\n",
      "    https://scikit-learn.org/stable/modules/linear_model.html#logistic-regression\n",
      "  n_iter_i = _check_optimize_result(\n",
      "/home/parietal/lgrinszt/.local/miniconda3/envs/tab_pfn/lib/python3.9/site-packages/sklearn/linear_model/_logistic.py:444: ConvergenceWarning: lbfgs failed to converge (status=1):\n",
      "STOP: TOTAL NO. of ITERATIONS REACHED LIMIT.\n",
      "\n",
      "Increase the number of iterations (max_iter) or scale the data as shown in:\n",
      "    https://scikit-learn.org/stable/modules/preprocessing.html\n",
      "Please also refer to the documentation for alternative solver options:\n",
      "    https://scikit-learn.org/stable/modules/linear_model.html#logistic-regression\n",
      "  n_iter_i = _check_optimize_result(\n"
     ]
    },
    {
     "name": "stdout",
     "output_type": "stream",
     "text": [
      "Accuracy 0.9893617021276596\n"
     ]
    }
   ],
   "source": [
    "# Stack tabpfn predictions with other models\n",
    "from sklearn.ensemble import RandomForestClassifier\n",
    "from sklearn.linear_model import LogisticRegression\n",
    "from sklearn.svm import SVC\n",
    "\n",
    "from sklearn.ensemble import StackingClassifier\n",
    "\n",
    "stack_classifier = StackingClassifier(\n",
    "    estimators=[\n",
    "        ('tabpfn', classifier),\n",
    "        ('rf', RandomForestClassifier()),\n",
    "        ('lr', LogisticRegression()),\n",
    "        ('svm', SVC(probability=True))\n",
    "    ],\n",
    "    final_estimator=LogisticRegression()\n",
    ")\n",
    "\n",
    "stack_classifier.fit(X_train, y_train)\n",
    "y_eval = stack_classifier.predict(X_test)\n",
    "\n",
    "print('Accuracy', accuracy_score(y_test, y_eval))"
   ]
  },
  {
   "cell_type": "code",
   "execution_count": 47,
   "metadata": {},
   "outputs": [
    {
     "name": "stderr",
     "output_type": "stream",
     "text": [
      "WARNING:root:Received uncompressed content from OpenML for https://api.openml.org/data/v1/download/22103256/jannis.arff.\n",
      "/home/parietal/lgrinszt/.local/miniconda3/envs/tab_pfn/lib/python3.9/site-packages/arff.py:459: ResourceWarning: unclosed file <_io.TextIOWrapper name='/storage/store/work/lgrinszt/openml_cache/org/openml/www/tasks/361071/datasplits.arff' mode='r' encoding='UTF-8'>\n",
      "  for row in stream:\n",
      "ResourceWarning: Enable tracemalloc to get the object allocation traceback\n"
     ]
    },
    {
     "name": "stdout",
     "output_type": "stream",
     "text": [
      "(57580, 54) (57580,)\n"
     ]
    }
   ],
   "source": [
    "import openml\n",
    "import os\n",
    "openml.config.cache_directory = os.path.expanduser('/storage/store/work/lgrinszt/openml_cache')\n",
    "task_id = 361071\n",
    "task = openml.tasks.get_task(task_id)\n",
    "X, y = task.get_X_and_y()\n",
    "print(X.shape, y.shape)\n",
    "X_train, X_test, y_train, y_test = train_test_split(X, y, test_size=0.33, random_state=42)\n",
    "\n",
    "# Restrict X_train to 1000 samples to speed up the example\n",
    "X_train, y_train = X_train[:1000], y_train[:1000]"
   ]
  },
  {
   "cell_type": "code",
   "execution_count": 48,
   "metadata": {},
   "outputs": [
    {
     "name": "stdout",
     "output_type": "stream",
     "text": [
      "Using style prior: True\n",
      "Using cuda:3 device\n",
      "Using a Transformer with 25.82 M parameters\n",
      "tabpfn 0.7206609830544153\n",
      "rf 0.737290811493527\n"
     ]
    },
    {
     "name": "stderr",
     "output_type": "stream",
     "text": [
      "/home/parietal/lgrinszt/.local/miniconda3/envs/tab_pfn/lib/python3.9/site-packages/sklearn/linear_model/_logistic.py:444: ConvergenceWarning: lbfgs failed to converge (status=1):\n",
      "STOP: TOTAL NO. of ITERATIONS REACHED LIMIT.\n",
      "\n",
      "Increase the number of iterations (max_iter) or scale the data as shown in:\n",
      "    https://scikit-learn.org/stable/modules/preprocessing.html\n",
      "Please also refer to the documentation for alternative solver options:\n",
      "    https://scikit-learn.org/stable/modules/linear_model.html#logistic-regression\n",
      "  n_iter_i = _check_optimize_result(\n"
     ]
    },
    {
     "name": "stdout",
     "output_type": "stream",
     "text": [
      "lr 0.7049257972844963\n",
      "svm 0.6718766445637301\n",
      "gbt 0.736922429217977\n"
     ]
    }
   ],
   "source": [
    "tabpfn = TabPFNClassifier(device='cuda:3', N_ensemble_configurations=32)\n",
    "\n",
    "\n",
    "# try with a random forest, logistic regression, svm, and gbt\n",
    "from sklearn.ensemble import RandomForestClassifier, GradientBoostingClassifier\n",
    "from sklearn.linear_model import LogisticRegression\n",
    "from sklearn.svm import SVC\n",
    "\n",
    "estimators = [\n",
    "    ('tabpfn', tabpfn),\n",
    "    ('rf', RandomForestClassifier()),\n",
    "    ('lr', LogisticRegression()),\n",
    "    ('svm', SVC(probability=True)),\n",
    "    ('gbt', GradientBoostingClassifier())\n",
    "]\n",
    "\n",
    "for name, estimator in estimators:\n",
    "    estimator.fit(X_train, y_train)\n",
    "    y_eval = estimator.predict(X_test)\n",
    "    print(name, accuracy_score(y_test, y_eval))"
   ]
  },
  {
   "cell_type": "code",
   "execution_count": 51,
   "metadata": {},
   "outputs": [
    {
     "name": "stdout",
     "output_type": "stream",
     "text": [
      "Using style prior: True\n",
      "Using cuda:3 device\n",
      "Using a Transformer with 25.82 M parameters\n",
      "Using style prior: True\n",
      "Using cuda:3 device\n",
      "Using a Transformer with 25.82 M parameters\n",
      "Using style prior: True\n",
      "Using cuda:3 device\n",
      "Using a Transformer with 25.82 M parameters\n",
      "Using style prior: True\n",
      "Using cuda:3 device\n",
      "Using a Transformer with 25.82 M parameters\n",
      "Using style prior: True\n",
      "Using cuda:3 device\n",
      "Using a Transformer with 25.82 M parameters\n",
      "Using style prior: True\n",
      "Using cuda:3 device\n",
      "Using a Transformer with 25.82 M parameters\n",
      "Using style prior: True\n",
      "Using cuda:3 device\n",
      "Using a Transformer with 25.82 M parameters\n",
      "Stacking 0.6258288601199874\n"
     ]
    }
   ],
   "source": [
    "# Try with a stacking classifier\n",
    "from sklearn.ensemble import StackingClassifier\n",
    "\n",
    "stack_classifier = StackingClassifier(\n",
    "    estimators=[(\"tabpfn\", tabpfn)],\n",
    "    final_estimator=RandomForestClassifier()\n",
    ")\n",
    "\n",
    "stack_classifier.fit(X_train, y_train)\n",
    "y_eval = stack_classifier.predict(X_test)\n",
    "print('Stacking', accuracy_score(y_test, y_eval))\n"
   ]
  },
  {
   "cell_type": "code",
   "execution_count": null,
   "metadata": {},
   "outputs": [],
   "source": []
  }
 ],
 "metadata": {
  "kernelspec": {
   "display_name": "Python 3.9.13 ('tab_pfn')",
   "language": "python",
   "name": "python3"
  },
  "language_info": {
   "codemirror_mode": {
    "name": "ipython",
    "version": 3
   },
   "file_extension": ".py",
   "mimetype": "text/x-python",
   "name": "python",
   "nbconvert_exporter": "python",
   "pygments_lexer": "ipython3",
   "version": "3.9.13 | packaged by conda-forge | (main, May 27 2022, 16:58:50) \n[GCC 10.3.0]"
  },
  "orig_nbformat": 4,
  "vscode": {
   "interpreter": {
    "hash": "5f2a9a09e5f9f59973726e1c2a0feac296e86e007bd9a24e93afa3d54dad9571"
   }
  }
 },
 "nbformat": 4,
 "nbformat_minor": 2
}
