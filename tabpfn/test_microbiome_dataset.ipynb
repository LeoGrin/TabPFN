{
 "cells": [
  {
   "attachments": {},
   "cell_type": "markdown",
   "metadata": {},
   "source": [
    "# Microbiome analyzing for Léo\n",
    "\n",
    "This notebook aims to show how to analyze microbiome data. The dataset contains several studies (each one identified by a `study_accession` identifier). One can expect (strong) group effect, so we analyze them independently in the following, but it might be worth / easier to treat them all together."
   ]
  },
  {
   "cell_type": "code",
   "execution_count": 1,
   "metadata": {},
   "outputs": [],
   "source": [
    "import numpy as np\n",
    "import matplotlib.pyplot as plt\n",
    "import pandas as pd\n",
    "\n",
    "# Random state for reproductibility\n",
    "random_state = 42"
   ]
  },
  {
   "attachments": {},
   "cell_type": "markdown",
   "metadata": {},
   "source": [
    "## Data\n",
    "\n",
    "The Metagenomic Species Pan-genomes (MSPs) correspond roughly to microbial species. In fact, one heuristic to analyze gut samples and infer their microbiome composition is to :\n",
    " - sequence the genes in bulk (*shotgun sequencing*) \n",
    " - cluster co-abundant genes across these samples in order to identify pseudo-microbial species (the *MSP*)\n",
    "\n",
    "Here, the metagenomic samples have already been analyzed and we have access to their composition in MSP, also known as *abundance data*.\n",
    "\n",
    "Moreover, once the MSP are defined, one can derive from their gene composition a phylogenetic tree. We can define a distance matrix from there, using the phylogenetic distance, defined as the patristic distance on the phylogenetic tree between the MSP. It is computed using `dendropy` the first time, and then loaded. (It is maybe not useful for you, but I let it just in case ;) "
   ]
  },
  {
   "cell_type": "code",
   "execution_count": 2,
   "metadata": {},
   "outputs": [
    {
     "ename": "ModuleNotFoundError",
     "evalue": "No module named 'dendropy'",
     "output_type": "error",
     "traceback": [
      "\u001b[0;31m---------------------------------------------------------------------------\u001b[0m",
      "\u001b[0;31mFileNotFoundError\u001b[0m                         Traceback (most recent call last)",
      "Cell \u001b[0;32mIn[2], line 4\u001b[0m\n\u001b[1;32m      3\u001b[0m \u001b[39mtry\u001b[39;00m:\n\u001b[0;32m----> 4\u001b[0m     distances \u001b[39m=\u001b[39m pd\u001b[39m.\u001b[39;49mread_csv(distance_matrix_file, header\u001b[39m=\u001b[39;49m\u001b[39m0\u001b[39;49m, index_col\u001b[39m=\u001b[39;49m\u001b[39m0\u001b[39;49m)\n\u001b[1;32m      5\u001b[0m \u001b[39mexcept\u001b[39;00m:\n",
      "File \u001b[0;32m~/.local/miniconda3/envs/tab_pfn2/lib/python3.9/site-packages/pandas/util/_decorators.py:211\u001b[0m, in \u001b[0;36mdeprecate_kwarg.<locals>._deprecate_kwarg.<locals>.wrapper\u001b[0;34m(*args, **kwargs)\u001b[0m\n\u001b[1;32m    210\u001b[0m         kwargs[new_arg_name] \u001b[39m=\u001b[39m new_arg_value\n\u001b[0;32m--> 211\u001b[0m \u001b[39mreturn\u001b[39;00m func(\u001b[39m*\u001b[39;49margs, \u001b[39m*\u001b[39;49m\u001b[39m*\u001b[39;49mkwargs)\n",
      "File \u001b[0;32m~/.local/miniconda3/envs/tab_pfn2/lib/python3.9/site-packages/pandas/util/_decorators.py:331\u001b[0m, in \u001b[0;36mdeprecate_nonkeyword_arguments.<locals>.decorate.<locals>.wrapper\u001b[0;34m(*args, **kwargs)\u001b[0m\n\u001b[1;32m    326\u001b[0m     warnings\u001b[39m.\u001b[39mwarn(\n\u001b[1;32m    327\u001b[0m         msg\u001b[39m.\u001b[39mformat(arguments\u001b[39m=\u001b[39m_format_argument_list(allow_args)),\n\u001b[1;32m    328\u001b[0m         \u001b[39mFutureWarning\u001b[39;00m,\n\u001b[1;32m    329\u001b[0m         stacklevel\u001b[39m=\u001b[39mfind_stack_level(),\n\u001b[1;32m    330\u001b[0m     )\n\u001b[0;32m--> 331\u001b[0m \u001b[39mreturn\u001b[39;00m func(\u001b[39m*\u001b[39;49margs, \u001b[39m*\u001b[39;49m\u001b[39m*\u001b[39;49mkwargs)\n",
      "File \u001b[0;32m~/.local/miniconda3/envs/tab_pfn2/lib/python3.9/site-packages/pandas/io/parsers/readers.py:950\u001b[0m, in \u001b[0;36mread_csv\u001b[0;34m(filepath_or_buffer, sep, delimiter, header, names, index_col, usecols, squeeze, prefix, mangle_dupe_cols, dtype, engine, converters, true_values, false_values, skipinitialspace, skiprows, skipfooter, nrows, na_values, keep_default_na, na_filter, verbose, skip_blank_lines, parse_dates, infer_datetime_format, keep_date_col, date_parser, dayfirst, cache_dates, iterator, chunksize, compression, thousands, decimal, lineterminator, quotechar, quoting, doublequote, escapechar, comment, encoding, encoding_errors, dialect, error_bad_lines, warn_bad_lines, on_bad_lines, delim_whitespace, low_memory, memory_map, float_precision, storage_options)\u001b[0m\n\u001b[1;32m    948\u001b[0m kwds\u001b[39m.\u001b[39mupdate(kwds_defaults)\n\u001b[0;32m--> 950\u001b[0m \u001b[39mreturn\u001b[39;00m _read(filepath_or_buffer, kwds)\n",
      "File \u001b[0;32m~/.local/miniconda3/envs/tab_pfn2/lib/python3.9/site-packages/pandas/io/parsers/readers.py:605\u001b[0m, in \u001b[0;36m_read\u001b[0;34m(filepath_or_buffer, kwds)\u001b[0m\n\u001b[1;32m    604\u001b[0m \u001b[39m# Create the parser.\u001b[39;00m\n\u001b[0;32m--> 605\u001b[0m parser \u001b[39m=\u001b[39m TextFileReader(filepath_or_buffer, \u001b[39m*\u001b[39;49m\u001b[39m*\u001b[39;49mkwds)\n\u001b[1;32m    607\u001b[0m \u001b[39mif\u001b[39;00m chunksize \u001b[39mor\u001b[39;00m iterator:\n",
      "File \u001b[0;32m~/.local/miniconda3/envs/tab_pfn2/lib/python3.9/site-packages/pandas/io/parsers/readers.py:1442\u001b[0m, in \u001b[0;36mTextFileReader.__init__\u001b[0;34m(self, f, engine, **kwds)\u001b[0m\n\u001b[1;32m   1441\u001b[0m \u001b[39mself\u001b[39m\u001b[39m.\u001b[39mhandles: IOHandles \u001b[39m|\u001b[39m \u001b[39mNone\u001b[39;00m \u001b[39m=\u001b[39m \u001b[39mNone\u001b[39;00m\n\u001b[0;32m-> 1442\u001b[0m \u001b[39mself\u001b[39m\u001b[39m.\u001b[39m_engine \u001b[39m=\u001b[39m \u001b[39mself\u001b[39;49m\u001b[39m.\u001b[39;49m_make_engine(f, \u001b[39mself\u001b[39;49m\u001b[39m.\u001b[39;49mengine)\n",
      "File \u001b[0;32m~/.local/miniconda3/envs/tab_pfn2/lib/python3.9/site-packages/pandas/io/parsers/readers.py:1735\u001b[0m, in \u001b[0;36mTextFileReader._make_engine\u001b[0;34m(self, f, engine)\u001b[0m\n\u001b[1;32m   1734\u001b[0m         mode \u001b[39m+\u001b[39m\u001b[39m=\u001b[39m \u001b[39m\"\u001b[39m\u001b[39mb\u001b[39m\u001b[39m\"\u001b[39m\n\u001b[0;32m-> 1735\u001b[0m \u001b[39mself\u001b[39m\u001b[39m.\u001b[39mhandles \u001b[39m=\u001b[39m get_handle(\n\u001b[1;32m   1736\u001b[0m     f,\n\u001b[1;32m   1737\u001b[0m     mode,\n\u001b[1;32m   1738\u001b[0m     encoding\u001b[39m=\u001b[39;49m\u001b[39mself\u001b[39;49m\u001b[39m.\u001b[39;49moptions\u001b[39m.\u001b[39;49mget(\u001b[39m\"\u001b[39;49m\u001b[39mencoding\u001b[39;49m\u001b[39m\"\u001b[39;49m, \u001b[39mNone\u001b[39;49;00m),\n\u001b[1;32m   1739\u001b[0m     compression\u001b[39m=\u001b[39;49m\u001b[39mself\u001b[39;49m\u001b[39m.\u001b[39;49moptions\u001b[39m.\u001b[39;49mget(\u001b[39m\"\u001b[39;49m\u001b[39mcompression\u001b[39;49m\u001b[39m\"\u001b[39;49m, \u001b[39mNone\u001b[39;49;00m),\n\u001b[1;32m   1740\u001b[0m     memory_map\u001b[39m=\u001b[39;49m\u001b[39mself\u001b[39;49m\u001b[39m.\u001b[39;49moptions\u001b[39m.\u001b[39;49mget(\u001b[39m\"\u001b[39;49m\u001b[39mmemory_map\u001b[39;49m\u001b[39m\"\u001b[39;49m, \u001b[39mFalse\u001b[39;49;00m),\n\u001b[1;32m   1741\u001b[0m     is_text\u001b[39m=\u001b[39;49mis_text,\n\u001b[1;32m   1742\u001b[0m     errors\u001b[39m=\u001b[39;49m\u001b[39mself\u001b[39;49m\u001b[39m.\u001b[39;49moptions\u001b[39m.\u001b[39;49mget(\u001b[39m\"\u001b[39;49m\u001b[39mencoding_errors\u001b[39;49m\u001b[39m\"\u001b[39;49m, \u001b[39m\"\u001b[39;49m\u001b[39mstrict\u001b[39;49m\u001b[39m\"\u001b[39;49m),\n\u001b[1;32m   1743\u001b[0m     storage_options\u001b[39m=\u001b[39;49m\u001b[39mself\u001b[39;49m\u001b[39m.\u001b[39;49moptions\u001b[39m.\u001b[39;49mget(\u001b[39m\"\u001b[39;49m\u001b[39mstorage_options\u001b[39;49m\u001b[39m\"\u001b[39;49m, \u001b[39mNone\u001b[39;49;00m),\n\u001b[1;32m   1744\u001b[0m )\n\u001b[1;32m   1745\u001b[0m \u001b[39massert\u001b[39;00m \u001b[39mself\u001b[39m\u001b[39m.\u001b[39mhandles \u001b[39mis\u001b[39;00m \u001b[39mnot\u001b[39;00m \u001b[39mNone\u001b[39;00m\n",
      "File \u001b[0;32m~/.local/miniconda3/envs/tab_pfn2/lib/python3.9/site-packages/pandas/io/common.py:856\u001b[0m, in \u001b[0;36mget_handle\u001b[0;34m(path_or_buf, mode, encoding, compression, memory_map, is_text, errors, storage_options)\u001b[0m\n\u001b[1;32m    854\u001b[0m \u001b[39mif\u001b[39;00m ioargs\u001b[39m.\u001b[39mencoding \u001b[39mand\u001b[39;00m \u001b[39m\"\u001b[39m\u001b[39mb\u001b[39m\u001b[39m\"\u001b[39m \u001b[39mnot\u001b[39;00m \u001b[39min\u001b[39;00m ioargs\u001b[39m.\u001b[39mmode:\n\u001b[1;32m    855\u001b[0m     \u001b[39m# Encoding\u001b[39;00m\n\u001b[0;32m--> 856\u001b[0m     handle \u001b[39m=\u001b[39m \u001b[39mopen\u001b[39;49m(\n\u001b[1;32m    857\u001b[0m         handle,\n\u001b[1;32m    858\u001b[0m         ioargs\u001b[39m.\u001b[39;49mmode,\n\u001b[1;32m    859\u001b[0m         encoding\u001b[39m=\u001b[39;49mioargs\u001b[39m.\u001b[39;49mencoding,\n\u001b[1;32m    860\u001b[0m         errors\u001b[39m=\u001b[39;49merrors,\n\u001b[1;32m    861\u001b[0m         newline\u001b[39m=\u001b[39;49m\u001b[39m\"\u001b[39;49m\u001b[39m\"\u001b[39;49m,\n\u001b[1;32m    862\u001b[0m     )\n\u001b[1;32m    863\u001b[0m \u001b[39melse\u001b[39;00m:\n\u001b[1;32m    864\u001b[0m     \u001b[39m# Binary mode\u001b[39;00m\n",
      "\u001b[0;31mFileNotFoundError\u001b[0m: [Errno 2] No such file or directory: './shotgun/distance_matrix.csv'",
      "\nDuring handling of the above exception, another exception occurred:\n",
      "\u001b[0;31mModuleNotFoundError\u001b[0m                       Traceback (most recent call last)",
      "Cell \u001b[0;32mIn[2], line 6\u001b[0m\n\u001b[1;32m      4\u001b[0m     distances \u001b[39m=\u001b[39m pd\u001b[39m.\u001b[39mread_csv(distance_matrix_file, header\u001b[39m=\u001b[39m\u001b[39m0\u001b[39m, index_col\u001b[39m=\u001b[39m\u001b[39m0\u001b[39m)\n\u001b[1;32m      5\u001b[0m \u001b[39mexcept\u001b[39;00m:\n\u001b[0;32m----> 6\u001b[0m     \u001b[39mimport\u001b[39;00m \u001b[39mdendropy\u001b[39;00m\n\u001b[1;32m      7\u001b[0m     tree_file \u001b[39m=\u001b[39m \u001b[39m'\u001b[39m\u001b[39m./shotgun/tree.nwk\u001b[39m\u001b[39m'\u001b[39m\n\u001b[1;32m      8\u001b[0m     tree \u001b[39m=\u001b[39m dendropy\u001b[39m.\u001b[39mTree\u001b[39m.\u001b[39mget(path\u001b[39m=\u001b[39mtree_file,schema\u001b[39m=\u001b[39m\u001b[39m'\u001b[39m\u001b[39mnewick\u001b[39m\u001b[39m'\u001b[39m)\n",
      "\u001b[0;31mModuleNotFoundError\u001b[0m: No module named 'dendropy'"
     ]
    }
   ],
   "source": [
    "distance_matrix_file = './shotgun/distance_matrix.csv'\n",
    "\n",
    "try:\n",
    "    distances = pd.read_csv(distance_matrix_file, header=0, index_col=0)\n",
    "except:\n",
    "    import dendropy\n",
    "    tree_file = './shotgun/tree.nwk'\n",
    "    tree = dendropy.Tree.get(path=tree_file,schema='newick')\n",
    "    pdm = tree.phylogenetic_distance_matrix()\n",
    "    pdm.as_data_table().write_csv(distance_matrix_file)\n",
    "    distances = pd.read_csv(distance_matrix_file, header=0, index_col=0)"
   ]
  },
  {
   "attachments": {},
   "cell_type": "markdown",
   "metadata": {},
   "source": [
    "### Abundance data\n",
    "\n",
    "We load the data and keep only the MSP that are in the tree (and for which we have a distance information). \n",
    "\n",
    "We also separate the abundance data from the metadata.\n",
    "The prevalence of a MSP is defined as the proportion of samples that contains this MSP (e.g. that are > 0).\n",
    "It allows to filter out a large proportion of the MSP and to reduce the dimensionality.\n",
    "There is no thumb rule, but I would advise something < 0.5.\n",
    "\n",
    "As we are interested in predicting the CRC, we drop the 7 patients for who this information is not available."
   ]
  },
  {
   "cell_type": "code",
   "execution_count": 47,
   "metadata": {},
   "outputs": [],
   "source": [
    "load_file = 'datasets/microbiome_leo/shotgun/CRC_msp_data.csv'\n",
    "df = pd.read_csv(load_file, low_memory=False)\n",
    "#distances.columns = [col.replace(' ','_') for col in distances.columns]\n",
    "#distances.set_index(distances.columns, inplace=True)\n",
    "\n",
    "#to_drop_columns = [col for col in df.columns if (col.startswith('msp'))]# and col not in distances.columns)]\n",
    "#df.drop(to_drop_columns, axis=1, inplace=True)\n",
    "msp_columns = [col for col in df.columns if col.startswith('msp')]\n",
    "\n",
    "# Filter the non-prevalent msp\n",
    "prevalence = df[msp_columns].astype(bool).sum(axis=0) / df.shape[0]\n",
    "\n",
    "\n",
    "# TODO: change the threshold to a lower value\n",
    "prevalence_threshold = 0.3 # Set high to spare computation time\n",
    "prevalence_mask = prevalence < prevalence_threshold\n",
    "non_prevalent_msp = prevalence[prevalence_mask].index.tolist() # List of non-prevalent msp e.g. the msp that are in less than 50% of the samples\n",
    "df.drop(non_prevalent_msp, axis=1, inplace=True)\n",
    "#distances.drop(index=non_prevalent_msp, inplace=True)\n",
    "#distances.drop(columns=non_prevalent_msp, inplace=True)\n",
    "\n",
    "# Remaining MSP\n",
    "msp_columns = [col for col in df.columns if col.startswith('msp')]\n",
    "\n",
    "# Extract the distance matrix\n",
    "#C = distances.to_numpy()\n",
    "#C /= np.median(C)\n",
    "\n",
    "# Keep only rows with the CRC status available\n",
    "df = df[df['health_status'].notna()]\n",
    "\n",
    "# Compute a scaling factor to avoid too small values : the inverse of the median positive values\n",
    "# min_nz = min_nonzero(df[msp_columns].to_numpy().flatten())\n",
    "abundances = df[msp_columns]\n",
    "pos_ab = abundances[abundances > 0].to_numpy()\n",
    "median_abundance = np.median(pos_ab[~np.isnan(pos_ab)])\n",
    "scaling_factor = 1 / median_abundance\n",
    "\n",
    "# Split by dataset and by abundance / metadata=targets\n",
    "datasets, targets = [], []\n",
    "for study_accession in df['study_accession'].unique():\n",
    "    dataset = df[df['study_accession']== study_accession]\n",
    "    abundance_data = scaling_factor * dataset[msp_columns].astype(float).to_numpy()\n",
    "    # abundance_data = dataset[msp_columns].astype(float).to_numpy()\n",
    "    metadata = dataset.drop(msp_columns, axis=1)\n",
    "    # plt.hist(abundance_data.flatten())\n",
    "    # plt.yscale('log')\n",
    "    # plt.xscale('log')\n",
    "    # plt.show()\n",
    "    # plt.hist(np.log(1+abundance_data.flatten()))\n",
    "    # plt.xscale('log')\n",
    "    # plt.show()\n",
    "    datasets.append(abundance_data)\n",
    "    targets.append(metadata)\n"
   ]
  },
  {
   "cell_type": "code",
   "execution_count": 48,
   "metadata": {},
   "outputs": [
    {
     "data": {
      "text/plain": [
       "(644, 217)"
      ]
     },
     "execution_count": 48,
     "metadata": {},
     "output_type": "execute_result"
    }
   ],
   "source": [
    "datasets[0].shape"
   ]
  },
  {
   "cell_type": "code",
   "execution_count": 14,
   "metadata": {},
   "outputs": [],
   "source": [
    "from tabpfn.scripts.transformer_prediction_interface import TabPFNClassifier\n",
    "from create_model import load_model_no_train\n",
    "device = \"cuda:3\""
   ]
  },
  {
   "cell_type": "code",
   "execution_count": 49,
   "metadata": {},
   "outputs": [
    {
     "name": "stdout",
     "output_type": "stream",
     "text": [
      "WARNING: Using nhead=4 from config, not from the model state dict. This can fail silently.\n",
      "Loaded model with parameters: emsize=512, nhead=4, nlayers=12, nhid_factor=2, num_features=100\n",
      "Using style prior: True\n",
      "nhead 4\n",
      "Num workers:  10\n",
      "{'recompute_attn': True}\n",
      "Using cuda:3 device\n",
      "Batch size: 1\n",
      "Num workers:  10\n",
      "DataLoader.__dict__ {'num_features': 100, 'num_steps': 8192, 'batch_size': 1, 'eval_pos_seq_len_sampler': <function create_dataloader.<locals>.eval_pos_seq_len_sampler at 0x7ff5c3e86af0>, 'seq_len_maximum': 10, 'device': 'cuda:3', 'get_batch_kwargs': {'hyperparameters': {'lr': 0.0001, 'dropout': 0.0, 'emsize': 512, 'batch_size': 1, 'nlayers': 12, 'num_features': 100, 'nhead': 4, 'nhid_factor': 2, 'bptt': 10, 'eval_positions': [972], 'seq_len_used': 50, 'sampling': 'mixed', 'epochs': 400, 'num_steps': 8192, 'verbose': False, 'mix_activations': True, 'nan_prob_unknown_reason_reason_prior': 1.0, 'categorical_feature_p': 0.2, 'nan_prob_no_reason': 0.0, 'nan_prob_unknown_reason': 0.0, 'nan_prob_a_reason': 0.0, 'max_num_classes': 10, 'num_classes': '<function <lambda>.<locals>.<lambda> at 0x7fc575dfb550>', 'noise_type': 'Gaussian', 'balanced': False, 'normalize_to_ranking': False, 'set_value_to_nan': 0.1, 'normalize_by_used_features': True, 'num_features_used': <function load_model_no_train.<locals>.<lambda> at 0x7ff5c3e86700>, 'num_categorical_features_sampler_a': -1.0, 'differentiable_hyperparameters': {'distribution': 'uniform', 'min': 1000000.0, 'max': 1000001.0}, 'prior_type': 'prior_bag', 'differentiable': True, 'flexible': True, 'aggregate_k_gradients': 8, 'recompute_attn': True, 'bptt_extra_samples': None, 'dynamic_batch_size': False, 'multiclass_loss_type': 'nono', 'output_multiclass_ordered_p': 0.0, 'normalize_with_sqrt': False, 'new_mlp_per_example': True, 'prior_mlp_scale_weights_sqrt': True, 'batch_size_per_gp_sample': None, 'normalize_ignore_label_too': True, 'differentiable_hps_as_style': False, 'max_eval_pos': 1000, 'random_feature_rotation': True, 'rotate_normalized_labels': True, 'canonical_y_encoder': False, 'total_available_time_in_s': None, 'train_mixed_precision': True, 'efficient_eval_masking': True, 'multiclass_type': 'rank', 'done_part_in_training': 0.8425, 'categorical_features_sampler': <function load_model_no_train.<locals>.<lambda> at 0x7ff5c3e86550>, 'num_features_used_in_training': '<function <lambda>.<locals>.<lambda> at 0x7fc575dfb5e0>', 'num_classes_in_training': '<function <lambda>.<locals>.<lambda> at 0x7fc575dfb550>', 'batch_size_in_training': 8, 'bptt_in_training': 1024, 'bptt_extra_samples_in_training': None, 'prior_bag_get_batch': (<function get_model_no_train.<locals>.make_get_batch.<locals>.new_get_batch at 0x7ff5c3e86940>, <function get_model_no_train.<locals>.make_get_batch.<locals>.new_get_batch at 0x7ff5c3e869d0>), 'prior_bag_exp_weights_1': 2.0, 'normalize_labels': True, 'check_is_compatible': True}, 'batch_size_per_gp_sample': None, 'get_batch': <function get_model_no_train.<locals>.make_get_batch.<locals>.new_get_batch at 0x7ff5c3e86a60>, 'differentiable_hyperparameters': {'prior_bag_exp_weights_1': {'distribution': 'uniform', 'min': 1000000.0, 'max': 1000001.0}, 'num_layers': {'distribution': 'meta_trunc_norm_log_scaled', 'max_mean': 6, 'min_mean': 1, 'round': True, 'lower_bound': 2}, 'prior_mlp_hidden_dim': {'distribution': 'meta_trunc_norm_log_scaled', 'max_mean': 130, 'min_mean': 5, 'round': True, 'lower_bound': 4}, 'prior_mlp_dropout_prob': {'distribution': 'meta_beta', 'scale': 0.9, 'min': 0.1, 'max': 5.0}, 'noise_std': {'distribution': 'meta_trunc_norm_log_scaled', 'max_mean': 0.3, 'min_mean': 0.0001, 'round': False, 'lower_bound': 0.0}, 'init_std': {'distribution': 'meta_trunc_norm_log_scaled', 'max_mean': 10.0, 'min_mean': 0.01, 'round': False, 'lower_bound': 0.0}, 'num_causes': {'distribution': 'meta_trunc_norm_log_scaled', 'max_mean': 12, 'min_mean': 1, 'round': True, 'lower_bound': 1}, 'is_causal': {'distribution': 'meta_choice', 'choice_values': [True, False]}, 'pre_sample_weights': {'distribution': 'meta_choice', 'choice_values': [True, False]}, 'y_is_effect': {'distribution': 'meta_choice', 'choice_values': [True, False]}, 'prior_mlp_activations': {'distribution': 'meta_choice_mixed', 'choice_values': [<class 'torch.nn.modules.activation.Tanh'>, <class 'torch.nn.modules.activation.Tanh'>, <class 'torch.nn.modules.activation.Tanh'>, <class 'torch.nn.modules.activation.Tanh'>], 'choice_values_used': [\"<class 'torch.nn.modules.activation.Tanh'>\", \"<class 'torch.nn.modules.linear.Identity'>\", '<function get_diff_causal.<locals>.<lambda> at 0x7fc575dfb670>', \"<class 'torch.nn.modules.activation.ELU'>\"]}, 'block_wise_dropout': {'distribution': 'meta_choice', 'choice_values': [True, False]}, 'sort_features': {'distribution': 'meta_choice', 'choice_values': [True, False]}, 'in_clique': {'distribution': 'meta_choice', 'choice_values': [True, False]}, 'sampling': {'distribution': 'meta_choice', 'choice_values': ['normal', 'mixed']}, 'pre_sample_causes': {'distribution': 'meta_choice', 'choice_values': [True, False]}, 'outputscale': {'distribution': 'meta_trunc_norm_log_scaled', 'max_mean': 10.0, 'min_mean': 1e-05, 'round': False, 'lower_bound': 0}, 'lengthscale': {'distribution': 'meta_trunc_norm_log_scaled', 'max_mean': 10.0, 'min_mean': 1e-05, 'round': False, 'lower_bound': 0}, 'noise': {'distribution': 'meta_choice', 'choice_values': [1e-05, 0.0001, 0.01]}, 'multiclass_type': {'distribution': 'meta_choice', 'choice_values': ['value', 'rank']}}}, 'get_batch_method': <function get_batch at 0x7ff492ebde50>, 'model': None, 'epoch': 0, 'step': 0, 'test_loader': False}\n",
      "DataLoader.__dict__ {'num_features': 100, 'num_steps': 64, 'batch_size': 4, 'eval_pos_seq_len_sampler': <function create_dataloader.<locals>.eval_pos_seq_len_sampler at 0x7ff5c3e86af0>, 'seq_len_maximum': 10, 'device': 'cuda:3', 'get_batch_kwargs': {'hyperparameters': {'lr': 0.0001, 'dropout': 0.0, 'emsize': 512, 'batch_size': 1, 'nlayers': 12, 'num_features': 100, 'nhead': 4, 'nhid_factor': 2, 'bptt': 10, 'eval_positions': [972], 'seq_len_used': 50, 'sampling': 'mixed', 'epochs': 400, 'num_steps': 8192, 'verbose': False, 'mix_activations': True, 'nan_prob_unknown_reason_reason_prior': 1.0, 'categorical_feature_p': 0.2, 'nan_prob_no_reason': 0.0, 'nan_prob_unknown_reason': 0.0, 'nan_prob_a_reason': 0.0, 'max_num_classes': 10, 'num_classes': '<function <lambda>.<locals>.<lambda> at 0x7fc575dfb550>', 'noise_type': 'Gaussian', 'balanced': False, 'normalize_to_ranking': False, 'set_value_to_nan': 0.1, 'normalize_by_used_features': True, 'num_features_used': <function load_model_no_train.<locals>.<lambda> at 0x7ff5c3e86700>, 'num_categorical_features_sampler_a': -1.0, 'differentiable_hyperparameters': {'distribution': 'uniform', 'min': 1000000.0, 'max': 1000001.0}, 'prior_type': 'prior_bag', 'differentiable': True, 'flexible': True, 'aggregate_k_gradients': 8, 'recompute_attn': True, 'bptt_extra_samples': None, 'dynamic_batch_size': False, 'multiclass_loss_type': 'nono', 'output_multiclass_ordered_p': 0.0, 'normalize_with_sqrt': False, 'new_mlp_per_example': True, 'prior_mlp_scale_weights_sqrt': True, 'batch_size_per_gp_sample': None, 'normalize_ignore_label_too': True, 'differentiable_hps_as_style': False, 'max_eval_pos': 1000, 'random_feature_rotation': True, 'rotate_normalized_labels': True, 'canonical_y_encoder': False, 'total_available_time_in_s': None, 'train_mixed_precision': True, 'efficient_eval_masking': True, 'multiclass_type': 'rank', 'done_part_in_training': 0.8425, 'categorical_features_sampler': <function load_model_no_train.<locals>.<lambda> at 0x7ff5c3e86550>, 'num_features_used_in_training': '<function <lambda>.<locals>.<lambda> at 0x7fc575dfb5e0>', 'num_classes_in_training': '<function <lambda>.<locals>.<lambda> at 0x7fc575dfb550>', 'batch_size_in_training': 8, 'bptt_in_training': 1024, 'bptt_extra_samples_in_training': None, 'prior_bag_get_batch': (<function get_model_no_train.<locals>.make_get_batch.<locals>.new_get_batch at 0x7ff5c3e86940>, <function get_model_no_train.<locals>.make_get_batch.<locals>.new_get_batch at 0x7ff5c3e869d0>), 'prior_bag_exp_weights_1': 2.0, 'normalize_labels': True, 'check_is_compatible': True}, 'batch_size_per_gp_sample': None, 'get_batch': <function get_model_no_train.<locals>.make_get_batch.<locals>.new_get_batch at 0x7ff5c3e86a60>, 'differentiable_hyperparameters': {'prior_bag_exp_weights_1': {'distribution': 'uniform', 'min': 1000000.0, 'max': 1000001.0}, 'num_layers': {'distribution': 'meta_trunc_norm_log_scaled', 'max_mean': 6, 'min_mean': 1, 'round': True, 'lower_bound': 2}, 'prior_mlp_hidden_dim': {'distribution': 'meta_trunc_norm_log_scaled', 'max_mean': 130, 'min_mean': 5, 'round': True, 'lower_bound': 4}, 'prior_mlp_dropout_prob': {'distribution': 'meta_beta', 'scale': 0.9, 'min': 0.1, 'max': 5.0}, 'noise_std': {'distribution': 'meta_trunc_norm_log_scaled', 'max_mean': 0.3, 'min_mean': 0.0001, 'round': False, 'lower_bound': 0.0}, 'init_std': {'distribution': 'meta_trunc_norm_log_scaled', 'max_mean': 10.0, 'min_mean': 0.01, 'round': False, 'lower_bound': 0.0}, 'num_causes': {'distribution': 'meta_trunc_norm_log_scaled', 'max_mean': 12, 'min_mean': 1, 'round': True, 'lower_bound': 1}, 'is_causal': {'distribution': 'meta_choice', 'choice_values': [True, False]}, 'pre_sample_weights': {'distribution': 'meta_choice', 'choice_values': [True, False]}, 'y_is_effect': {'distribution': 'meta_choice', 'choice_values': [True, False]}, 'prior_mlp_activations': {'distribution': 'meta_choice_mixed', 'choice_values': [<class 'torch.nn.modules.activation.Tanh'>, <class 'torch.nn.modules.activation.Tanh'>, <class 'torch.nn.modules.activation.Tanh'>, <class 'torch.nn.modules.activation.Tanh'>], 'choice_values_used': [\"<class 'torch.nn.modules.activation.Tanh'>\", \"<class 'torch.nn.modules.linear.Identity'>\", '<function get_diff_causal.<locals>.<lambda> at 0x7fc575dfb670>', \"<class 'torch.nn.modules.activation.ELU'>\"]}, 'block_wise_dropout': {'distribution': 'meta_choice', 'choice_values': [True, False]}, 'sort_features': {'distribution': 'meta_choice', 'choice_values': [True, False]}, 'in_clique': {'distribution': 'meta_choice', 'choice_values': [True, False]}, 'sampling': {'distribution': 'meta_choice', 'choice_values': ['normal', 'mixed']}, 'pre_sample_causes': {'distribution': 'meta_choice', 'choice_values': [True, False]}, 'outputscale': {'distribution': 'meta_trunc_norm_log_scaled', 'max_mean': 10.0, 'min_mean': 1e-05, 'round': False, 'lower_bound': 0}, 'lengthscale': {'distribution': 'meta_trunc_norm_log_scaled', 'max_mean': 10.0, 'min_mean': 1e-05, 'round': False, 'lower_bound': 0}, 'noise': {'distribution': 'meta_choice', 'choice_values': [1e-05, 0.0001, 0.01]}, 'multiclass_type': {'distribution': 'meta_choice', 'choice_values': ['value', 'rank']}}}, 'get_batch_method': <function get_batch at 0x7ff492ebde50>, 'model': None, 'epoch': 0, 'step': 0, 'test_loader': False}\n",
      "Number of output units: 10\n",
      "Using a Transformer with 25.82 M parameters\n",
      "WARNING: Loading model with scheduler state dict\n",
      "WARNING: Using nhead=8 from config, not from the model state dict. This can fail silently.\n",
      "Loaded model with parameters: emsize=512, nhead=8, nlayers=12, nhid_factor=2, num_features=500\n",
      "Using style prior: True\n",
      "nhead 8\n",
      "Num workers:  10\n",
      "{'recompute_attn': True}\n",
      "Using 0 device\n",
      "Batch size: 1\n",
      "Num workers:  10\n",
      "DataLoader.__dict__ {'num_features': 500, 'num_steps': 65536, 'batch_size': 1, 'eval_pos_seq_len_sampler': <function create_dataloader.<locals>.eval_pos_seq_len_sampler at 0x7ff5c3e86b80>, 'seq_len_maximum': 10, 'device': 0, 'get_batch_kwargs': {'hyperparameters': {'lr': 0.0001, 'dropout': 0.0, 'emsize': 512, 'batch_size': 1, 'nlayers': 12, 'num_features': 500, 'nhead': 8, 'nhid_factor': 2, 'bptt': 10, 'eval_positions': [9], 'seq_len_used': 50, 'sampling': 'mixed', 'epochs': 400, 'num_steps': 65536, 'verbose': False, 'mix_activations': True, 'nan_prob_unknown_reason_reason_prior': 1.0, 'categorical_feature_p': 0.2, 'nan_prob_no_reason': 0.0, 'nan_prob_unknown_reason': 0.0, 'nan_prob_a_reason': 0.0, 'max_num_classes': 10, 'num_classes': '<function <lambda>.<locals>.<lambda> at 0x7fc575dfb550>', 'noise_type': 'Gaussian', 'balanced': False, 'normalize_to_ranking': False, 'set_value_to_nan': 0.1, 'normalize_by_used_features': True, 'num_features_used': <function load_model_no_train.<locals>.<lambda> at 0x7ff5c3e86550>, 'num_categorical_features_sampler_a': -1.0, 'differentiable_hyperparameters': {'distribution': 'uniform', 'min': 1000000.0, 'max': 1000001.0}, 'prior_type': 'prior_bag', 'differentiable': True, 'flexible': True, 'aggregate_k_gradients': 8, 'recompute_attn': True, 'bptt_extra_samples': None, 'dynamic_batch_size': False, 'multiclass_loss_type': 'nono', 'output_multiclass_ordered_p': 0.0, 'normalize_with_sqrt': False, 'new_mlp_per_example': True, 'prior_mlp_scale_weights_sqrt': True, 'batch_size_per_gp_sample': None, 'normalize_ignore_label_too': True, 'differentiable_hps_as_style': False, 'max_eval_pos': 1000, 'random_feature_rotation': True, 'rotate_normalized_labels': True, 'canonical_y_encoder': False, 'total_available_time_in_s': None, 'train_mixed_precision': True, 'efficient_eval_masking': True, 'multiclass_type': 'rank', 'done_part_in_training': 0.8425, 'categorical_features_sampler': <function load_model_no_train.<locals>.<lambda> at 0x7ff5c3e86d30>, 'num_features_used_in_training': <function load_model_no_train.<locals>.<lambda> at 0x7ff5c3e86700>, 'num_classes_in_training': '<function <lambda>.<locals>.<lambda> at 0x7fc575dfb550>', 'batch_size_in_training': 1, 'bptt_in_training': 10, 'bptt_extra_samples_in_training': None, 'name': 'default', 'use_wandb': False, 'save_every': 100, 'prior_bag_get_batch': (<function get_model_no_train.<locals>.make_get_batch.<locals>.new_get_batch at 0x7ff5c3e86790>, <function get_model_no_train.<locals>.make_get_batch.<locals>.new_get_batch at 0x7ff5c3e86af0>), 'prior_bag_exp_weights_1': 2.0, 'normalize_labels': True, 'check_is_compatible': True}, 'batch_size_per_gp_sample': None, 'get_batch': <function get_model_no_train.<locals>.make_get_batch.<locals>.new_get_batch at 0x7ff5c3e863a0>, 'differentiable_hyperparameters': {'prior_bag_exp_weights_1': {'distribution': 'uniform', 'min': 1000000.0, 'max': 1000001.0}, 'num_layers': {'distribution': 'meta_trunc_norm_log_scaled', 'max_mean': 6, 'min_mean': 1, 'round': True, 'lower_bound': 2}, 'prior_mlp_hidden_dim': {'distribution': 'meta_trunc_norm_log_scaled', 'max_mean': 130, 'min_mean': 5, 'round': True, 'lower_bound': 4}, 'prior_mlp_dropout_prob': {'distribution': 'meta_beta', 'scale': 0.9, 'min': 0.1, 'max': 5.0}, 'noise_std': {'distribution': 'meta_trunc_norm_log_scaled', 'max_mean': 0.3, 'min_mean': 0.0001, 'round': False, 'lower_bound': 0.0}, 'init_std': {'distribution': 'meta_trunc_norm_log_scaled', 'max_mean': 10.0, 'min_mean': 0.01, 'round': False, 'lower_bound': 0.0}, 'num_causes': {'distribution': 'meta_trunc_norm_log_scaled', 'max_mean': 12, 'min_mean': 1, 'round': True, 'lower_bound': 1}, 'is_causal': {'distribution': 'meta_choice', 'choice_values': [True, False]}, 'pre_sample_weights': {'distribution': 'meta_choice', 'choice_values': [True, False]}, 'y_is_effect': {'distribution': 'meta_choice', 'choice_values': [True, False]}, 'prior_mlp_activations': {'distribution': 'meta_choice_mixed', 'choice_values': [<class 'torch.nn.modules.activation.Tanh'>, <class 'torch.nn.modules.activation.Tanh'>, <class 'torch.nn.modules.activation.Tanh'>, <class 'torch.nn.modules.activation.Tanh'>], 'choice_values_used': [<class 'torch.nn.modules.activation.Tanh'>, <class 'torch.nn.modules.activation.Tanh'>, <class 'torch.nn.modules.activation.Tanh'>, <class 'torch.nn.modules.activation.Tanh'>]}, 'block_wise_dropout': {'distribution': 'meta_choice', 'choice_values': [True, False]}, 'sort_features': {'distribution': 'meta_choice', 'choice_values': [True, False]}, 'in_clique': {'distribution': 'meta_choice', 'choice_values': [True, False]}, 'sampling': {'distribution': 'meta_choice', 'choice_values': ['normal', 'mixed']}, 'pre_sample_causes': {'distribution': 'meta_choice', 'choice_values': [True, False]}, 'outputscale': {'distribution': 'meta_trunc_norm_log_scaled', 'max_mean': 10.0, 'min_mean': 1e-05, 'round': False, 'lower_bound': 0}, 'lengthscale': {'distribution': 'meta_trunc_norm_log_scaled', 'max_mean': 10.0, 'min_mean': 1e-05, 'round': False, 'lower_bound': 0}, 'noise': {'distribution': 'meta_choice', 'choice_values': [1e-05, 0.0001, 0.01]}, 'multiclass_type': {'distribution': 'meta_choice', 'choice_values': ['value', 'rank']}}}, 'get_batch_method': <function get_batch at 0x7ff492ebde50>, 'model': None, 'epoch': 0, 'step': 0, 'test_loader': False}\n",
      "DataLoader.__dict__ {'num_features': 500, 'num_steps': 64, 'batch_size': 4, 'eval_pos_seq_len_sampler': <function create_dataloader.<locals>.eval_pos_seq_len_sampler at 0x7ff5c3e86b80>, 'seq_len_maximum': 10, 'device': 0, 'get_batch_kwargs': {'hyperparameters': {'lr': 0.0001, 'dropout': 0.0, 'emsize': 512, 'batch_size': 1, 'nlayers': 12, 'num_features': 500, 'nhead': 8, 'nhid_factor': 2, 'bptt': 10, 'eval_positions': [9], 'seq_len_used': 50, 'sampling': 'mixed', 'epochs': 400, 'num_steps': 65536, 'verbose': False, 'mix_activations': True, 'nan_prob_unknown_reason_reason_prior': 1.0, 'categorical_feature_p': 0.2, 'nan_prob_no_reason': 0.0, 'nan_prob_unknown_reason': 0.0, 'nan_prob_a_reason': 0.0, 'max_num_classes': 10, 'num_classes': '<function <lambda>.<locals>.<lambda> at 0x7fc575dfb550>', 'noise_type': 'Gaussian', 'balanced': False, 'normalize_to_ranking': False, 'set_value_to_nan': 0.1, 'normalize_by_used_features': True, 'num_features_used': <function load_model_no_train.<locals>.<lambda> at 0x7ff5c3e86550>, 'num_categorical_features_sampler_a': -1.0, 'differentiable_hyperparameters': {'distribution': 'uniform', 'min': 1000000.0, 'max': 1000001.0}, 'prior_type': 'prior_bag', 'differentiable': True, 'flexible': True, 'aggregate_k_gradients': 8, 'recompute_attn': True, 'bptt_extra_samples': None, 'dynamic_batch_size': False, 'multiclass_loss_type': 'nono', 'output_multiclass_ordered_p': 0.0, 'normalize_with_sqrt': False, 'new_mlp_per_example': True, 'prior_mlp_scale_weights_sqrt': True, 'batch_size_per_gp_sample': None, 'normalize_ignore_label_too': True, 'differentiable_hps_as_style': False, 'max_eval_pos': 1000, 'random_feature_rotation': True, 'rotate_normalized_labels': True, 'canonical_y_encoder': False, 'total_available_time_in_s': None, 'train_mixed_precision': True, 'efficient_eval_masking': True, 'multiclass_type': 'rank', 'done_part_in_training': 0.8425, 'categorical_features_sampler': <function load_model_no_train.<locals>.<lambda> at 0x7ff5c3e86d30>, 'num_features_used_in_training': <function load_model_no_train.<locals>.<lambda> at 0x7ff5c3e86700>, 'num_classes_in_training': '<function <lambda>.<locals>.<lambda> at 0x7fc575dfb550>', 'batch_size_in_training': 1, 'bptt_in_training': 10, 'bptt_extra_samples_in_training': None, 'name': 'default', 'use_wandb': False, 'save_every': 100, 'prior_bag_get_batch': (<function get_model_no_train.<locals>.make_get_batch.<locals>.new_get_batch at 0x7ff5c3e86790>, <function get_model_no_train.<locals>.make_get_batch.<locals>.new_get_batch at 0x7ff5c3e86af0>), 'prior_bag_exp_weights_1': 2.0, 'normalize_labels': True, 'check_is_compatible': True}, 'batch_size_per_gp_sample': None, 'get_batch': <function get_model_no_train.<locals>.make_get_batch.<locals>.new_get_batch at 0x7ff5c3e863a0>, 'differentiable_hyperparameters': {'prior_bag_exp_weights_1': {'distribution': 'uniform', 'min': 1000000.0, 'max': 1000001.0}, 'num_layers': {'distribution': 'meta_trunc_norm_log_scaled', 'max_mean': 6, 'min_mean': 1, 'round': True, 'lower_bound': 2}, 'prior_mlp_hidden_dim': {'distribution': 'meta_trunc_norm_log_scaled', 'max_mean': 130, 'min_mean': 5, 'round': True, 'lower_bound': 4}, 'prior_mlp_dropout_prob': {'distribution': 'meta_beta', 'scale': 0.9, 'min': 0.1, 'max': 5.0}, 'noise_std': {'distribution': 'meta_trunc_norm_log_scaled', 'max_mean': 0.3, 'min_mean': 0.0001, 'round': False, 'lower_bound': 0.0}, 'init_std': {'distribution': 'meta_trunc_norm_log_scaled', 'max_mean': 10.0, 'min_mean': 0.01, 'round': False, 'lower_bound': 0.0}, 'num_causes': {'distribution': 'meta_trunc_norm_log_scaled', 'max_mean': 12, 'min_mean': 1, 'round': True, 'lower_bound': 1}, 'is_causal': {'distribution': 'meta_choice', 'choice_values': [True, False]}, 'pre_sample_weights': {'distribution': 'meta_choice', 'choice_values': [True, False]}, 'y_is_effect': {'distribution': 'meta_choice', 'choice_values': [True, False]}, 'prior_mlp_activations': {'distribution': 'meta_choice_mixed', 'choice_values': [<class 'torch.nn.modules.activation.Tanh'>, <class 'torch.nn.modules.activation.Tanh'>, <class 'torch.nn.modules.activation.Tanh'>, <class 'torch.nn.modules.activation.Tanh'>], 'choice_values_used': [<class 'torch.nn.modules.activation.Tanh'>, <class 'torch.nn.modules.activation.Tanh'>, <class 'torch.nn.modules.activation.Tanh'>, <class 'torch.nn.modules.activation.Tanh'>]}, 'block_wise_dropout': {'distribution': 'meta_choice', 'choice_values': [True, False]}, 'sort_features': {'distribution': 'meta_choice', 'choice_values': [True, False]}, 'in_clique': {'distribution': 'meta_choice', 'choice_values': [True, False]}, 'sampling': {'distribution': 'meta_choice', 'choice_values': ['normal', 'mixed']}, 'pre_sample_causes': {'distribution': 'meta_choice', 'choice_values': [True, False]}, 'outputscale': {'distribution': 'meta_trunc_norm_log_scaled', 'max_mean': 10.0, 'min_mean': 1e-05, 'round': False, 'lower_bound': 0}, 'lengthscale': {'distribution': 'meta_trunc_norm_log_scaled', 'max_mean': 10.0, 'min_mean': 1e-05, 'round': False, 'lower_bound': 0}, 'noise': {'distribution': 'meta_choice', 'choice_values': [1e-05, 0.0001, 0.01]}, 'multiclass_type': {'distribution': 'meta_choice', 'choice_values': ['value', 'rank']}}}, 'get_batch_method': <function get_batch at 0x7ff492ebde50>, 'model': None, 'epoch': 0, 'step': 0, 'test_loader': False}\n",
      "Number of output units: 10\n",
      "Using a Transformer with 26.03 M parameters\n"
     ]
    }
   ],
   "source": [
    "import pandas as pd\n",
    "from sklearn.ensemble import RandomForestClassifier, GradientBoostingClassifier\n",
    "from sklearn.linear_model import LogisticRegression\n",
    "from sklearn.model_selection import train_test_split\n",
    "from sklearn.metrics import balanced_accuracy_score\n",
    "rf = RandomForestClassifier()\n",
    "clf_lasso = LogisticRegression(random_state=0, penalty=\"l1\", max_iter=1000, solver=\"liblinear\")\n",
    "clf_l2 = LogisticRegression(random_state=0, max_iter=1000, penalty=\"l2\")\n",
    "gbt = GradientBoostingClassifier()\n",
    "\n",
    "from tabpfn.scripts.transformer_prediction_interface import TabPFNClassifier\n",
    "from create_model import load_model_no_train\n",
    "\n",
    "device=\"cuda:3\"\n",
    "# checkpoint = \"linear52436_xqitlhvw_90\"\n",
    "# model_5_step = TabPFNClassifier(device=device)#, no_preprocess_mode=True)\n",
    "# #model = GradientBoostingClassifier()\n",
    "# config = model_5_step.c\n",
    "# config[\"num_features\"] = 1000\n",
    "# model_5_step.c[\"max_num_features\"] = 1000\n",
    "# model_pytorch_5_step = load_model_no_train(\"tabpfn/model_checkpoints\", f\"model_{checkpoint}.pt\", 0, config, 0)[0]\n",
    "# model_5_step.max_num_features = 1000\n",
    "# model_5_step.model = model_pytorch_5_step\n",
    "\n",
    "checkpoint = \"linear7962_ghuh2tr0_540\"\n",
    "model = TabPFNClassifier(device=device, no_preprocess_mode=True, normalize_by_used_features=True, \n",
    "                                normalize_x=True, remove_outliers_bool=True, num_features_no_pad=400,\n",
    "                                normalize_by_used_features2=True)\n",
    "# # #model = GradientBoostingClassifier()\n",
    "config = model.c\n",
    "# if i == 0:\n",
    "config[\"nhead\"] = 8\n",
    "#     with open(\"tabpfn/config.pkl\", \"rb\") as f:\n",
    "#         config = pickle.load(f)\n",
    "# #config[\"num_features\"] = 1000\n",
    "# # #model.c[\"max_num_features\"] = 1000\n",
    "model_pytorch = load_model_no_train(\"tabpfn/model_checkpoints\", f\"model_{checkpoint}.pt\", 0, config, 0)[0]\n",
    "# # model.max_num_features = 100\n",
    "model.model = model_pytorch\n",
    "model.max_num_features = 500\n",
    "\n",
    "# checkpoint = \"linear44856_62y4rq7r_210\"\n",
    "# model_10_step = TabPFNClassifier(device=device)#, no_preprocess_mode=True)\n",
    "# #model = GradientBoostingClassifier()\n",
    "# config = model_10_step.c\n",
    "# config[\"num_features\"] = 2000\n",
    "# model_10_step.c[\"max_num_features\"] = 2000\n",
    "# model_pytorch_10_step = load_model_no_train(\"tabpfn/model_checkpoints\", f\"model_{checkpoint}.pt\", 0, config, 0)[0]\n",
    "# model_10_step.max_num_features = 2000\n",
    "# model_10_step.model = model_pytorch_10_step"
   ]
  },
  {
   "cell_type": "code",
   "execution_count": 8,
   "metadata": {},
   "outputs": [
    {
     "data": {
      "text/plain": [
       "0       P\n",
       "1       P\n",
       "2       P\n",
       "3       P\n",
       "4       H\n",
       "       ..\n",
       "1595    P\n",
       "1596    P\n",
       "1597    P\n",
       "1598    P\n",
       "1599    P\n",
       "Name: health_status, Length: 1593, dtype: object"
      ]
     },
     "execution_count": 8,
     "metadata": {},
     "output_type": "execute_result"
    }
   ],
   "source": [
    "pd.concat(targets)[\"health_status\"]"
   ]
  },
  {
   "cell_type": "code",
   "execution_count": 21,
   "metadata": {},
   "outputs": [],
   "source": [
    "target = \"health_status\"\n",
    "X = datasets[4]\n",
    "y = targets[4][target]\n",
    "# concatenate all datasets\n",
    "#X = np.concatenate(datasets, axis=0)\n",
    "#y = pd.concat(targets)[target]"
   ]
  },
  {
   "cell_type": "code",
   "execution_count": null,
   "metadata": {},
   "outputs": [
    {
     "ename": "NameError",
     "evalue": "name 'dataset_X_y' is not defined",
     "output_type": "error",
     "traceback": [
      "\u001b[0;31m---------------------------------------------------------------------------\u001b[0m",
      "\u001b[0;31mNameError\u001b[0m                                 Traceback (most recent call last)",
      "Cell \u001b[0;32mIn[9], line 2\u001b[0m\n\u001b[1;32m      1\u001b[0m \u001b[39m# print all shapes\u001b[39;00m\n\u001b[0;32m----> 2\u001b[0m \u001b[39mfor\u001b[39;00m X, y \u001b[39min\u001b[39;00m dataset_X_y\u001b[39m.\u001b[39mvalues():\n\u001b[1;32m      3\u001b[0m     \u001b[39mprint\u001b[39m(X\u001b[39m.\u001b[39mshape, y\u001b[39m.\u001b[39mshape)\n",
      "\u001b[0;31mNameError\u001b[0m: name 'dataset_X_y' is not defined"
     ]
    }
   ],
   "source": [
    "# print all shapes\n",
    "for X, y in dataset_X_y.values():\n",
    "    print(X.shape, y.shape)\n",
    "    "
   ]
  },
  {
   "cell_type": "code",
   "execution_count": 4,
   "metadata": {},
   "outputs": [],
   "source": [
    "from sklearn.preprocessing import LabelEncoder"
   ]
  },
  {
   "cell_type": "code",
   "execution_count": 50,
   "metadata": {},
   "outputs": [],
   "source": [
    "dataset_X_y = {}\n",
    "for i in range(len(datasets)):\n",
    "    X = datasets[i]\n",
    "    y = targets[i][target]\n",
    "    # label encoding\n",
    "    le = LabelEncoder()\n",
    "    y = le.fit_transform(y)\n",
    "    if np.unique(y).shape[0] > 1:\n",
    "        dataset_X_y[str(i)] = (X, y)\n",
    "# add concatenated dataset\n",
    "X = np.concatenate(datasets, axis=0)\n",
    "y = pd.concat(targets)[target]\n",
    "le = LabelEncoder()\n",
    "y = le.fit_transform(y)\n",
    "dataset_X_y[\"all\"] = (X, y)"
   ]
  },
  {
   "cell_type": "code",
   "execution_count": 51,
   "metadata": {},
   "outputs": [
    {
     "name": "stderr",
     "output_type": "stream",
     "text": [
      "/home/soda/lgrinszt/.local/miniconda3/envs/tab_pfn2/lib/python3.9/site-packages/sklearn/linear_model/_logistic.py:458: ConvergenceWarning: lbfgs failed to converge (status=1):\n",
      "STOP: TOTAL NO. of ITERATIONS REACHED LIMIT.\n",
      "\n",
      "Increase the number of iterations (max_iter) or scale the data as shown in:\n",
      "    https://scikit-learn.org/stable/modules/preprocessing.html\n",
      "Please also refer to the documentation for alternative solver options:\n",
      "    https://scikit-learn.org/stable/modules/linear_model.html#logistic-regression\n",
      "  n_iter_i = _check_optimize_result(\n"
     ]
    },
    {
     "name": "stdout",
     "output_type": "stream",
     "text": [
      "Normalizing by used features 217 400\n",
      "Normalizing by used features 2 400\n",
      "Num features used tensor([217], device='cuda:3')\n",
      "Num features 400\n"
     ]
    },
    {
     "name": "stderr",
     "output_type": "stream",
     "text": [
      "/home/soda/lgrinszt/.local/miniconda3/envs/tab_pfn2/lib/python3.9/site-packages/sklearn/linear_model/_logistic.py:458: ConvergenceWarning: lbfgs failed to converge (status=1):\n",
      "STOP: TOTAL NO. of ITERATIONS REACHED LIMIT.\n",
      "\n",
      "Increase the number of iterations (max_iter) or scale the data as shown in:\n",
      "    https://scikit-learn.org/stable/modules/preprocessing.html\n",
      "Please also refer to the documentation for alternative solver options:\n",
      "    https://scikit-learn.org/stable/modules/linear_model.html#logistic-regression\n",
      "  n_iter_i = _check_optimize_result(\n"
     ]
    },
    {
     "name": "stdout",
     "output_type": "stream",
     "text": [
      "Normalizing by used features 217 400\n",
      "Normalizing by used features 2 400\n",
      "Num features used tensor([217], device='cuda:3')\n",
      "Num features 400\n"
     ]
    },
    {
     "name": "stderr",
     "output_type": "stream",
     "text": [
      "/home/soda/lgrinszt/.local/miniconda3/envs/tab_pfn2/lib/python3.9/site-packages/sklearn/linear_model/_logistic.py:458: ConvergenceWarning: lbfgs failed to converge (status=1):\n",
      "STOP: TOTAL NO. of ITERATIONS REACHED LIMIT.\n",
      "\n",
      "Increase the number of iterations (max_iter) or scale the data as shown in:\n",
      "    https://scikit-learn.org/stable/modules/preprocessing.html\n",
      "Please also refer to the documentation for alternative solver options:\n",
      "    https://scikit-learn.org/stable/modules/linear_model.html#logistic-regression\n",
      "  n_iter_i = _check_optimize_result(\n"
     ]
    },
    {
     "name": "stdout",
     "output_type": "stream",
     "text": [
      "Normalizing by used features 217 400\n",
      "Normalizing by used features 2 400\n",
      "Num features used tensor([217], device='cuda:3')\n",
      "Num features 400\n",
      "Normalizing by used features 217 400\n",
      "Normalizing by used features 2 400\n",
      "Num features used tensor([217], device='cuda:3')\n",
      "Num features 400\n",
      "Normalizing by used features 217 400\n",
      "Normalizing by used features 2 400\n",
      "Num features used tensor([217], device='cuda:3')\n",
      "Num features 400\n",
      "Normalizing by used features 217 400\n",
      "Normalizing by used features 2 400\n",
      "Num features used tensor([217], device='cuda:3')\n",
      "Num features 400\n",
      "Normalizing by used features 217 400\n",
      "Normalizing by used features 2 400\n",
      "Num features used tensor([217], device='cuda:3')\n",
      "Num features 400\n",
      "Normalizing by used features 217 400\n",
      "Normalizing by used features 2 400\n",
      "Num features used tensor([217], device='cuda:3')\n",
      "Num features 400\n",
      "Normalizing by used features 217 400\n",
      "Normalizing by used features 2 400\n",
      "Num features used tensor([217], device='cuda:3')\n",
      "Num features 400\n"
     ]
    },
    {
     "name": "stderr",
     "output_type": "stream",
     "text": [
      "/home/soda/lgrinszt/.local/miniconda3/envs/tab_pfn2/lib/python3.9/site-packages/sklearn/linear_model/_logistic.py:458: ConvergenceWarning: lbfgs failed to converge (status=1):\n",
      "STOP: TOTAL NO. of ITERATIONS REACHED LIMIT.\n",
      "\n",
      "Increase the number of iterations (max_iter) or scale the data as shown in:\n",
      "    https://scikit-learn.org/stable/modules/preprocessing.html\n",
      "Please also refer to the documentation for alternative solver options:\n",
      "    https://scikit-learn.org/stable/modules/linear_model.html#logistic-regression\n",
      "  n_iter_i = _check_optimize_result(\n"
     ]
    },
    {
     "name": "stdout",
     "output_type": "stream",
     "text": [
      "Normalizing by used features 217 400\n",
      "Normalizing by used features 2 400\n",
      "Num features used tensor([217], device='cuda:3')\n",
      "Num features 400\n"
     ]
    },
    {
     "name": "stderr",
     "output_type": "stream",
     "text": [
      "/home/soda/lgrinszt/.local/miniconda3/envs/tab_pfn2/lib/python3.9/site-packages/sklearn/linear_model/_logistic.py:458: ConvergenceWarning: lbfgs failed to converge (status=1):\n",
      "STOP: TOTAL NO. of ITERATIONS REACHED LIMIT.\n",
      "\n",
      "Increase the number of iterations (max_iter) or scale the data as shown in:\n",
      "    https://scikit-learn.org/stable/modules/preprocessing.html\n",
      "Please also refer to the documentation for alternative solver options:\n",
      "    https://scikit-learn.org/stable/modules/linear_model.html#logistic-regression\n",
      "  n_iter_i = _check_optimize_result(\n"
     ]
    },
    {
     "name": "stdout",
     "output_type": "stream",
     "text": [
      "Normalizing by used features 217 400\n",
      "Normalizing by used features 2 400\n",
      "Num features used tensor([217], device='cuda:3')\n",
      "Num features 400\n"
     ]
    },
    {
     "name": "stderr",
     "output_type": "stream",
     "text": [
      "/home/soda/lgrinszt/.local/miniconda3/envs/tab_pfn2/lib/python3.9/site-packages/sklearn/linear_model/_logistic.py:458: ConvergenceWarning: lbfgs failed to converge (status=1):\n",
      "STOP: TOTAL NO. of ITERATIONS REACHED LIMIT.\n",
      "\n",
      "Increase the number of iterations (max_iter) or scale the data as shown in:\n",
      "    https://scikit-learn.org/stable/modules/preprocessing.html\n",
      "Please also refer to the documentation for alternative solver options:\n",
      "    https://scikit-learn.org/stable/modules/linear_model.html#logistic-regression\n",
      "  n_iter_i = _check_optimize_result(\n"
     ]
    },
    {
     "name": "stdout",
     "output_type": "stream",
     "text": [
      "Normalizing by used features 217 400\n",
      "Normalizing by used features 2 400\n",
      "Num features used tensor([217], device='cuda:3')\n",
      "Num features 400\n",
      "Normalizing by used features 217 400\n",
      "Normalizing by used features 2 400\n",
      "Num features used tensor([217], device='cuda:3')\n",
      "Num features 400\n",
      "Normalizing by used features 217 400\n",
      "Normalizing by used features 2 400\n",
      "Num features used tensor([217], device='cuda:3')\n",
      "Num features 400\n",
      "Normalizing by used features 217 400\n",
      "Normalizing by used features 2 400\n",
      "Num features used tensor([217], device='cuda:3')\n",
      "Num features 400\n",
      "Normalizing by used features 217 400\n",
      "Normalizing by used features 2 400\n",
      "Num features used tensor([217], device='cuda:3')\n",
      "Num features 400\n",
      "Normalizing by used features 217 400\n",
      "Normalizing by used features 2 400\n",
      "Num features used tensor([217], device='cuda:3')\n",
      "Num features 400\n",
      "Normalizing by used features 217 400\n",
      "Normalizing by used features 2 400\n",
      "Num features used tensor([217], device='cuda:3')\n",
      "Num features 400\n",
      "Normalizing by used features 217 400\n",
      "Normalizing by used features 2 400\n",
      "Num features used tensor([217], device='cuda:3')\n",
      "Num features 400\n"
     ]
    },
    {
     "name": "stderr",
     "output_type": "stream",
     "text": [
      "/home/soda/lgrinszt/.local/miniconda3/envs/tab_pfn2/lib/python3.9/site-packages/sklearn/linear_model/_logistic.py:458: ConvergenceWarning: lbfgs failed to converge (status=1):\n",
      "STOP: TOTAL NO. of ITERATIONS REACHED LIMIT.\n",
      "\n",
      "Increase the number of iterations (max_iter) or scale the data as shown in:\n",
      "    https://scikit-learn.org/stable/modules/preprocessing.html\n",
      "Please also refer to the documentation for alternative solver options:\n",
      "    https://scikit-learn.org/stable/modules/linear_model.html#logistic-regression\n",
      "  n_iter_i = _check_optimize_result(\n"
     ]
    },
    {
     "name": "stdout",
     "output_type": "stream",
     "text": [
      "Normalizing by used features 217 400\n",
      "Normalizing by used features 2 400\n",
      "Num features used tensor([217], device='cuda:3')\n",
      "Num features 400\n"
     ]
    },
    {
     "name": "stderr",
     "output_type": "stream",
     "text": [
      "/home/soda/lgrinszt/.local/miniconda3/envs/tab_pfn2/lib/python3.9/site-packages/sklearn/linear_model/_logistic.py:458: ConvergenceWarning: lbfgs failed to converge (status=1):\n",
      "STOP: TOTAL NO. of ITERATIONS REACHED LIMIT.\n",
      "\n",
      "Increase the number of iterations (max_iter) or scale the data as shown in:\n",
      "    https://scikit-learn.org/stable/modules/preprocessing.html\n",
      "Please also refer to the documentation for alternative solver options:\n",
      "    https://scikit-learn.org/stable/modules/linear_model.html#logistic-regression\n",
      "  n_iter_i = _check_optimize_result(\n"
     ]
    },
    {
     "name": "stdout",
     "output_type": "stream",
     "text": [
      "Normalizing by used features 217 400\n",
      "Normalizing by used features 2 400\n",
      "Num features used tensor([217], device='cuda:3')\n",
      "Num features 400\n"
     ]
    },
    {
     "name": "stderr",
     "output_type": "stream",
     "text": [
      "/home/soda/lgrinszt/.local/miniconda3/envs/tab_pfn2/lib/python3.9/site-packages/sklearn/linear_model/_logistic.py:458: ConvergenceWarning: lbfgs failed to converge (status=1):\n",
      "STOP: TOTAL NO. of ITERATIONS REACHED LIMIT.\n",
      "\n",
      "Increase the number of iterations (max_iter) or scale the data as shown in:\n",
      "    https://scikit-learn.org/stable/modules/preprocessing.html\n",
      "Please also refer to the documentation for alternative solver options:\n",
      "    https://scikit-learn.org/stable/modules/linear_model.html#logistic-regression\n",
      "  n_iter_i = _check_optimize_result(\n"
     ]
    },
    {
     "name": "stdout",
     "output_type": "stream",
     "text": [
      "Normalizing by used features 217 400\n",
      "Normalizing by used features 2 400\n",
      "Num features used tensor([217], device='cuda:3')\n",
      "Num features 400\n"
     ]
    },
    {
     "name": "stderr",
     "output_type": "stream",
     "text": [
      "/home/soda/lgrinszt/.local/miniconda3/envs/tab_pfn2/lib/python3.9/site-packages/sklearn/linear_model/_logistic.py:458: ConvergenceWarning: lbfgs failed to converge (status=1):\n",
      "STOP: TOTAL NO. of ITERATIONS REACHED LIMIT.\n",
      "\n",
      "Increase the number of iterations (max_iter) or scale the data as shown in:\n",
      "    https://scikit-learn.org/stable/modules/preprocessing.html\n",
      "Please also refer to the documentation for alternative solver options:\n",
      "    https://scikit-learn.org/stable/modules/linear_model.html#logistic-regression\n",
      "  n_iter_i = _check_optimize_result(\n"
     ]
    },
    {
     "name": "stdout",
     "output_type": "stream",
     "text": [
      "Normalizing by used features 217 400\n",
      "Normalizing by used features 2 400\n",
      "Num features used tensor([217], device='cuda:3')\n",
      "Num features 400\n"
     ]
    },
    {
     "name": "stderr",
     "output_type": "stream",
     "text": [
      "/home/soda/lgrinszt/.local/miniconda3/envs/tab_pfn2/lib/python3.9/site-packages/sklearn/linear_model/_logistic.py:458: ConvergenceWarning: lbfgs failed to converge (status=1):\n",
      "STOP: TOTAL NO. of ITERATIONS REACHED LIMIT.\n",
      "\n",
      "Increase the number of iterations (max_iter) or scale the data as shown in:\n",
      "    https://scikit-learn.org/stable/modules/preprocessing.html\n",
      "Please also refer to the documentation for alternative solver options:\n",
      "    https://scikit-learn.org/stable/modules/linear_model.html#logistic-regression\n",
      "  n_iter_i = _check_optimize_result(\n"
     ]
    },
    {
     "name": "stdout",
     "output_type": "stream",
     "text": [
      "Normalizing by used features 217 400\n",
      "Normalizing by used features 2 400\n",
      "Num features used tensor([217], device='cuda:3')\n",
      "Num features 400\n"
     ]
    }
   ],
   "source": [
    "model_names = [\"Random Forest\", \"Lasso\", \"L2\", \"Gradient Boosting\", \"TabPFN\"]\n",
    "models = [rf, clf_lasso, clf_l2, gbt, model]\n",
    "n_folds = 3\n",
    "n_datasets = len(datasets)\n",
    "scores = np.zeros((n_datasets, n_folds, len(models)))\n",
    "for dataset_index, (X, y) in enumerate(dataset_X_y.values()):\n",
    "    for i in range(n_folds):\n",
    "        X_train, X_test, y_train, y_test = train_test_split(X, y, test_size=0.2, random_state=i)\n",
    "        if len(np.unique(y_train)) > 1:\n",
    "            for model_name, model in zip(model_names, models):\n",
    "                if \"TabPFN\" in model_name:\n",
    "                    model.fit(X_train, y_train, overwrite_warning=True)\n",
    "                else:\n",
    "                    model.fit(X_train, y_train)\n",
    "                y_pred = model.predict(X_test)\n",
    "                scores[dataset_index, i, model_names.index(model_name)] = balanced_accuracy_score(y_test, y_pred)\n",
    "        else:\n",
    "            print(\"Only one class in the dataset, skipping\")\n",
    "            scores[dataset_index, i, :] = np.nan"
   ]
  },
  {
   "cell_type": "code",
   "execution_count": 52,
   "metadata": {},
   "outputs": [],
   "source": [
    "# invert axis 1 and 2\n",
    "scores = np.swapaxes(scores, 1, 2)"
   ]
  },
  {
   "cell_type": "code",
   "execution_count": 53,
   "metadata": {},
   "outputs": [
    {
     "data": {
      "image/png": "[encoded data removed]",
      "text/plain": [
       "<Figure size 2500x1000 with 9 Axes>"
      ]
     },
     "metadata": {},
     "output_type": "display_data"
    }
   ],
   "source": [
    "import matplotlib.pyplot as plt\n",
    "fig, axes = plt.subplots(nrows=1, ncols=n_datasets, figsize=(25, 10))\n",
    "for i, dataset_id in enumerate(dataset_X_y.keys()):\n",
    "    for j, (model_name, model) in enumerate(zip(model_names, models)):\n",
    "        if \"TabPFN\" in model_name:\n",
    "            # fill box in red\n",
    "            if \"original\" in model_name:\n",
    "                axes[i].boxplot(scores[i, model_names.index(model_name), :], positions=[model_names.index(model_name)], widths=0.6, boxprops=dict(color=\"green\"))\n",
    "            else:\n",
    "                axes[i].boxplot(scores[i, model_names.index(model_name), :], positions=[model_names.index(model_name)], widths=0.6, boxprops=dict(color=\"red\"))\n",
    "        else:\n",
    "            axes[i].boxplot(scores[i, model_names.index(model_name), :], positions=[model_names.index(model_name)], widths=0.6, boxprops=dict(color=\"blue\"))\n",
    "        axes[i].set_xticks(range(len(model_names)))\n",
    "        axes[i].set_xticklabels(model_names)\n",
    "        axes[i].set_title(f\"dataset {dataset_id}\")\n",
    "        axes[i].set_ylabel(\"balanced accuracy\")\n",
    "        axes[i].grid(True)\n",
    "        # rotate x tick labels\n",
    "        for tick in axes[i].get_xticklabels():\n",
    "            tick.set_rotation(90)\n",
    "            \n",
    "# equalize y axis\n",
    "for ax in axes:\n",
    "    ax.set_ylim(0.3, 0.8)\n",
    "    \n"
   ]
  },
  {
   "attachments": {},
   "cell_type": "markdown",
   "metadata": {},
   "source": [
    "## Dimensionality reduction\n",
    "\n",
    "Here we aim at reduce dimensionality of the MSP as probably only a subset of them is informative. We thus perform PCA.\n",
    "\n",
    "*Disclaimer: Linear dimensionality reduction method are know to perform bad on microbiome data, it is a toy example*"
   ]
  },
  {
   "attachments": {},
   "cell_type": "markdown",
   "metadata": {},
   "source": [
    "We create two toy models :\n",
    " - `IndependentPCA` that takes as input a list of datasets, and apply a PCA to each of them. \n",
    " - `GlobalPCA` that takes as input a list of datasets, and concatenates them before applying a single global PCA.\n",
    "\n",
    "We set the number of components `n_components=6` as they are 113 remaining MSP (which corresponds to keeping roughly ~$5\\%$ of them) with the prevalence threshold we used.\n",
    "\n",
    "*Note : For the PCA of $X$, we use the formalism $X \\simeq SL$, with $X \\in \\mathbb{R}^{n \\times p}, S \\in \\mathbb{R}^{n \\times k}, L \\in \\mathbb{R}^{k \\times p}$, with $S$ being denoted as the **scores** matrix and $L$ being denoted as the **loadings** matrix.*"
   ]
  },
  {
   "cell_type": "code",
   "execution_count": 21,
   "metadata": {},
   "outputs": [],
   "source": [
    "from sklearn.decomposition import PCA\n",
    "from sklearn.base import TransformerMixin\n",
    "\n",
    "class IndependentPCA(TransformerMixin):\n",
    "    \"\"\"Apply one PCA per dataset\"\"\"\n",
    "    def __init__(self, n_components):\n",
    "        self.n_components = n_components\n",
    "        self.all_S = [] # The scores matrices\n",
    "        self.all_L = [] # The loadings matrices\n",
    "        \n",
    "    def fit(self, X, y=None):\n",
    "        self.pcas_ = []\n",
    "        for i in range(len(X)):\n",
    "            pca = PCA(n_components=self.n_components)\n",
    "            pca.fit(X[i])\n",
    "            self.all_S.append(pca.transform(X[i]))\n",
    "            self.all_L.append(pca.components_)\n",
    "            self.pcas_.append(pca)\n",
    "        return self\n",
    "\n",
    "    def transform(self, X, y=None):\n",
    "        return self.all_S\n",
    "    \n",
    "class GlobalPCA(TransformerMixin):\n",
    "    def __init__(self, n_components):\n",
    "        self.n_components = n_components\n",
    "        self.all_S = [] # The scores matrices\n",
    "        self.all_L = [] # The loadings matrices\n",
    "        \n",
    "    def fit(self, X, y=None):\n",
    "\n",
    "        X_concat = np.concatenate(X) # concatenate all datasets\n",
    "        pca = PCA(n_components=self.n_components)\n",
    "        pca.fit(X_concat) # apply one global PCA\n",
    "        self.all_L = [pca.components_ for _ in range(len(X))]# construct one loadings matrix for each input dataset\n",
    "        for i in range(len(X)):\n",
    "            S = pca.transform(X[i])\n",
    "            self.all_S.append(S) # construct one score matrix for each input dataset\n",
    "        return self\n",
    "\n",
    "    def transform(self, X, y=None):\n",
    "        return self.all_S"
   ]
  },
  {
   "cell_type": "code",
   "execution_count": 22,
   "metadata": {},
   "outputs": [],
   "source": [
    "models = {'IndependentPCA': IndependentPCA(n_components=6),\n",
    "          'GlobalPCA': GlobalPCA(n_components=6)}"
   ]
  },
  {
   "attachments": {},
   "cell_type": "markdown",
   "metadata": {},
   "source": [
    "### Prediction of third-party targets\n",
    "\n",
    "We now fit each model on the complete datasets, and we predict third-party targets, to assess the relevance of the latent features.\n",
    "\n",
    "More specifically, I illustrate this approach on two points :\n",
    " - *Regression tasks* : \n",
    "   - Prediction of the **BMI** (the weight)\n",
    "   - Prediction of the **GeneRichness** (a measure of the gene diversity of the sample that is shown to correlate well with multiple metabolic factors)\n",
    " - *Classification tasks* :\n",
    "   - Prediction of the **health_status** (`P` for *patient* or `H` for *healthy*)\n",
    "   - Prediction of the **host_subphenotype** (The stage of the disease)\n",
    "\n",
    "(`WARNING`: I don't remember to what do correspond the metrics I used for the `XGBClassifier` and `XGBRegressor` haha....)"
   ]
  },
  {
   "cell_type": "code",
   "execution_count": 18,
   "metadata": {},
   "outputs": [
    {
     "name": "stderr",
     "output_type": "stream",
     "text": [
      "/home/soda/lgrinszt/.local/miniconda3/envs/tab_pfn2/lib/python3.9/site-packages/xgboost/compat.py:31: FutureWarning: pandas.Int64Index is deprecated and will be removed from pandas in a future version. Use pandas.Index with the appropriate dtype instead.\n",
      "  from pandas import MultiIndex, Int64Index\n"
     ]
    }
   ],
   "source": [
    "from sklearn.preprocessing import LabelEncoder\n",
    "from xgboost import XGBClassifier, XGBRegressor\n",
    "from sklearn.model_selection import train_test_split\n",
    "from sklearn.metrics import accuracy_score"
   ]
  },
  {
   "cell_type": "code",
   "execution_count": 23,
   "metadata": {},
   "outputs": [],
   "source": [
    "# Fit each model on the complete datasets\n",
    "for model_name, model in models.items():\n",
    "    model.fit(datasets, y=None)\n",
    "    models[model_name] = model"
   ]
  },
  {
   "cell_type": "code",
   "execution_count": 24,
   "metadata": {},
   "outputs": [],
   "source": [
    "## Helper functions for comparing the performances of the models\n",
    "\n",
    "def extract_classification_target(df, target_name):\n",
    "    \"\"\"Binarize the classification target.\"\"\"\n",
    "    new_df = df.copy()\n",
    "    target_arr = new_df[target_name].to_numpy()\n",
    "    is_nan = pd.isna(target_arr)\n",
    "    # We have to replace NaN by str, in order to find uniques elements\n",
    "    # Then we transform them back to NaN\n",
    "    target_arr[is_nan] = 'nan'\n",
    "    le = LabelEncoder()\n",
    "    y = le.fit_transform(target_arr)\n",
    "    y = np.where(is_nan, np.nan, y)\n",
    "    return y\n",
    "\n",
    "\n",
    "def compare_models(models, targets, target_name='target', type='regression'):\n",
    "    \"\"\"Compare the predictions of the models either on `regression` or on `classification` targets.\n",
    "    \n",
    "    Parameters\n",
    "    ----------\n",
    "    models : dict\n",
    "        Dictionary of models to evaluate.\n",
    "    targets : list of 1D-arrays\n",
    "        list containing the target values for each dataset.\n",
    "    target_name : str, default='target'\n",
    "        Name of the target variable.\n",
    "    type : str, default='regression'\n",
    "        Type of target to evaluate the models on. Any of {'regression', 'classification'}.\n",
    "    \"\"\"\n",
    "\n",
    "    if type == 'regression':\n",
    "        estimator = XGBRegressor()\n",
    "    elif type == 'classification':\n",
    "        estimator = XGBClassifier()\n",
    "    else:\n",
    "        raise ValueError('type must be either \"regression\" or \"classification\"')\n",
    "    train_score, test_score = {}, {}\n",
    "    for model_name, model in models.items():\n",
    "        latent_representations = model.all_S\n",
    "        train_score[model_name], test_score[model_name] = [], []\n",
    "        for i, dataset in enumerate(latent_representations):\n",
    "            y = targets[i][~np.isnan(targets[i])]\n",
    "            x = dataset[~np.isnan(targets[i])]\n",
    "            try:\n",
    "                if type == 'classification':\n",
    "                    x_train, x_test, y_train, y_test=train_test_split(x, y, test_size=0.3, stratify=y)\n",
    "                else: # type == 'regression'\n",
    "                    x_train, x_test, y_train, y_test=train_test_split(x, y, test_size=0.3)\n",
    "                estimator.fit(x_train, y_train)\n",
    "                if type == 'classification':\n",
    "                    y_pred_train = estimator.predict(x_train)\n",
    "                    y_pred_test = estimator.predict(x_test)\n",
    "                    train_score[model_name].append(accuracy_score(y_train, y_pred_train))\n",
    "                    test_score[model_name].append(accuracy_score(y_test, y_pred_test))\n",
    "                else: # type == 'regression'\n",
    "                    train_score[model_name].append(estimator.score(x_train, y_train))\n",
    "                    test_score[model_name].append(estimator.score(x_test, y_test))\n",
    "            except: # Not enough data\n",
    "                print('pass')\n",
    "                pass\n",
    "    fig, axs = plt.subplots(1,2,figsize=(15,10))\n",
    "    axs[0].boxplot(train_score.values(), labels=train_score.keys())\n",
    "    axs[0].title.set_text('Train score for the {} prediction'.format(target_name))\n",
    "    axs[0].legend()\n",
    "    axs[1].boxplot(test_score.values(), labels=test_score.keys())\n",
    "    axs[1].title.set_text('Test score for the {} prediction'.format(target_name))\n",
    "    axs[1].legend()\n",
    "    plt.show()\n"
   ]
  },
  {
   "cell_type": "code",
   "execution_count": 25,
   "metadata": {},
   "outputs": [
    {
     "name": "stdout",
     "output_type": "stream",
     "text": [
      "pass\n",
      "pass\n"
     ]
    },
    {
     "ename": "",
     "evalue": "",
     "output_type": "error",
     "traceback": [
      "\u001b[1;31mCanceled future for execute_request message before replies were done"
     ]
    }
   ],
   "source": [
    "classification_targets = ['host_subphenotype','health_status']\n",
    "regression_targets = []#['BMI','GeneRichness']\n",
    "\n",
    "# Format the targets\n",
    "all_targets = {}\n",
    "for regression_target in regression_targets:\n",
    "    all_targets[regression_target] = [target[regression_target] for target in targets]\n",
    "for classification_target in classification_targets:\n",
    "    all_targets[classification_target] = [extract_classification_target(df=target, target_name=classification_target).flatten() for target in targets]\n",
    "\n",
    "for target in regression_targets:\n",
    "    compare_models(models=models, targets=all_targets[target], target_name=target, type='regression')\n",
    "for target in classification_targets:\n",
    "    compare_models(models=models, targets=all_targets[target], target_name=target, type='classification')"
   ]
  },
  {
   "cell_type": "code",
   "execution_count": null,
   "metadata": {},
   "outputs": [],
   "source": []
  }
 ],
 "metadata": {
  "kernelspec": {
   "display_name": "Python 3 (ipykernel)",
   "language": "python",
   "name": "python3"
  },
  "language_info": {
   "codemirror_mode": {
    "name": "ipython",
    "version": 3
   },
   "file_extension": ".py",
   "mimetype": "text/x-python",
   "name": "python",
   "nbconvert_exporter": "python",
   "pygments_lexer": "ipython3",
   "version": "3.9.16"
  },
  "vscode": {
   "interpreter": {
    "hash": "767d51c1340bd893661ea55ea3124f6de3c7a262a8b4abca0554b478b1e2ff90"
   }
  }
 },
 "nbformat": 4,
 "nbformat_minor": 2
}
